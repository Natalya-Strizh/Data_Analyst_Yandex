{
 "cells": [
  {
   "cell_type": "markdown",
   "id": "f3e1474f-4343-4624-a50f-fa6780aec777",
   "metadata": {},
   "source": [
    "# Определение прибыльного тарифа сотовой связи"
   ]
  },
  {
   "cell_type": "markdown",
   "id": "7fe7d5c8-2534-460b-bf35-72d9d8bac1d2",
   "metadata": {},
   "source": [
    "«Мегалайн» — федеральный оператор сотовой связи. Клиентам предлагают два тарифных плана: «Смарт» и «Ультра». Чтобы скорректировать рекламный бюджет, коммерческий департамент хочет понять, какой тариф приносит больше денег.\n",
    "Нам предстоит сделать предварительный анализ тарифов на небольшой выборке клиентов. В нашем распоряжении данные 500 пользователей «Мегалайна»: кто они, откуда, каким тарифом пользуются, сколько звонков и сообщений каждый отправил за 2018-й год. Необходимо проанализировать поведение клиентов и сделать вывод — какой тариф лучше."
   ]
  },
  {
   "cell_type": "markdown",
   "id": "6b5b542e-5df2-4a69-8a8a-c42ffaff3906",
   "metadata": {},
   "source": [
    "**Описание тарифов**\n",
    "\n",
    "**Тариф «Смарт»**\n",
    "* Ежемесячная плата: 550 рублей\n",
    "* Включено 500 минут разговора, 50 сообщений и 15 Гб интернет-трафика\n",
    "* Стоимость услуг сверх тарифного пакета:\n",
    "* Минута разговора — 3 рубля. Количество использованных минут и мегабайтов «Мегалайн» всегда округляет вверх. Если пользователь проговорил всего 1 секунду, в тарифе засчитывается целая минута.\n",
    "* Сообщение — 3 рубля.\n",
    "* 1 Гб интернет-трафика — 200 рублей.\n",
    "  \n",
    "**Тариф «Ультра»**\n",
    "* Ежемесячная плата: 1950 рублей\n",
    "* Включено 3000 минут разговора, 1000 сообщений и 30 Гб интернет-трафика\n",
    "* Стоимость услуг сверх тарифного пакета:\n",
    "* Минута разговора — 1 рубль;\n",
    "* Сообщение — 1 рубль;\n",
    "* 1 Гб интернет-трафика: 150 рублей."
   ]
  },
  {
   "cell_type": "markdown",
   "id": "51810e5e-6740-451c-aeb3-1c871a688e7d",
   "metadata": {},
   "source": [
    "**План.**\n",
    "1. [Загрузка данных и изучение общей информации.](#section_id_1)\n",
    "2. [Подготовка данных.](#section_id_2)\n",
    "* 2.1. Привести данные к нужным типам.\n",
    "* 2.2. Найти и исправить ошибки, если они есть.\n",
    "* 2.3. Посчитать количество сделанных звонков для каждого пользователя по месяцам.\n",
    "* 2.4. Посчитать количество израсходованных минут разговора для каждого пользователя по месяцам.\n",
    "* 2.5. Посчитать количество отправленных сообщений для каждого пользователя по месяцам.\n",
    "* 2.6. Посчитать количество потраченных мегабайт для каждого пользователя по месяцам.\n",
    "3. [Анализ данных и подсчёт выручки.](#section_id_2)\n",
    "* 3.1.  Объединить все посчитанные выше значения в новый датафрейм. Посчитать поместную выручку с каждого пользователя.\n",
    "* 3.2. Сохнанить статистические метрики для каждой пары месяц-тариф\n",
    "в одной таблице (среднее значение, стандартное отклонение, медиана).\n",
    "* 3.3. Построить распределения количества звонков, продолжительности звонков, количества сообщений и потраченного графика по месяцам с разрезе тарифов. Сделать выводы.\n",
    "4. [Проверка гипотез.](#section_id_4)\n",
    "* 4.1 Средняя выручка с пользователей тарифов \"Ультра\" и \"Смарт\" различаются.\n",
    "* 4.2 Средняя выручка с пользователей из Москвы отличается от выручки с пользователей других регионов.\n",
    "5. [Общий вывод.](#section_id_5)"
   ]
  },
  {
   "cell_type": "markdown",
   "id": "564600fb-653e-4a55-b3e3-2e4a73d5aa76",
   "metadata": {},
   "source": [
    "**Описание данных**\n",
    "\n",
    "**Таблица users — информация о пользователях:** \n",
    "* `user_id` — уникальный идентификатор пользователя\n",
    "* `first_name` — имя пользователя\n",
    "* `last_name` — фамилия пользователя\n",
    "* `age` — возраст пользователя (годы)\n",
    "* `reg_date` — дата подключения тарифа (день, месяц, год)\n",
    "* `churn_date` — дата прекращения пользования тарифом (если значение пропущено, значит, тариф ещё действовал на момент выгрузки данных)\n",
    "* `city` — город проживания пользователя\n",
    "* `tarif` — название тарифного плана\n",
    "\n",
    "**Таблица calls — информация о звонках:**\n",
    "* `id` — уникальный номер звонка\n",
    "* `call_date` — дата звонка\n",
    "* `duration` — длительность звонка в минутах\n",
    "* `user_id` — идентификатор пользователя, сделавшего звонок\n",
    "\n",
    "**Таблица messages — информация о сообщениях:**\n",
    "* `id` — уникальный номер звонка\n",
    "* `message_date` — дата сообщения\n",
    "* `user_id` — идентификатор пользователя, отправившего сообщение\n",
    "\n",
    "**Таблица internet — информация об интернет-сессиях:**\n",
    "* `id` — уникальный номер сессии\n",
    "* `mb_used` — объём потраченного за сессию интернет-трафика (в мегабайтах)\n",
    "* `session_date` — дата интернет-сессии\n",
    "* `user_id` — идентификатор пользователя\n",
    "\n",
    "**Таблица tariffs — информация о тарифах:**\n",
    "* `tariff_name` — название тарифа\n",
    "* `rub_monthly_fee` — ежемесячная абонентская плата в рублях\n",
    "* `minutes_included` — количество минут разговора в месяц, включённых в абонентскую плату\n",
    "* `messages_included` — количество сообщений в месяц, включённых в абонентскую плату\n",
    "* `mb_per_month_included` — объём интернет-трафика, включённого в абонентскую плату (в мегабайтах)\n",
    "* `rub_per_minute` — стоимость минуты разговора сверх тарифного пакета (например, если в тарифе 100 минут разговора в месяц, то со 101 минуты будет взиматься плата)\n",
    "* `rub_per_message` — стоимость отправки сообщения сверх тарифного пакета\n",
    "* `rub_per_gb` — стоимость дополнительного гигабайта интернет-трафика сверх тарифного пакета (1 гигабайт = 1024 мегабайта)"
   ]
  },
  {
   "cell_type": "markdown",
   "id": "67bcc93b-dbe1-45eb-ae39-e7c8ee951373",
   "metadata": {},
   "source": [
    "## 1. Загрузка данных и изучение общей информации.<a id='section_id_1'></a>"
   ]
  },
  {
   "cell_type": "code",
   "execution_count": 1,
   "id": "4a381e4a-3d09-4d6a-8fec-a9d21d1faf3c",
   "metadata": {},
   "outputs": [],
   "source": [
    "import pandas as pd\n",
    "import matplotlib.pyplot as plt\n",
    "import numpy as np\n",
    "import seaborn as sns\n",
    "from scipy import stats as st"
   ]
  },
  {
   "cell_type": "markdown",
   "id": "d436f1b4-ad51-4f81-aa7f-5e64e20410c1",
   "metadata": {},
   "source": [
    "* Файл `calls.csv`"
   ]
  },
  {
   "cell_type": "code",
   "execution_count": 2,
   "id": "dca213b2-8980-44cb-afe7-fd34c827d272",
   "metadata": {},
   "outputs": [
    {
     "data": {
      "text/html": [
       "<div>\n",
       "<style scoped>\n",
       "    .dataframe tbody tr th:only-of-type {\n",
       "        vertical-align: middle;\n",
       "    }\n",
       "\n",
       "    .dataframe tbody tr th {\n",
       "        vertical-align: top;\n",
       "    }\n",
       "\n",
       "    .dataframe thead th {\n",
       "        text-align: right;\n",
       "    }\n",
       "</style>\n",
       "<table border=\"1\" class=\"dataframe\">\n",
       "  <thead>\n",
       "    <tr style=\"text-align: right;\">\n",
       "      <th></th>\n",
       "      <th>id</th>\n",
       "      <th>call_date</th>\n",
       "      <th>duration</th>\n",
       "      <th>user_id</th>\n",
       "    </tr>\n",
       "  </thead>\n",
       "  <tbody>\n",
       "    <tr>\n",
       "      <th>0</th>\n",
       "      <td>1000_0</td>\n",
       "      <td>2018-07-25</td>\n",
       "      <td>0.00</td>\n",
       "      <td>1000</td>\n",
       "    </tr>\n",
       "    <tr>\n",
       "      <th>1</th>\n",
       "      <td>1000_1</td>\n",
       "      <td>2018-08-17</td>\n",
       "      <td>0.00</td>\n",
       "      <td>1000</td>\n",
       "    </tr>\n",
       "    <tr>\n",
       "      <th>2</th>\n",
       "      <td>1000_2</td>\n",
       "      <td>2018-06-11</td>\n",
       "      <td>2.85</td>\n",
       "      <td>1000</td>\n",
       "    </tr>\n",
       "    <tr>\n",
       "      <th>3</th>\n",
       "      <td>1000_3</td>\n",
       "      <td>2018-09-21</td>\n",
       "      <td>13.80</td>\n",
       "      <td>1000</td>\n",
       "    </tr>\n",
       "    <tr>\n",
       "      <th>4</th>\n",
       "      <td>1000_4</td>\n",
       "      <td>2018-12-15</td>\n",
       "      <td>5.18</td>\n",
       "      <td>1000</td>\n",
       "    </tr>\n",
       "  </tbody>\n",
       "</table>\n",
       "</div>"
      ],
      "text/plain": [
       "       id   call_date  duration  user_id\n",
       "0  1000_0  2018-07-25      0.00     1000\n",
       "1  1000_1  2018-08-17      0.00     1000\n",
       "2  1000_2  2018-06-11      2.85     1000\n",
       "3  1000_3  2018-09-21     13.80     1000\n",
       "4  1000_4  2018-12-15      5.18     1000"
      ]
     },
     "execution_count": 2,
     "metadata": {},
     "output_type": "execute_result"
    }
   ],
   "source": [
    "calls = pd.read_csv('calls.csv')\n",
    "calls.head()"
   ]
  },
  {
   "cell_type": "code",
   "execution_count": 3,
   "id": "8fb8c205-250f-408f-849b-be7f83b4d31d",
   "metadata": {},
   "outputs": [
    {
     "name": "stdout",
     "output_type": "stream",
     "text": [
      "<class 'pandas.core.frame.DataFrame'>\n",
      "RangeIndex: 202607 entries, 0 to 202606\n",
      "Data columns (total 4 columns):\n",
      " #   Column     Non-Null Count   Dtype  \n",
      "---  ------     --------------   -----  \n",
      " 0   id         202607 non-null  object \n",
      " 1   call_date  202607 non-null  object \n",
      " 2   duration   202607 non-null  float64\n",
      " 3   user_id    202607 non-null  int64  \n",
      "dtypes: float64(1), int64(1), object(2)\n",
      "memory usage: 6.2+ MB\n"
     ]
    }
   ],
   "source": [
    "calls.info()"
   ]
  },
  {
   "cell_type": "markdown",
   "id": "3a34d4df-f072-4a7d-9ca3-6f39de8400cc",
   "metadata": {},
   "source": [
    "Выведем гистограмму для столбца с продолжительностью звонков."
   ]
  },
  {
   "cell_type": "code",
   "execution_count": 4,
   "id": "c57286d3-d327-4000-93c2-674e58770565",
   "metadata": {},
   "outputs": [
    {
     "data": {
      "image/png": "[encoded data removed]",
      "text/plain": [
       "<Figure size 500x300 with 1 Axes>"
      ]
     },
     "metadata": {},
     "output_type": "display_data"
    }
   ],
   "source": [
    "plt.figure(figsize=(5, 3))\n",
    "calls['duration'].hist(bins=4)\n",
    "plt.title('Гистограмма продолжительности звонков')\n",
    "plt.xlabel('Количество минут')\n",
    "plt.ylabel('Количество звонков')\n",
    "plt.show();"
   ]
  },
  {
   "cell_type": "markdown",
   "id": "a4c25519-976b-4243-a72a-aee1ced2894f",
   "metadata": {},
   "source": [
    "Больше всего звонков приходится на небольшую продолжительность, до 10 минут."
   ]
  },
  {
   "cell_type": "markdown",
   "id": "b96cd819-ecf3-4a82-8a9a-dc93349d09c7",
   "metadata": {},
   "source": [
    "* Файл `internet.csv`"
   ]
  },
  {
   "cell_type": "code",
   "execution_count": 5,
   "id": "304a3c0f-14a6-43e8-8586-ea1f176e41bf",
   "metadata": {},
   "outputs": [
    {
     "data": {
      "text/html": [
       "<div>\n",
       "<style scoped>\n",
       "    .dataframe tbody tr th:only-of-type {\n",
       "        vertical-align: middle;\n",
       "    }\n",
       "\n",
       "    .dataframe tbody tr th {\n",
       "        vertical-align: top;\n",
       "    }\n",
       "\n",
       "    .dataframe thead th {\n",
       "        text-align: right;\n",
       "    }\n",
       "</style>\n",
       "<table border=\"1\" class=\"dataframe\">\n",
       "  <thead>\n",
       "    <tr style=\"text-align: right;\">\n",
       "      <th></th>\n",
       "      <th>Unnamed: 0</th>\n",
       "      <th>id</th>\n",
       "      <th>mb_used</th>\n",
       "      <th>session_date</th>\n",
       "      <th>user_id</th>\n",
       "    </tr>\n",
       "  </thead>\n",
       "  <tbody>\n",
       "    <tr>\n",
       "      <th>0</th>\n",
       "      <td>0</td>\n",
       "      <td>1000_0</td>\n",
       "      <td>112.95</td>\n",
       "      <td>2018-11-25</td>\n",
       "      <td>1000</td>\n",
       "    </tr>\n",
       "    <tr>\n",
       "      <th>1</th>\n",
       "      <td>1</td>\n",
       "      <td>1000_1</td>\n",
       "      <td>1052.81</td>\n",
       "      <td>2018-09-07</td>\n",
       "      <td>1000</td>\n",
       "    </tr>\n",
       "    <tr>\n",
       "      <th>2</th>\n",
       "      <td>2</td>\n",
       "      <td>1000_2</td>\n",
       "      <td>1197.26</td>\n",
       "      <td>2018-06-25</td>\n",
       "      <td>1000</td>\n",
       "    </tr>\n",
       "    <tr>\n",
       "      <th>3</th>\n",
       "      <td>3</td>\n",
       "      <td>1000_3</td>\n",
       "      <td>550.27</td>\n",
       "      <td>2018-08-22</td>\n",
       "      <td>1000</td>\n",
       "    </tr>\n",
       "    <tr>\n",
       "      <th>4</th>\n",
       "      <td>4</td>\n",
       "      <td>1000_4</td>\n",
       "      <td>302.56</td>\n",
       "      <td>2018-09-24</td>\n",
       "      <td>1000</td>\n",
       "    </tr>\n",
       "  </tbody>\n",
       "</table>\n",
       "</div>"
      ],
      "text/plain": [
       "   Unnamed: 0      id  mb_used session_date  user_id\n",
       "0           0  1000_0   112.95   2018-11-25     1000\n",
       "1           1  1000_1  1052.81   2018-09-07     1000\n",
       "2           2  1000_2  1197.26   2018-06-25     1000\n",
       "3           3  1000_3   550.27   2018-08-22     1000\n",
       "4           4  1000_4   302.56   2018-09-24     1000"
      ]
     },
     "execution_count": 5,
     "metadata": {},
     "output_type": "execute_result"
    }
   ],
   "source": [
    "sessions = pd.read_csv('internet.csv')\n",
    "sessions.head()"
   ]
  },
  {
   "cell_type": "code",
   "execution_count": 6,
   "id": "21cf975f-2653-40aa-8e7a-8a1104bf4043",
   "metadata": {},
   "outputs": [
    {
     "name": "stdout",
     "output_type": "stream",
     "text": [
      "<class 'pandas.core.frame.DataFrame'>\n",
      "RangeIndex: 149396 entries, 0 to 149395\n",
      "Data columns (total 5 columns):\n",
      " #   Column        Non-Null Count   Dtype  \n",
      "---  ------        --------------   -----  \n",
      " 0   Unnamed: 0    149396 non-null  int64  \n",
      " 1   id            149396 non-null  object \n",
      " 2   mb_used       149396 non-null  float64\n",
      " 3   session_date  149396 non-null  object \n",
      " 4   user_id       149396 non-null  int64  \n",
      "dtypes: float64(1), int64(2), object(2)\n",
      "memory usage: 5.7+ MB\n"
     ]
    }
   ],
   "source": [
    "sessions.info()"
   ]
  },
  {
   "cell_type": "markdown",
   "id": "6b97c904-8cfc-42cc-bac6-717d98e85d3c",
   "metadata": {},
   "source": [
    "Выведем гистограмму для столбца с количеством потраченных мегабайт."
   ]
  },
  {
   "cell_type": "code",
   "execution_count": 7,
   "id": "ae403b1b-5668-4616-acc5-1748afa499bc",
   "metadata": {},
   "outputs": [
    {
     "data": {
      "image/png": "[encoded data removed]",
      "text/plain": [
       "<Figure size 500x300 with 1 Axes>"
      ]
     },
     "metadata": {},
     "output_type": "display_data"
    }
   ],
   "source": [
    "plt.figure(figsize=(5, 3))\n",
    "sessions['mb_used'].hist(bins=5)\n",
    "plt.title('Гистограмма количество потраченныз мегабайт')\n",
    "plt.xlabel('Количество мегабайт')\n",
    "plt.ylabel('Количество интернет-сессий')\n",
    "plt.show();"
   ]
  },
  {
   "cell_type": "markdown",
   "id": "6bdf4eb3-4169-4d46-a2d5-49a28c972207",
   "metadata": {},
   "source": [
    "Чаще всего у клиентов на трафик уходит до 500 мегабайт."
   ]
  },
  {
   "cell_type": "markdown",
   "id": "82ef68cd-0b5e-4b25-95d3-4dda18264c17",
   "metadata": {},
   "source": [
    "* Файл `messages.csv`"
   ]
  },
  {
   "cell_type": "code",
   "execution_count": 8,
   "id": "8f60b77b-1c5d-49a9-abc6-59d5a36a47e3",
   "metadata": {},
   "outputs": [
    {
     "data": {
      "text/html": [
       "<div>\n",
       "<style scoped>\n",
       "    .dataframe tbody tr th:only-of-type {\n",
       "        vertical-align: middle;\n",
       "    }\n",
       "\n",
       "    .dataframe tbody tr th {\n",
       "        vertical-align: top;\n",
       "    }\n",
       "\n",
       "    .dataframe thead th {\n",
       "        text-align: right;\n",
       "    }\n",
       "</style>\n",
       "<table border=\"1\" class=\"dataframe\">\n",
       "  <thead>\n",
       "    <tr style=\"text-align: right;\">\n",
       "      <th></th>\n",
       "      <th>id</th>\n",
       "      <th>message_date</th>\n",
       "      <th>user_id</th>\n",
       "    </tr>\n",
       "  </thead>\n",
       "  <tbody>\n",
       "    <tr>\n",
       "      <th>0</th>\n",
       "      <td>1000_0</td>\n",
       "      <td>2018-06-27</td>\n",
       "      <td>1000</td>\n",
       "    </tr>\n",
       "    <tr>\n",
       "      <th>1</th>\n",
       "      <td>1000_1</td>\n",
       "      <td>2018-10-08</td>\n",
       "      <td>1000</td>\n",
       "    </tr>\n",
       "    <tr>\n",
       "      <th>2</th>\n",
       "      <td>1000_2</td>\n",
       "      <td>2018-08-04</td>\n",
       "      <td>1000</td>\n",
       "    </tr>\n",
       "    <tr>\n",
       "      <th>3</th>\n",
       "      <td>1000_3</td>\n",
       "      <td>2018-06-16</td>\n",
       "      <td>1000</td>\n",
       "    </tr>\n",
       "    <tr>\n",
       "      <th>4</th>\n",
       "      <td>1000_4</td>\n",
       "      <td>2018-12-05</td>\n",
       "      <td>1000</td>\n",
       "    </tr>\n",
       "  </tbody>\n",
       "</table>\n",
       "</div>"
      ],
      "text/plain": [
       "       id message_date  user_id\n",
       "0  1000_0   2018-06-27     1000\n",
       "1  1000_1   2018-10-08     1000\n",
       "2  1000_2   2018-08-04     1000\n",
       "3  1000_3   2018-06-16     1000\n",
       "4  1000_4   2018-12-05     1000"
      ]
     },
     "execution_count": 8,
     "metadata": {},
     "output_type": "execute_result"
    }
   ],
   "source": [
    "messages = pd.read_csv('messages.csv')\n",
    "messages.head()"
   ]
  },
  {
   "cell_type": "code",
   "execution_count": 9,
   "id": "b3b0ee90-1763-4db4-80ae-f04da2f0db4e",
   "metadata": {},
   "outputs": [
    {
     "name": "stdout",
     "output_type": "stream",
     "text": [
      "<class 'pandas.core.frame.DataFrame'>\n",
      "RangeIndex: 123036 entries, 0 to 123035\n",
      "Data columns (total 3 columns):\n",
      " #   Column        Non-Null Count   Dtype \n",
      "---  ------        --------------   ----- \n",
      " 0   id            123036 non-null  object\n",
      " 1   message_date  123036 non-null  object\n",
      " 2   user_id       123036 non-null  int64 \n",
      "dtypes: int64(1), object(2)\n",
      "memory usage: 2.8+ MB\n"
     ]
    }
   ],
   "source": [
    "messages.info()"
   ]
  },
  {
   "cell_type": "markdown",
   "id": "663d875e-74e0-4a21-9670-3d2fdbd61c10",
   "metadata": {},
   "source": [
    "* Файл `tariffs.csv`"
   ]
  },
  {
   "cell_type": "code",
   "execution_count": 10,
   "id": "9fb4fa11-ee21-4be5-a378-5640c2cd329d",
   "metadata": {},
   "outputs": [
    {
     "data": {
      "text/html": [
       "<div>\n",
       "<style scoped>\n",
       "    .dataframe tbody tr th:only-of-type {\n",
       "        vertical-align: middle;\n",
       "    }\n",
       "\n",
       "    .dataframe tbody tr th {\n",
       "        vertical-align: top;\n",
       "    }\n",
       "\n",
       "    .dataframe thead th {\n",
       "        text-align: right;\n",
       "    }\n",
       "</style>\n",
       "<table border=\"1\" class=\"dataframe\">\n",
       "  <thead>\n",
       "    <tr style=\"text-align: right;\">\n",
       "      <th></th>\n",
       "      <th>messages_included</th>\n",
       "      <th>mb_per_month_included</th>\n",
       "      <th>minutes_included</th>\n",
       "      <th>rub_monthly_fee</th>\n",
       "      <th>rub_per_gb</th>\n",
       "      <th>rub_per_message</th>\n",
       "      <th>rub_per_minute</th>\n",
       "      <th>tariff_name</th>\n",
       "    </tr>\n",
       "  </thead>\n",
       "  <tbody>\n",
       "    <tr>\n",
       "      <th>0</th>\n",
       "      <td>50</td>\n",
       "      <td>15360</td>\n",
       "      <td>500</td>\n",
       "      <td>550</td>\n",
       "      <td>200</td>\n",
       "      <td>3</td>\n",
       "      <td>3</td>\n",
       "      <td>smart</td>\n",
       "    </tr>\n",
       "    <tr>\n",
       "      <th>1</th>\n",
       "      <td>1000</td>\n",
       "      <td>30720</td>\n",
       "      <td>3000</td>\n",
       "      <td>1950</td>\n",
       "      <td>150</td>\n",
       "      <td>1</td>\n",
       "      <td>1</td>\n",
       "      <td>ultra</td>\n",
       "    </tr>\n",
       "  </tbody>\n",
       "</table>\n",
       "</div>"
      ],
      "text/plain": [
       "   messages_included  mb_per_month_included  minutes_included  \\\n",
       "0                 50                  15360               500   \n",
       "1               1000                  30720              3000   \n",
       "\n",
       "   rub_monthly_fee  rub_per_gb  rub_per_message  rub_per_minute tariff_name  \n",
       "0              550         200                3               3       smart  \n",
       "1             1950         150                1               1       ultra  "
      ]
     },
     "execution_count": 10,
     "metadata": {},
     "output_type": "execute_result"
    }
   ],
   "source": [
    "tariffs = pd.read_csv('tariffs.csv')\n",
    "tariffs"
   ]
  },
  {
   "cell_type": "code",
   "execution_count": 11,
   "id": "b8e6513b-0ea9-42fa-bf6d-50b9e0711268",
   "metadata": {},
   "outputs": [
    {
     "name": "stdout",
     "output_type": "stream",
     "text": [
      "<class 'pandas.core.frame.DataFrame'>\n",
      "RangeIndex: 2 entries, 0 to 1\n",
      "Data columns (total 8 columns):\n",
      " #   Column                 Non-Null Count  Dtype \n",
      "---  ------                 --------------  ----- \n",
      " 0   messages_included      2 non-null      int64 \n",
      " 1   mb_per_month_included  2 non-null      int64 \n",
      " 2   minutes_included       2 non-null      int64 \n",
      " 3   rub_monthly_fee        2 non-null      int64 \n",
      " 4   rub_per_gb             2 non-null      int64 \n",
      " 5   rub_per_message        2 non-null      int64 \n",
      " 6   rub_per_minute         2 non-null      int64 \n",
      " 7   tariff_name            2 non-null      object\n",
      "dtypes: int64(7), object(1)\n",
      "memory usage: 256.0+ bytes\n"
     ]
    }
   ],
   "source": [
    "tariffs.info()"
   ]
  },
  {
   "cell_type": "markdown",
   "id": "b989f02e-5a8c-49f4-9ca2-bf5cd0149fb6",
   "metadata": {},
   "source": [
    "* Файл `users.csv`"
   ]
  },
  {
   "cell_type": "code",
   "execution_count": 12,
   "id": "dcaf4beb-0f1a-42c0-ae7e-faedda7720b4",
   "metadata": {},
   "outputs": [
    {
     "data": {
      "text/html": [
       "<div>\n",
       "<style scoped>\n",
       "    .dataframe tbody tr th:only-of-type {\n",
       "        vertical-align: middle;\n",
       "    }\n",
       "\n",
       "    .dataframe tbody tr th {\n",
       "        vertical-align: top;\n",
       "    }\n",
       "\n",
       "    .dataframe thead th {\n",
       "        text-align: right;\n",
       "    }\n",
       "</style>\n",
       "<table border=\"1\" class=\"dataframe\">\n",
       "  <thead>\n",
       "    <tr style=\"text-align: right;\">\n",
       "      <th></th>\n",
       "      <th>user_id</th>\n",
       "      <th>age</th>\n",
       "      <th>churn_date</th>\n",
       "      <th>city</th>\n",
       "      <th>first_name</th>\n",
       "      <th>last_name</th>\n",
       "      <th>reg_date</th>\n",
       "      <th>tariff</th>\n",
       "    </tr>\n",
       "  </thead>\n",
       "  <tbody>\n",
       "    <tr>\n",
       "      <th>0</th>\n",
       "      <td>1000</td>\n",
       "      <td>52</td>\n",
       "      <td>NaN</td>\n",
       "      <td>Краснодар</td>\n",
       "      <td>Рафаил</td>\n",
       "      <td>Верещагин</td>\n",
       "      <td>2018-05-25</td>\n",
       "      <td>ultra</td>\n",
       "    </tr>\n",
       "    <tr>\n",
       "      <th>1</th>\n",
       "      <td>1001</td>\n",
       "      <td>41</td>\n",
       "      <td>NaN</td>\n",
       "      <td>Москва</td>\n",
       "      <td>Иван</td>\n",
       "      <td>Ежов</td>\n",
       "      <td>2018-11-01</td>\n",
       "      <td>smart</td>\n",
       "    </tr>\n",
       "    <tr>\n",
       "      <th>2</th>\n",
       "      <td>1002</td>\n",
       "      <td>59</td>\n",
       "      <td>NaN</td>\n",
       "      <td>Стерлитамак</td>\n",
       "      <td>Евгений</td>\n",
       "      <td>Абрамович</td>\n",
       "      <td>2018-06-17</td>\n",
       "      <td>smart</td>\n",
       "    </tr>\n",
       "    <tr>\n",
       "      <th>3</th>\n",
       "      <td>1003</td>\n",
       "      <td>23</td>\n",
       "      <td>NaN</td>\n",
       "      <td>Москва</td>\n",
       "      <td>Белла</td>\n",
       "      <td>Белякова</td>\n",
       "      <td>2018-08-17</td>\n",
       "      <td>ultra</td>\n",
       "    </tr>\n",
       "    <tr>\n",
       "      <th>4</th>\n",
       "      <td>1004</td>\n",
       "      <td>68</td>\n",
       "      <td>NaN</td>\n",
       "      <td>Новокузнецк</td>\n",
       "      <td>Татьяна</td>\n",
       "      <td>Авдеенко</td>\n",
       "      <td>2018-05-14</td>\n",
       "      <td>ultra</td>\n",
       "    </tr>\n",
       "  </tbody>\n",
       "</table>\n",
       "</div>"
      ],
      "text/plain": [
       "   user_id  age churn_date         city first_name  last_name    reg_date  \\\n",
       "0     1000   52        NaN    Краснодар     Рафаил  Верещагин  2018-05-25   \n",
       "1     1001   41        NaN       Москва       Иван       Ежов  2018-11-01   \n",
       "2     1002   59        NaN  Стерлитамак    Евгений  Абрамович  2018-06-17   \n",
       "3     1003   23        NaN       Москва      Белла   Белякова  2018-08-17   \n",
       "4     1004   68        NaN  Новокузнецк    Татьяна   Авдеенко  2018-05-14   \n",
       "\n",
       "  tariff  \n",
       "0  ultra  \n",
       "1  smart  \n",
       "2  smart  \n",
       "3  ultra  \n",
       "4  ultra  "
      ]
     },
     "execution_count": 12,
     "metadata": {},
     "output_type": "execute_result"
    }
   ],
   "source": [
    "users = pd.read_csv('users.csv')\n",
    "users.head()"
   ]
  },
  {
   "cell_type": "code",
   "execution_count": 13,
   "id": "34759a31-762d-4300-8b9a-42dc54563886",
   "metadata": {},
   "outputs": [
    {
     "name": "stdout",
     "output_type": "stream",
     "text": [
      "<class 'pandas.core.frame.DataFrame'>\n",
      "RangeIndex: 500 entries, 0 to 499\n",
      "Data columns (total 8 columns):\n",
      " #   Column      Non-Null Count  Dtype \n",
      "---  ------      --------------  ----- \n",
      " 0   user_id     500 non-null    int64 \n",
      " 1   age         500 non-null    int64 \n",
      " 2   churn_date  38 non-null     object\n",
      " 3   city        500 non-null    object\n",
      " 4   first_name  500 non-null    object\n",
      " 5   last_name   500 non-null    object\n",
      " 6   reg_date    500 non-null    object\n",
      " 7   tariff      500 non-null    object\n",
      "dtypes: int64(2), object(6)\n",
      "memory usage: 31.4+ KB\n"
     ]
    }
   ],
   "source": [
    "users.info()"
   ]
  },
  {
   "cell_type": "markdown",
   "id": "8c3272e8-3d5e-4693-9d1c-e71dae5fab41",
   "metadata": {},
   "source": [
    "## 2. Подготовка данных.<a id='section_id_2'></a>"
   ]
  },
  {
   "cell_type": "markdown",
   "id": "75266b1f-77fe-4e4d-add6-d83fffcbe8ab",
   "metadata": {},
   "source": [
    "### 2.1. Приведение данных к нужным типам."
   ]
  },
  {
   "cell_type": "markdown",
   "id": "a0a9a8f5-f856-428c-931f-fe444497c161",
   "metadata": {},
   "source": [
    "Приведём столбцы\n",
    "\n",
    "- `reg_date` из таблицы `users`\n",
    "- `churn_date` из таблицы `users`\n",
    "- `call_date` из таблицы `calls`\n",
    "- `message_date` из таблицы `messages`\n",
    "- `session_date` из таблицы `sessions`\n",
    "\n",
    "к новому типу с помощью метода `to_datetime()`."
   ]
  },
  {
   "cell_type": "code",
   "execution_count": 14,
   "id": "1848ed32-ac8e-441a-846b-e4dfc76646b0",
   "metadata": {},
   "outputs": [],
   "source": [
    "users['reg_date'] = pd.to_datetime(users['reg_date'])\n",
    "users['churn_date'] = pd.to_datetime(users['churn_date'])\n",
    "\n",
    "calls['call_date'] = pd.to_datetime(calls['call_date'])\n",
    "\n",
    "messages['message_date'] = pd.to_datetime(messages['message_date'])\n",
    "sessions['session_date'] = pd.to_datetime(sessions['session_date'])"
   ]
  },
  {
   "cell_type": "markdown",
   "id": "7975a958-c0eb-4630-b9e7-a466ba71af3e",
   "metadata": {},
   "source": [
    "### 2.2. Найдём и исправим ошибки, если они есть."
   ]
  },
  {
   "cell_type": "markdown",
   "id": "986178b6-c8eb-4f02-b8c4-7164400f570a",
   "metadata": {},
   "source": [
    "* В данных есть звонки с нулевой продолжительностью. Это не ошибка: нулями обозначены пропущенные звонки, поэтому их не нужно удалять.\n",
    "\n",
    "Однако в столбце `duration` датафрейма `calls` значения дробные. Округлим значения столбца `duration` вверх с помощью метода `numpy.ceil()` и приведём столбец `duration` к типу `int`."
   ]
  },
  {
   "cell_type": "code",
   "execution_count": 15,
   "id": "3e7223b7-84c8-411a-a37d-33fd056a6fc2",
   "metadata": {},
   "outputs": [],
   "source": [
    "calls['duration'] = np.ceil(calls['duration'])\n",
    "calls['duration'] = calls['duration'].astype('int')"
   ]
  },
  {
   "cell_type": "markdown",
   "id": "1e4551e0-e7d1-456f-86ee-695a4e45525b",
   "metadata": {},
   "source": [
    "* Удалим столбец `Unnamed: 0` из датафрейма `sessions`. Столбец с таким названием возникает, когда данные сохраняют с указанием индекса (`df.to_csv(..., index=column)`). Он сейчас не понадобится."
   ]
  },
  {
   "cell_type": "code",
   "execution_count": 16,
   "id": "86a35115-974d-4bee-b7d5-0c7c67b92e67",
   "metadata": {},
   "outputs": [],
   "source": [
    "sessions = sessions.drop('Unnamed: 0', axis=1)"
   ]
  },
  {
   "cell_type": "markdown",
   "id": "fd52bfd5-57a0-4059-aa13-de7108f8d725",
   "metadata": {},
   "source": [
    "### 2.3. Посчитаем количество сделанных звонков для каждого пользователя по месяцам."
   ]
  },
  {
   "cell_type": "markdown",
   "id": "8a71b6e1-95d3-4542-9a90-787ebd1e9e63",
   "metadata": {},
   "source": [
    "* Создадим столбец `month` в датафрейме `calls` с номером месяца из столбца `call_date`."
   ]
  },
  {
   "cell_type": "code",
   "execution_count": 17,
   "id": "b1fc2f29-02ca-4758-9923-9cd44b8e2104",
   "metadata": {},
   "outputs": [],
   "source": [
    "calls['month'] = pd.DatetimeIndex(calls['call_date']).month"
   ]
  },
  {
   "cell_type": "markdown",
   "id": "f139844c-5162-487d-9a77-c89f6517189e",
   "metadata": {},
   "source": [
    "* Создадим столбец `month` в датафрейме `messages` с номером месяца из столбца `message_date`."
   ]
  },
  {
   "cell_type": "code",
   "execution_count": 18,
   "id": "1d931958-dffe-4127-bd35-39a37f31e53f",
   "metadata": {},
   "outputs": [],
   "source": [
    "messages['month'] = pd.DatetimeIndex(messages['message_date']).month"
   ]
  },
  {
   "cell_type": "markdown",
   "id": "65f9e159-7c94-4846-8e1d-2d289a4d0884",
   "metadata": {},
   "source": [
    "* СоздаLBV столбец `month` в датафрейме `sessions` с номером месяца из столбца `session_date`."
   ]
  },
  {
   "cell_type": "code",
   "execution_count": 19,
   "id": "2a21b3ab-c2a3-4941-bd9e-db99b5393567",
   "metadata": {},
   "outputs": [],
   "source": [
    "sessions['month'] = pd.DatetimeIndex(sessions['session_date']).month"
   ]
  },
  {
   "cell_type": "markdown",
   "id": "8cf2b097-7914-4dad-a768-93c0cd5c468f",
   "metadata": {},
   "source": [
    "* Посчитаем количество сделанных звонков разговора для каждого пользователя по месяцам."
   ]
  },
  {
   "cell_type": "code",
   "execution_count": 20,
   "id": "c0c6e682-f6d4-4da0-9947-3cfa3f2a106e",
   "metadata": {},
   "outputs": [
    {
     "data": {
      "text/html": [
       "<div>\n",
       "<style scoped>\n",
       "    .dataframe tbody tr th:only-of-type {\n",
       "        vertical-align: middle;\n",
       "    }\n",
       "\n",
       "    .dataframe tbody tr th {\n",
       "        vertical-align: top;\n",
       "    }\n",
       "\n",
       "    .dataframe thead th {\n",
       "        text-align: right;\n",
       "    }\n",
       "</style>\n",
       "<table border=\"1\" class=\"dataframe\">\n",
       "  <thead>\n",
       "    <tr style=\"text-align: right;\">\n",
       "      <th></th>\n",
       "      <th></th>\n",
       "      <th>calls</th>\n",
       "    </tr>\n",
       "    <tr>\n",
       "      <th>user_id</th>\n",
       "      <th>month</th>\n",
       "      <th></th>\n",
       "    </tr>\n",
       "  </thead>\n",
       "  <tbody>\n",
       "    <tr>\n",
       "      <th rowspan=\"8\" valign=\"top\">1000</th>\n",
       "      <th>5</th>\n",
       "      <td>22</td>\n",
       "    </tr>\n",
       "    <tr>\n",
       "      <th>6</th>\n",
       "      <td>43</td>\n",
       "    </tr>\n",
       "    <tr>\n",
       "      <th>7</th>\n",
       "      <td>47</td>\n",
       "    </tr>\n",
       "    <tr>\n",
       "      <th>8</th>\n",
       "      <td>52</td>\n",
       "    </tr>\n",
       "    <tr>\n",
       "      <th>9</th>\n",
       "      <td>58</td>\n",
       "    </tr>\n",
       "    <tr>\n",
       "      <th>10</th>\n",
       "      <td>57</td>\n",
       "    </tr>\n",
       "    <tr>\n",
       "      <th>11</th>\n",
       "      <td>43</td>\n",
       "    </tr>\n",
       "    <tr>\n",
       "      <th>12</th>\n",
       "      <td>46</td>\n",
       "    </tr>\n",
       "    <tr>\n",
       "      <th rowspan=\"2\" valign=\"top\">1001</th>\n",
       "      <th>11</th>\n",
       "      <td>59</td>\n",
       "    </tr>\n",
       "    <tr>\n",
       "      <th>12</th>\n",
       "      <td>63</td>\n",
       "    </tr>\n",
       "    <tr>\n",
       "      <th rowspan=\"7\" valign=\"top\">1002</th>\n",
       "      <th>6</th>\n",
       "      <td>15</td>\n",
       "    </tr>\n",
       "    <tr>\n",
       "      <th>7</th>\n",
       "      <td>26</td>\n",
       "    </tr>\n",
       "    <tr>\n",
       "      <th>8</th>\n",
       "      <td>42</td>\n",
       "    </tr>\n",
       "    <tr>\n",
       "      <th>9</th>\n",
       "      <td>36</td>\n",
       "    </tr>\n",
       "    <tr>\n",
       "      <th>10</th>\n",
       "      <td>33</td>\n",
       "    </tr>\n",
       "    <tr>\n",
       "      <th>11</th>\n",
       "      <td>32</td>\n",
       "    </tr>\n",
       "    <tr>\n",
       "      <th>12</th>\n",
       "      <td>33</td>\n",
       "    </tr>\n",
       "    <tr>\n",
       "      <th rowspan=\"5\" valign=\"top\">1003</th>\n",
       "      <th>8</th>\n",
       "      <td>55</td>\n",
       "    </tr>\n",
       "    <tr>\n",
       "      <th>9</th>\n",
       "      <td>134</td>\n",
       "    </tr>\n",
       "    <tr>\n",
       "      <th>10</th>\n",
       "      <td>108</td>\n",
       "    </tr>\n",
       "    <tr>\n",
       "      <th>11</th>\n",
       "      <td>115</td>\n",
       "    </tr>\n",
       "    <tr>\n",
       "      <th>12</th>\n",
       "      <td>108</td>\n",
       "    </tr>\n",
       "    <tr>\n",
       "      <th rowspan=\"8\" valign=\"top\">1004</th>\n",
       "      <th>5</th>\n",
       "      <td>9</td>\n",
       "    </tr>\n",
       "    <tr>\n",
       "      <th>6</th>\n",
       "      <td>31</td>\n",
       "    </tr>\n",
       "    <tr>\n",
       "      <th>7</th>\n",
       "      <td>22</td>\n",
       "    </tr>\n",
       "    <tr>\n",
       "      <th>8</th>\n",
       "      <td>19</td>\n",
       "    </tr>\n",
       "    <tr>\n",
       "      <th>9</th>\n",
       "      <td>26</td>\n",
       "    </tr>\n",
       "    <tr>\n",
       "      <th>10</th>\n",
       "      <td>29</td>\n",
       "    </tr>\n",
       "    <tr>\n",
       "      <th>11</th>\n",
       "      <td>19</td>\n",
       "    </tr>\n",
       "    <tr>\n",
       "      <th>12</th>\n",
       "      <td>21</td>\n",
       "    </tr>\n",
       "  </tbody>\n",
       "</table>\n",
       "</div>"
      ],
      "text/plain": [
       "               calls\n",
       "user_id month       \n",
       "1000    5         22\n",
       "        6         43\n",
       "        7         47\n",
       "        8         52\n",
       "        9         58\n",
       "        10        57\n",
       "        11        43\n",
       "        12        46\n",
       "1001    11        59\n",
       "        12        63\n",
       "1002    6         15\n",
       "        7         26\n",
       "        8         42\n",
       "        9         36\n",
       "        10        33\n",
       "        11        32\n",
       "        12        33\n",
       "1003    8         55\n",
       "        9        134\n",
       "        10       108\n",
       "        11       115\n",
       "        12       108\n",
       "1004    5          9\n",
       "        6         31\n",
       "        7         22\n",
       "        8         19\n",
       "        9         26\n",
       "        10        29\n",
       "        11        19\n",
       "        12        21"
      ]
     },
     "execution_count": 20,
     "metadata": {},
     "output_type": "execute_result"
    }
   ],
   "source": [
    "calls_per_month = calls.groupby(['user_id', 'month']).agg(calls=('duration', 'count'))\n",
    "calls_per_month.head(30)"
   ]
  },
  {
   "cell_type": "markdown",
   "id": "9d0066ba-44df-4452-a33c-471b75c7430e",
   "metadata": {},
   "source": [
    "### 2.4. Посчитаем количество израсходованных минут разговора для каждого пользователя по месяцам."
   ]
  },
  {
   "cell_type": "code",
   "execution_count": 21,
   "id": "e32ea76f-6710-411b-8475-04b86cf694b1",
   "metadata": {},
   "outputs": [
    {
     "data": {
      "text/html": [
       "<div>\n",
       "<style scoped>\n",
       "    .dataframe tbody tr th:only-of-type {\n",
       "        vertical-align: middle;\n",
       "    }\n",
       "\n",
       "    .dataframe tbody tr th {\n",
       "        vertical-align: top;\n",
       "    }\n",
       "\n",
       "    .dataframe thead th {\n",
       "        text-align: right;\n",
       "    }\n",
       "</style>\n",
       "<table border=\"1\" class=\"dataframe\">\n",
       "  <thead>\n",
       "    <tr style=\"text-align: right;\">\n",
       "      <th></th>\n",
       "      <th></th>\n",
       "      <th>minutes</th>\n",
       "    </tr>\n",
       "    <tr>\n",
       "      <th>user_id</th>\n",
       "      <th>month</th>\n",
       "      <th></th>\n",
       "    </tr>\n",
       "  </thead>\n",
       "  <tbody>\n",
       "    <tr>\n",
       "      <th rowspan=\"8\" valign=\"top\">1000</th>\n",
       "      <th>5</th>\n",
       "      <td>159</td>\n",
       "    </tr>\n",
       "    <tr>\n",
       "      <th>6</th>\n",
       "      <td>172</td>\n",
       "    </tr>\n",
       "    <tr>\n",
       "      <th>7</th>\n",
       "      <td>340</td>\n",
       "    </tr>\n",
       "    <tr>\n",
       "      <th>8</th>\n",
       "      <td>408</td>\n",
       "    </tr>\n",
       "    <tr>\n",
       "      <th>9</th>\n",
       "      <td>466</td>\n",
       "    </tr>\n",
       "    <tr>\n",
       "      <th>10</th>\n",
       "      <td>350</td>\n",
       "    </tr>\n",
       "    <tr>\n",
       "      <th>11</th>\n",
       "      <td>338</td>\n",
       "    </tr>\n",
       "    <tr>\n",
       "      <th>12</th>\n",
       "      <td>333</td>\n",
       "    </tr>\n",
       "    <tr>\n",
       "      <th rowspan=\"2\" valign=\"top\">1001</th>\n",
       "      <th>11</th>\n",
       "      <td>430</td>\n",
       "    </tr>\n",
       "    <tr>\n",
       "      <th>12</th>\n",
       "      <td>414</td>\n",
       "    </tr>\n",
       "    <tr>\n",
       "      <th rowspan=\"7\" valign=\"top\">1002</th>\n",
       "      <th>6</th>\n",
       "      <td>117</td>\n",
       "    </tr>\n",
       "    <tr>\n",
       "      <th>7</th>\n",
       "      <td>214</td>\n",
       "    </tr>\n",
       "    <tr>\n",
       "      <th>8</th>\n",
       "      <td>289</td>\n",
       "    </tr>\n",
       "    <tr>\n",
       "      <th>9</th>\n",
       "      <td>206</td>\n",
       "    </tr>\n",
       "    <tr>\n",
       "      <th>10</th>\n",
       "      <td>212</td>\n",
       "    </tr>\n",
       "    <tr>\n",
       "      <th>11</th>\n",
       "      <td>243</td>\n",
       "    </tr>\n",
       "    <tr>\n",
       "      <th>12</th>\n",
       "      <td>236</td>\n",
       "    </tr>\n",
       "    <tr>\n",
       "      <th rowspan=\"5\" valign=\"top\">1003</th>\n",
       "      <th>8</th>\n",
       "      <td>380</td>\n",
       "    </tr>\n",
       "    <tr>\n",
       "      <th>9</th>\n",
       "      <td>961</td>\n",
       "    </tr>\n",
       "    <tr>\n",
       "      <th>10</th>\n",
       "      <td>855</td>\n",
       "    </tr>\n",
       "    <tr>\n",
       "      <th>11</th>\n",
       "      <td>824</td>\n",
       "    </tr>\n",
       "    <tr>\n",
       "      <th>12</th>\n",
       "      <td>802</td>\n",
       "    </tr>\n",
       "    <tr>\n",
       "      <th rowspan=\"8\" valign=\"top\">1004</th>\n",
       "      <th>5</th>\n",
       "      <td>35</td>\n",
       "    </tr>\n",
       "    <tr>\n",
       "      <th>6</th>\n",
       "      <td>171</td>\n",
       "    </tr>\n",
       "    <tr>\n",
       "      <th>7</th>\n",
       "      <td>135</td>\n",
       "    </tr>\n",
       "    <tr>\n",
       "      <th>8</th>\n",
       "      <td>137</td>\n",
       "    </tr>\n",
       "    <tr>\n",
       "      <th>9</th>\n",
       "      <td>117</td>\n",
       "    </tr>\n",
       "    <tr>\n",
       "      <th>10</th>\n",
       "      <td>145</td>\n",
       "    </tr>\n",
       "    <tr>\n",
       "      <th>11</th>\n",
       "      <td>117</td>\n",
       "    </tr>\n",
       "    <tr>\n",
       "      <th>12</th>\n",
       "      <td>130</td>\n",
       "    </tr>\n",
       "  </tbody>\n",
       "</table>\n",
       "</div>"
      ],
      "text/plain": [
       "               minutes\n",
       "user_id month         \n",
       "1000    5          159\n",
       "        6          172\n",
       "        7          340\n",
       "        8          408\n",
       "        9          466\n",
       "        10         350\n",
       "        11         338\n",
       "        12         333\n",
       "1001    11         430\n",
       "        12         414\n",
       "1002    6          117\n",
       "        7          214\n",
       "        8          289\n",
       "        9          206\n",
       "        10         212\n",
       "        11         243\n",
       "        12         236\n",
       "1003    8          380\n",
       "        9          961\n",
       "        10         855\n",
       "        11         824\n",
       "        12         802\n",
       "1004    5           35\n",
       "        6          171\n",
       "        7          135\n",
       "        8          137\n",
       "        9          117\n",
       "        10         145\n",
       "        11         117\n",
       "        12         130"
      ]
     },
     "execution_count": 21,
     "metadata": {},
     "output_type": "execute_result"
    }
   ],
   "source": [
    "minutes_per_month = calls.groupby(['user_id','month']).agg(minutes=('duration', 'sum'))\n",
    "minutes_per_month.head(30)"
   ]
  },
  {
   "cell_type": "markdown",
   "id": "d189e381-2f4a-44d1-aac0-7544b03897db",
   "metadata": {},
   "source": [
    "### 2.5. Посчитаем количество отправленных сообщений для каждого пользователя по месяцам."
   ]
  },
  {
   "cell_type": "code",
   "execution_count": 22,
   "id": "a28e6732-e03e-4537-be7e-50862ddcac58",
   "metadata": {},
   "outputs": [
    {
     "data": {
      "text/html": [
       "<div>\n",
       "<style scoped>\n",
       "    .dataframe tbody tr th:only-of-type {\n",
       "        vertical-align: middle;\n",
       "    }\n",
       "\n",
       "    .dataframe tbody tr th {\n",
       "        vertical-align: top;\n",
       "    }\n",
       "\n",
       "    .dataframe thead th {\n",
       "        text-align: right;\n",
       "    }\n",
       "</style>\n",
       "<table border=\"1\" class=\"dataframe\">\n",
       "  <thead>\n",
       "    <tr style=\"text-align: right;\">\n",
       "      <th></th>\n",
       "      <th></th>\n",
       "      <th>messages</th>\n",
       "    </tr>\n",
       "    <tr>\n",
       "      <th>user_id</th>\n",
       "      <th>month</th>\n",
       "      <th></th>\n",
       "    </tr>\n",
       "  </thead>\n",
       "  <tbody>\n",
       "    <tr>\n",
       "      <th rowspan=\"8\" valign=\"top\">1000</th>\n",
       "      <th>5</th>\n",
       "      <td>22</td>\n",
       "    </tr>\n",
       "    <tr>\n",
       "      <th>6</th>\n",
       "      <td>60</td>\n",
       "    </tr>\n",
       "    <tr>\n",
       "      <th>7</th>\n",
       "      <td>75</td>\n",
       "    </tr>\n",
       "    <tr>\n",
       "      <th>8</th>\n",
       "      <td>81</td>\n",
       "    </tr>\n",
       "    <tr>\n",
       "      <th>9</th>\n",
       "      <td>57</td>\n",
       "    </tr>\n",
       "    <tr>\n",
       "      <th>10</th>\n",
       "      <td>73</td>\n",
       "    </tr>\n",
       "    <tr>\n",
       "      <th>11</th>\n",
       "      <td>58</td>\n",
       "    </tr>\n",
       "    <tr>\n",
       "      <th>12</th>\n",
       "      <td>70</td>\n",
       "    </tr>\n",
       "    <tr>\n",
       "      <th rowspan=\"7\" valign=\"top\">1002</th>\n",
       "      <th>6</th>\n",
       "      <td>4</td>\n",
       "    </tr>\n",
       "    <tr>\n",
       "      <th>7</th>\n",
       "      <td>11</td>\n",
       "    </tr>\n",
       "    <tr>\n",
       "      <th>8</th>\n",
       "      <td>13</td>\n",
       "    </tr>\n",
       "    <tr>\n",
       "      <th>9</th>\n",
       "      <td>4</td>\n",
       "    </tr>\n",
       "    <tr>\n",
       "      <th>10</th>\n",
       "      <td>10</td>\n",
       "    </tr>\n",
       "    <tr>\n",
       "      <th>11</th>\n",
       "      <td>16</td>\n",
       "    </tr>\n",
       "    <tr>\n",
       "      <th>12</th>\n",
       "      <td>12</td>\n",
       "    </tr>\n",
       "    <tr>\n",
       "      <th rowspan=\"5\" valign=\"top\">1003</th>\n",
       "      <th>8</th>\n",
       "      <td>37</td>\n",
       "    </tr>\n",
       "    <tr>\n",
       "      <th>9</th>\n",
       "      <td>91</td>\n",
       "    </tr>\n",
       "    <tr>\n",
       "      <th>10</th>\n",
       "      <td>83</td>\n",
       "    </tr>\n",
       "    <tr>\n",
       "      <th>11</th>\n",
       "      <td>94</td>\n",
       "    </tr>\n",
       "    <tr>\n",
       "      <th>12</th>\n",
       "      <td>75</td>\n",
       "    </tr>\n",
       "    <tr>\n",
       "      <th rowspan=\"8\" valign=\"top\">1004</th>\n",
       "      <th>5</th>\n",
       "      <td>95</td>\n",
       "    </tr>\n",
       "    <tr>\n",
       "      <th>6</th>\n",
       "      <td>134</td>\n",
       "    </tr>\n",
       "    <tr>\n",
       "      <th>7</th>\n",
       "      <td>181</td>\n",
       "    </tr>\n",
       "    <tr>\n",
       "      <th>8</th>\n",
       "      <td>151</td>\n",
       "    </tr>\n",
       "    <tr>\n",
       "      <th>9</th>\n",
       "      <td>146</td>\n",
       "    </tr>\n",
       "    <tr>\n",
       "      <th>10</th>\n",
       "      <td>165</td>\n",
       "    </tr>\n",
       "    <tr>\n",
       "      <th>11</th>\n",
       "      <td>158</td>\n",
       "    </tr>\n",
       "    <tr>\n",
       "      <th>12</th>\n",
       "      <td>162</td>\n",
       "    </tr>\n",
       "    <tr>\n",
       "      <th rowspan=\"2\" valign=\"top\">1005</th>\n",
       "      <th>1</th>\n",
       "      <td>7</td>\n",
       "    </tr>\n",
       "    <tr>\n",
       "      <th>2</th>\n",
       "      <td>38</td>\n",
       "    </tr>\n",
       "  </tbody>\n",
       "</table>\n",
       "</div>"
      ],
      "text/plain": [
       "               messages\n",
       "user_id month          \n",
       "1000    5            22\n",
       "        6            60\n",
       "        7            75\n",
       "        8            81\n",
       "        9            57\n",
       "        10           73\n",
       "        11           58\n",
       "        12           70\n",
       "1002    6             4\n",
       "        7            11\n",
       "        8            13\n",
       "        9             4\n",
       "        10           10\n",
       "        11           16\n",
       "        12           12\n",
       "1003    8            37\n",
       "        9            91\n",
       "        10           83\n",
       "        11           94\n",
       "        12           75\n",
       "1004    5            95\n",
       "        6           134\n",
       "        7           181\n",
       "        8           151\n",
       "        9           146\n",
       "        10          165\n",
       "        11          158\n",
       "        12          162\n",
       "1005    1             7\n",
       "        2            38"
      ]
     },
     "execution_count": 22,
     "metadata": {},
     "output_type": "execute_result"
    }
   ],
   "source": [
    "messages_per_month = messages.groupby(['user_id','month']).agg(messages=('message_date', 'count'))\n",
    "messages_per_month.head(30)"
   ]
  },
  {
   "cell_type": "markdown",
   "id": "036db1e5-08e7-4016-bf73-7006b9d5b95f",
   "metadata": {},
   "source": [
    "### 2.6. Посчитаем количество потраченных мегабайт для каждого пользователя по месяцам."
   ]
  },
  {
   "cell_type": "code",
   "execution_count": 23,
   "id": "05e687e7-9204-4bc8-8e16-617c53da3923",
   "metadata": {},
   "outputs": [
    {
     "data": {
      "text/html": [
       "<div>\n",
       "<style scoped>\n",
       "    .dataframe tbody tr th:only-of-type {\n",
       "        vertical-align: middle;\n",
       "    }\n",
       "\n",
       "    .dataframe tbody tr th {\n",
       "        vertical-align: top;\n",
       "    }\n",
       "\n",
       "    .dataframe thead th {\n",
       "        text-align: right;\n",
       "    }\n",
       "</style>\n",
       "<table border=\"1\" class=\"dataframe\">\n",
       "  <thead>\n",
       "    <tr style=\"text-align: right;\">\n",
       "      <th></th>\n",
       "      <th></th>\n",
       "      <th>mb_used</th>\n",
       "    </tr>\n",
       "    <tr>\n",
       "      <th>user_id</th>\n",
       "      <th>month</th>\n",
       "      <th></th>\n",
       "    </tr>\n",
       "  </thead>\n",
       "  <tbody>\n",
       "    <tr>\n",
       "      <th rowspan=\"8\" valign=\"top\">1000</th>\n",
       "      <th>5</th>\n",
       "      <td>2253.49</td>\n",
       "    </tr>\n",
       "    <tr>\n",
       "      <th>6</th>\n",
       "      <td>23233.77</td>\n",
       "    </tr>\n",
       "    <tr>\n",
       "      <th>7</th>\n",
       "      <td>14003.64</td>\n",
       "    </tr>\n",
       "    <tr>\n",
       "      <th>8</th>\n",
       "      <td>14055.93</td>\n",
       "    </tr>\n",
       "    <tr>\n",
       "      <th>9</th>\n",
       "      <td>14568.91</td>\n",
       "    </tr>\n",
       "    <tr>\n",
       "      <th>10</th>\n",
       "      <td>14702.49</td>\n",
       "    </tr>\n",
       "    <tr>\n",
       "      <th>11</th>\n",
       "      <td>14756.47</td>\n",
       "    </tr>\n",
       "    <tr>\n",
       "      <th>12</th>\n",
       "      <td>9817.61</td>\n",
       "    </tr>\n",
       "    <tr>\n",
       "      <th rowspan=\"2\" valign=\"top\">1001</th>\n",
       "      <th>11</th>\n",
       "      <td>18429.34</td>\n",
       "    </tr>\n",
       "    <tr>\n",
       "      <th>12</th>\n",
       "      <td>14036.66</td>\n",
       "    </tr>\n",
       "    <tr>\n",
       "      <th rowspan=\"7\" valign=\"top\">1002</th>\n",
       "      <th>6</th>\n",
       "      <td>10856.82</td>\n",
       "    </tr>\n",
       "    <tr>\n",
       "      <th>7</th>\n",
       "      <td>17580.10</td>\n",
       "    </tr>\n",
       "    <tr>\n",
       "      <th>8</th>\n",
       "      <td>20319.26</td>\n",
       "    </tr>\n",
       "    <tr>\n",
       "      <th>9</th>\n",
       "      <td>16691.08</td>\n",
       "    </tr>\n",
       "    <tr>\n",
       "      <th>10</th>\n",
       "      <td>13888.25</td>\n",
       "    </tr>\n",
       "    <tr>\n",
       "      <th>11</th>\n",
       "      <td>18587.28</td>\n",
       "    </tr>\n",
       "    <tr>\n",
       "      <th>12</th>\n",
       "      <td>18113.73</td>\n",
       "    </tr>\n",
       "    <tr>\n",
       "      <th rowspan=\"5\" valign=\"top\">1003</th>\n",
       "      <th>8</th>\n",
       "      <td>8565.21</td>\n",
       "    </tr>\n",
       "    <tr>\n",
       "      <th>9</th>\n",
       "      <td>12468.87</td>\n",
       "    </tr>\n",
       "    <tr>\n",
       "      <th>10</th>\n",
       "      <td>14768.14</td>\n",
       "    </tr>\n",
       "    <tr>\n",
       "      <th>11</th>\n",
       "      <td>11356.89</td>\n",
       "    </tr>\n",
       "    <tr>\n",
       "      <th>12</th>\n",
       "      <td>10121.53</td>\n",
       "    </tr>\n",
       "    <tr>\n",
       "      <th rowspan=\"8\" valign=\"top\">1004</th>\n",
       "      <th>5</th>\n",
       "      <td>13403.98</td>\n",
       "    </tr>\n",
       "    <tr>\n",
       "      <th>6</th>\n",
       "      <td>17600.02</td>\n",
       "    </tr>\n",
       "    <tr>\n",
       "      <th>7</th>\n",
       "      <td>22229.58</td>\n",
       "    </tr>\n",
       "    <tr>\n",
       "      <th>8</th>\n",
       "      <td>28584.37</td>\n",
       "    </tr>\n",
       "    <tr>\n",
       "      <th>9</th>\n",
       "      <td>15109.03</td>\n",
       "    </tr>\n",
       "    <tr>\n",
       "      <th>10</th>\n",
       "      <td>18475.44</td>\n",
       "    </tr>\n",
       "    <tr>\n",
       "      <th>11</th>\n",
       "      <td>15616.02</td>\n",
       "    </tr>\n",
       "    <tr>\n",
       "      <th>12</th>\n",
       "      <td>18021.04</td>\n",
       "    </tr>\n",
       "  </tbody>\n",
       "</table>\n",
       "</div>"
      ],
      "text/plain": [
       "                mb_used\n",
       "user_id month          \n",
       "1000    5       2253.49\n",
       "        6      23233.77\n",
       "        7      14003.64\n",
       "        8      14055.93\n",
       "        9      14568.91\n",
       "        10     14702.49\n",
       "        11     14756.47\n",
       "        12      9817.61\n",
       "1001    11     18429.34\n",
       "        12     14036.66\n",
       "1002    6      10856.82\n",
       "        7      17580.10\n",
       "        8      20319.26\n",
       "        9      16691.08\n",
       "        10     13888.25\n",
       "        11     18587.28\n",
       "        12     18113.73\n",
       "1003    8       8565.21\n",
       "        9      12468.87\n",
       "        10     14768.14\n",
       "        11     11356.89\n",
       "        12     10121.53\n",
       "1004    5      13403.98\n",
       "        6      17600.02\n",
       "        7      22229.58\n",
       "        8      28584.37\n",
       "        9      15109.03\n",
       "        10     18475.44\n",
       "        11     15616.02\n",
       "        12     18021.04"
      ]
     },
     "execution_count": 23,
     "metadata": {},
     "output_type": "execute_result"
    }
   ],
   "source": [
    "sessions_per_month = sessions.groupby(['user_id','month']).agg({'mb_used': 'sum'})\n",
    "sessions_per_month.head(30)"
   ]
  },
  {
   "cell_type": "markdown",
   "id": "666438dc-82a5-41e7-a548-e30ac22d3d59",
   "metadata": {},
   "source": [
    "## 3. Анализ данных и подсчёт выручки.<a id='section_id_3'></a>"
   ]
  },
  {
   "cell_type": "markdown",
   "id": "9d9f645e-081c-42ab-abe7-0ed565b568f4",
   "metadata": {},
   "source": [
    "## 3.1. Объединим все посчитанные значения в новый датафрейм. Посчитать помесячную выручку с каждого пользователя."
   ]
  },
  {
   "cell_type": "markdown",
   "id": "1cc5c673-10e2-4aa3-a0d1-2575650a2a14",
   "metadata": {},
   "source": [
    "* Определим сколько процентов клиентов прекратили пользоваться тарифом."
   ]
  },
  {
   "cell_type": "code",
   "execution_count": 24,
   "id": "49e1d72a-f188-4307-a0c4-accbda1005d9",
   "metadata": {},
   "outputs": [
    {
     "data": {
      "text/plain": [
       "7.6"
      ]
     },
     "execution_count": 24,
     "metadata": {},
     "output_type": "execute_result"
    }
   ],
   "source": [
    "users['churn_date'].count() / users['churn_date'].shape[0] * 100"
   ]
  },
  {
   "cell_type": "markdown",
   "id": "a72550b5-30d1-46d0-a3f3-fbb8c833d5b8",
   "metadata": {},
   "source": [
    "Расторгли договор 7.6% клиентов из датасета"
   ]
  },
  {
   "cell_type": "markdown",
   "id": "4f395f83-a2ea-43c1-909b-3cf84578df9d",
   "metadata": {},
   "source": [
    "* Объединим все посчитанные выше значения в один датафрейм `user_behavior`.\n",
    "Для каждой пары \"пользователь - месяц\" будут доступны информация о тарифе, количестве звонков, сообщений и потраченных мегабайтах."
   ]
  },
  {
   "cell_type": "code",
   "execution_count": 25,
   "id": "c691db4b-6cbb-4a5f-92c3-fa4b80d37d19",
   "metadata": {},
   "outputs": [
    {
     "data": {
      "text/html": [
       "<div>\n",
       "<style scoped>\n",
       "    .dataframe tbody tr th:only-of-type {\n",
       "        vertical-align: middle;\n",
       "    }\n",
       "\n",
       "    .dataframe tbody tr th {\n",
       "        vertical-align: top;\n",
       "    }\n",
       "\n",
       "    .dataframe thead th {\n",
       "        text-align: right;\n",
       "    }\n",
       "</style>\n",
       "<table border=\"1\" class=\"dataframe\">\n",
       "  <thead>\n",
       "    <tr style=\"text-align: right;\">\n",
       "      <th></th>\n",
       "      <th>user_id</th>\n",
       "      <th>month</th>\n",
       "      <th>calls</th>\n",
       "      <th>messages</th>\n",
       "      <th>mb_used</th>\n",
       "      <th>minutes</th>\n",
       "      <th>age</th>\n",
       "      <th>churn_date</th>\n",
       "      <th>city</th>\n",
       "      <th>first_name</th>\n",
       "      <th>last_name</th>\n",
       "      <th>reg_date</th>\n",
       "      <th>tariff</th>\n",
       "    </tr>\n",
       "  </thead>\n",
       "  <tbody>\n",
       "    <tr>\n",
       "      <th>0</th>\n",
       "      <td>1000</td>\n",
       "      <td>5</td>\n",
       "      <td>22.0</td>\n",
       "      <td>22.0</td>\n",
       "      <td>2253.49</td>\n",
       "      <td>159.0</td>\n",
       "      <td>52</td>\n",
       "      <td>NaT</td>\n",
       "      <td>Краснодар</td>\n",
       "      <td>Рафаил</td>\n",
       "      <td>Верещагин</td>\n",
       "      <td>2018-05-25</td>\n",
       "      <td>ultra</td>\n",
       "    </tr>\n",
       "    <tr>\n",
       "      <th>1</th>\n",
       "      <td>1000</td>\n",
       "      <td>6</td>\n",
       "      <td>43.0</td>\n",
       "      <td>60.0</td>\n",
       "      <td>23233.77</td>\n",
       "      <td>172.0</td>\n",
       "      <td>52</td>\n",
       "      <td>NaT</td>\n",
       "      <td>Краснодар</td>\n",
       "      <td>Рафаил</td>\n",
       "      <td>Верещагин</td>\n",
       "      <td>2018-05-25</td>\n",
       "      <td>ultra</td>\n",
       "    </tr>\n",
       "    <tr>\n",
       "      <th>2</th>\n",
       "      <td>1000</td>\n",
       "      <td>7</td>\n",
       "      <td>47.0</td>\n",
       "      <td>75.0</td>\n",
       "      <td>14003.64</td>\n",
       "      <td>340.0</td>\n",
       "      <td>52</td>\n",
       "      <td>NaT</td>\n",
       "      <td>Краснодар</td>\n",
       "      <td>Рафаил</td>\n",
       "      <td>Верещагин</td>\n",
       "      <td>2018-05-25</td>\n",
       "      <td>ultra</td>\n",
       "    </tr>\n",
       "    <tr>\n",
       "      <th>3</th>\n",
       "      <td>1000</td>\n",
       "      <td>8</td>\n",
       "      <td>52.0</td>\n",
       "      <td>81.0</td>\n",
       "      <td>14055.93</td>\n",
       "      <td>408.0</td>\n",
       "      <td>52</td>\n",
       "      <td>NaT</td>\n",
       "      <td>Краснодар</td>\n",
       "      <td>Рафаил</td>\n",
       "      <td>Верещагин</td>\n",
       "      <td>2018-05-25</td>\n",
       "      <td>ultra</td>\n",
       "    </tr>\n",
       "    <tr>\n",
       "      <th>4</th>\n",
       "      <td>1000</td>\n",
       "      <td>9</td>\n",
       "      <td>58.0</td>\n",
       "      <td>57.0</td>\n",
       "      <td>14568.91</td>\n",
       "      <td>466.0</td>\n",
       "      <td>52</td>\n",
       "      <td>NaT</td>\n",
       "      <td>Краснодар</td>\n",
       "      <td>Рафаил</td>\n",
       "      <td>Верещагин</td>\n",
       "      <td>2018-05-25</td>\n",
       "      <td>ultra</td>\n",
       "    </tr>\n",
       "  </tbody>\n",
       "</table>\n",
       "</div>"
      ],
      "text/plain": [
       "   user_id  month  calls  messages   mb_used  minutes  age churn_date  \\\n",
       "0     1000      5   22.0      22.0   2253.49    159.0   52        NaT   \n",
       "1     1000      6   43.0      60.0  23233.77    172.0   52        NaT   \n",
       "2     1000      7   47.0      75.0  14003.64    340.0   52        NaT   \n",
       "3     1000      8   52.0      81.0  14055.93    408.0   52        NaT   \n",
       "4     1000      9   58.0      57.0  14568.91    466.0   52        NaT   \n",
       "\n",
       "        city first_name  last_name   reg_date tariff  \n",
       "0  Краснодар     Рафаил  Верещагин 2018-05-25  ultra  \n",
       "1  Краснодар     Рафаил  Верещагин 2018-05-25  ultra  \n",
       "2  Краснодар     Рафаил  Верещагин 2018-05-25  ultra  \n",
       "3  Краснодар     Рафаил  Верещагин 2018-05-25  ultra  \n",
       "4  Краснодар     Рафаил  Верещагин 2018-05-25  ultra  "
      ]
     },
     "execution_count": 25,
     "metadata": {},
     "output_type": "execute_result"
    }
   ],
   "source": [
    "user_behavior = calls_per_month\\\n",
    "    .merge(messages_per_month, left_index=True, right_index=True, how='outer')\\\n",
    "    .merge(sessions_per_month, left_index=True, right_index=True, how='outer')\\\n",
    "    .merge(minutes_per_month, left_index=True, right_index=True, how='outer')\\\n",
    "    .reset_index()\\\n",
    "    .merge(users, how='left', left_on='user_id', right_on='user_id')\\\n",
    "\n",
    "user_behavior.head()"
   ]
  },
  {
   "cell_type": "markdown",
   "id": "aac082b7-d0d3-48df-8942-205527d68d11",
   "metadata": {},
   "source": [
    "* Проверим пропуски в таблице `user_behavior` после объединения."
   ]
  },
  {
   "cell_type": "code",
   "execution_count": 26,
   "id": "3434e31c-e624-4877-97b1-e301f7611868",
   "metadata": {},
   "outputs": [
    {
     "data": {
      "text/plain": [
       "user_id          0\n",
       "month            0\n",
       "calls           40\n",
       "messages       497\n",
       "mb_used         11\n",
       "minutes         40\n",
       "age              0\n",
       "churn_date    3027\n",
       "city             0\n",
       "first_name       0\n",
       "last_name        0\n",
       "reg_date         0\n",
       "tariff           0\n",
       "dtype: int64"
      ]
     },
     "execution_count": 26,
     "metadata": {},
     "output_type": "execute_result"
    }
   ],
   "source": [
    "user_behavior.isna().sum()"
   ]
  },
  {
   "cell_type": "markdown",
   "id": "af86f62b-ea8c-43b4-910a-4b594cb48594",
   "metadata": {},
   "source": [
    "Заполним образовавшиеся пропуски в данных:"
   ]
  },
  {
   "cell_type": "code",
   "execution_count": 27,
   "id": "72054e0e-ccb8-469a-897a-e0b5bf7b152c",
   "metadata": {},
   "outputs": [],
   "source": [
    "user_behavior['calls'] = user_behavior['calls'].fillna(0)\n",
    "user_behavior['minutes'] = user_behavior['minutes'].fillna(0)\n",
    "user_behavior['messages'] = user_behavior['messages'].fillna(0)\n",
    "user_behavior['mb_used'] = user_behavior['mb_used'].fillna(0)"
   ]
  },
  {
   "cell_type": "markdown",
   "id": "bea61803-356e-44ea-9b29-7c87507a3b7d",
   "metadata": {},
   "source": [
    "* Присоединим информацию о тарифах"
   ]
  },
  {
   "cell_type": "code",
   "execution_count": 28,
   "id": "708210f4-9abd-4dcb-897d-5cab60982370",
   "metadata": {},
   "outputs": [],
   "source": [
    "tariffs = tariffs.rename(\n",
    "    columns={\n",
    "        'tariff_name': 'tariff'\n",
    "    }\n",
    ")\n",
    "user_behavior = user_behavior.merge(tariffs, on='tariff')"
   ]
  },
  {
   "cell_type": "markdown",
   "id": "b7ad71ca-4285-42d1-a7a0-42e71bd080c8",
   "metadata": {},
   "source": [
    "* Посчитаем количество минут разговора, сообщений и мегабайт, превышающих включенные в тариф"
   ]
  },
  {
   "cell_type": "code",
   "execution_count": 29,
   "id": "639690d4-086a-4af8-a129-5a069daae489",
   "metadata": {},
   "outputs": [],
   "source": [
    "user_behavior['paid_minutes'] = user_behavior['minutes'] - user_behavior['minutes_included']\n",
    "user_behavior['paid_messages'] = user_behavior['messages'] - user_behavior['messages_included']\n",
    "user_behavior['paid_mb'] = user_behavior['mb_used'] - user_behavior['mb_per_month_included']\n",
    "\n",
    "for col in ['paid_messages', 'paid_minutes', 'paid_mb']:\n",
    "    user_behavior.loc[user_behavior[col] < 0, col] = 0"
   ]
  },
  {
   "cell_type": "markdown",
   "id": "8101a7c6-d262-42f8-9735-8eddc37ffd20",
   "metadata": {},
   "source": [
    "* Переведём превышающие тариф мегабайты в гигабайты и сохраним в столбец `paid_gb`"
   ]
  },
  {
   "cell_type": "code",
   "execution_count": 30,
   "id": "fb1441a1-36d4-4ce2-a802-8ab013f2959c",
   "metadata": {},
   "outputs": [],
   "source": [
    "user_behavior['paid_gb'] = np.ceil(user_behavior['paid_mb'] / 1024).astype(int)"
   ]
  },
  {
   "cell_type": "markdown",
   "id": "d63894c4-8ebb-45a3-b7ad-5ecb91715588",
   "metadata": {},
   "source": [
    "* Посчитаем выручку за минуты разговора, сообщения и интернет."
   ]
  },
  {
   "cell_type": "code",
   "execution_count": 31,
   "id": "217c9012-8ddf-4569-9d35-2e82cd439953",
   "metadata": {},
   "outputs": [],
   "source": [
    "user_behavior['cost_minutes'] = user_behavior['paid_minutes'] * user_behavior['rub_per_minute']\n",
    "user_behavior['cost_messages'] = user_behavior['paid_messages'] * user_behavior['rub_per_message']\n",
    "user_behavior['cost_gb'] = user_behavior['paid_gb'] * user_behavior['rub_per_gb']"
   ]
  },
  {
   "cell_type": "markdown",
   "id": "8317a93c-4fae-4ba2-9722-10bd9b6f4abb",
   "metadata": {},
   "source": [
    "* Посчитаем помесячную выручку с каждого пользователя, она будет храниться в столбец `total_cost`"
   ]
  },
  {
   "cell_type": "code",
   "execution_count": 32,
   "id": "0a9fc6e0-92c6-4466-beee-da25b2bb9de8",
   "metadata": {},
   "outputs": [],
   "source": [
    "user_behavior['total_cost'] = \\\n",
    "      user_behavior['rub_monthly_fee']\\\n",
    "    + user_behavior['cost_minutes']\\\n",
    "    + user_behavior['cost_messages']\\\n",
    "    + user_behavior['cost_gb']"
   ]
  },
  {
   "cell_type": "markdown",
   "id": "4e9d86d2-077e-4d90-982c-f5de4c818ca1",
   "metadata": {},
   "source": [
    "### 3.2. Сохнаним статистические метрики для каждой пары месяц-тариф в одной таблице (среднее значение, стандартное отклонение, медиана)."
   ]
  },
  {
   "cell_type": "markdown",
   "id": "74978a48-ffc4-48d5-82ee-e0185938b91b",
   "metadata": {},
   "source": [
    "* Созданим датафрейм `stats_df` для каждой пары \"месяц-тариф\". Он будет хранить основные характеристики статистических метрик (среднее значение, стандартное отклонение, медиана)."
   ]
  },
  {
   "cell_type": "code",
   "execution_count": 33,
   "id": "b7be542c-6cb0-411b-afe8-c6dd1c74b890",
   "metadata": {},
   "outputs": [
    {
     "data": {
      "text/html": [
       "<div>\n",
       "<style scoped>\n",
       "    .dataframe tbody tr th:only-of-type {\n",
       "        vertical-align: middle;\n",
       "    }\n",
       "\n",
       "    .dataframe tbody tr th {\n",
       "        vertical-align: top;\n",
       "    }\n",
       "\n",
       "    .dataframe thead th {\n",
       "        text-align: right;\n",
       "    }\n",
       "</style>\n",
       "<table border=\"1\" class=\"dataframe\">\n",
       "  <thead>\n",
       "    <tr style=\"text-align: right;\">\n",
       "      <th></th>\n",
       "      <th>month</th>\n",
       "      <th>tariff</th>\n",
       "      <th>calls_mean</th>\n",
       "      <th>sessions_mean</th>\n",
       "      <th>messages_mean</th>\n",
       "      <th>minutes_mean</th>\n",
       "      <th>calls_std</th>\n",
       "      <th>sessions_std</th>\n",
       "      <th>messages_std</th>\n",
       "      <th>minutes_std</th>\n",
       "      <th>calls_median</th>\n",
       "      <th>sessions_median</th>\n",
       "      <th>messages_median</th>\n",
       "      <th>minutes_median</th>\n",
       "    </tr>\n",
       "  </thead>\n",
       "  <tbody>\n",
       "    <tr>\n",
       "      <th>0</th>\n",
       "      <td>1</td>\n",
       "      <td>smart</td>\n",
       "      <td>27.68</td>\n",
       "      <td>8513.72</td>\n",
       "      <td>18.24</td>\n",
       "      <td>203.85</td>\n",
       "      <td>20.81</td>\n",
       "      <td>6444.68</td>\n",
       "      <td>16.20</td>\n",
       "      <td>154.23</td>\n",
       "      <td>20.5</td>\n",
       "      <td>7096.18</td>\n",
       "      <td>15.0</td>\n",
       "      <td>162.5</td>\n",
       "    </tr>\n",
       "    <tr>\n",
       "      <th>1</th>\n",
       "      <td>1</td>\n",
       "      <td>ultra</td>\n",
       "      <td>59.44</td>\n",
       "      <td>13140.68</td>\n",
       "      <td>33.78</td>\n",
       "      <td>428.11</td>\n",
       "      <td>41.64</td>\n",
       "      <td>6865.35</td>\n",
       "      <td>30.67</td>\n",
       "      <td>269.76</td>\n",
       "      <td>51.0</td>\n",
       "      <td>14791.37</td>\n",
       "      <td>32.0</td>\n",
       "      <td>382.0</td>\n",
       "    </tr>\n",
       "    <tr>\n",
       "      <th>2</th>\n",
       "      <td>2</td>\n",
       "      <td>smart</td>\n",
       "      <td>40.19</td>\n",
       "      <td>11597.05</td>\n",
       "      <td>24.09</td>\n",
       "      <td>298.69</td>\n",
       "      <td>25.39</td>\n",
       "      <td>6247.35</td>\n",
       "      <td>21.75</td>\n",
       "      <td>190.82</td>\n",
       "      <td>38.5</td>\n",
       "      <td>12553.71</td>\n",
       "      <td>20.0</td>\n",
       "      <td>258.0</td>\n",
       "    </tr>\n",
       "    <tr>\n",
       "      <th>3</th>\n",
       "      <td>2</td>\n",
       "      <td>ultra</td>\n",
       "      <td>41.54</td>\n",
       "      <td>11775.94</td>\n",
       "      <td>21.96</td>\n",
       "      <td>297.12</td>\n",
       "      <td>40.97</td>\n",
       "      <td>10644.64</td>\n",
       "      <td>26.77</td>\n",
       "      <td>296.51</td>\n",
       "      <td>25.0</td>\n",
       "      <td>7327.12</td>\n",
       "      <td>5.5</td>\n",
       "      <td>168.0</td>\n",
       "    </tr>\n",
       "    <tr>\n",
       "      <th>4</th>\n",
       "      <td>3</td>\n",
       "      <td>smart</td>\n",
       "      <td>54.32</td>\n",
       "      <td>15104.16</td>\n",
       "      <td>31.86</td>\n",
       "      <td>390.05</td>\n",
       "      <td>25.54</td>\n",
       "      <td>5828.24</td>\n",
       "      <td>26.80</td>\n",
       "      <td>191.89</td>\n",
       "      <td>59.0</td>\n",
       "      <td>15670.25</td>\n",
       "      <td>23.0</td>\n",
       "      <td>409.0</td>\n",
       "    </tr>\n",
       "    <tr>\n",
       "      <th>5</th>\n",
       "      <td>3</td>\n",
       "      <td>ultra</td>\n",
       "      <td>67.68</td>\n",
       "      <td>17535.55</td>\n",
       "      <td>32.30</td>\n",
       "      <td>489.65</td>\n",
       "      <td>44.84</td>\n",
       "      <td>10951.79</td>\n",
       "      <td>41.62</td>\n",
       "      <td>333.74</td>\n",
       "      <td>57.0</td>\n",
       "      <td>17495.18</td>\n",
       "      <td>20.0</td>\n",
       "      <td>403.0</td>\n",
       "    </tr>\n",
       "    <tr>\n",
       "      <th>6</th>\n",
       "      <td>4</td>\n",
       "      <td>smart</td>\n",
       "      <td>51.31</td>\n",
       "      <td>13462.18</td>\n",
       "      <td>30.74</td>\n",
       "      <td>367.13</td>\n",
       "      <td>25.70</td>\n",
       "      <td>5698.25</td>\n",
       "      <td>24.54</td>\n",
       "      <td>186.49</td>\n",
       "      <td>52.0</td>\n",
       "      <td>14087.65</td>\n",
       "      <td>28.0</td>\n",
       "      <td>368.5</td>\n",
       "    </tr>\n",
       "    <tr>\n",
       "      <th>7</th>\n",
       "      <td>4</td>\n",
       "      <td>ultra</td>\n",
       "      <td>64.09</td>\n",
       "      <td>16828.13</td>\n",
       "      <td>31.56</td>\n",
       "      <td>458.02</td>\n",
       "      <td>36.27</td>\n",
       "      <td>9718.65</td>\n",
       "      <td>37.51</td>\n",
       "      <td>267.68</td>\n",
       "      <td>61.0</td>\n",
       "      <td>16645.78</td>\n",
       "      <td>17.0</td>\n",
       "      <td>453.0</td>\n",
       "    </tr>\n",
       "    <tr>\n",
       "      <th>8</th>\n",
       "      <td>5</td>\n",
       "      <td>smart</td>\n",
       "      <td>55.24</td>\n",
       "      <td>15805.18</td>\n",
       "      <td>33.77</td>\n",
       "      <td>387.36</td>\n",
       "      <td>25.38</td>\n",
       "      <td>5978.23</td>\n",
       "      <td>27.04</td>\n",
       "      <td>186.60</td>\n",
       "      <td>59.0</td>\n",
       "      <td>16323.94</td>\n",
       "      <td>30.0</td>\n",
       "      <td>433.0</td>\n",
       "    </tr>\n",
       "    <tr>\n",
       "      <th>9</th>\n",
       "      <td>5</td>\n",
       "      <td>ultra</td>\n",
       "      <td>72.51</td>\n",
       "      <td>19363.15</td>\n",
       "      <td>37.85</td>\n",
       "      <td>510.33</td>\n",
       "      <td>41.08</td>\n",
       "      <td>10046.11</td>\n",
       "      <td>40.31</td>\n",
       "      <td>289.60</td>\n",
       "      <td>75.0</td>\n",
       "      <td>18696.43</td>\n",
       "      <td>25.0</td>\n",
       "      <td>519.0</td>\n",
       "    </tr>\n",
       "  </tbody>\n",
       "</table>\n",
       "</div>"
      ],
      "text/plain": [
       "   month tariff  calls_mean  sessions_mean  messages_mean  minutes_mean  \\\n",
       "0      1  smart       27.68        8513.72          18.24        203.85   \n",
       "1      1  ultra       59.44       13140.68          33.78        428.11   \n",
       "2      2  smart       40.19       11597.05          24.09        298.69   \n",
       "3      2  ultra       41.54       11775.94          21.96        297.12   \n",
       "4      3  smart       54.32       15104.16          31.86        390.05   \n",
       "5      3  ultra       67.68       17535.55          32.30        489.65   \n",
       "6      4  smart       51.31       13462.18          30.74        367.13   \n",
       "7      4  ultra       64.09       16828.13          31.56        458.02   \n",
       "8      5  smart       55.24       15805.18          33.77        387.36   \n",
       "9      5  ultra       72.51       19363.15          37.85        510.33   \n",
       "\n",
       "   calls_std  sessions_std  messages_std  minutes_std  calls_median  \\\n",
       "0      20.81       6444.68         16.20       154.23          20.5   \n",
       "1      41.64       6865.35         30.67       269.76          51.0   \n",
       "2      25.39       6247.35         21.75       190.82          38.5   \n",
       "3      40.97      10644.64         26.77       296.51          25.0   \n",
       "4      25.54       5828.24         26.80       191.89          59.0   \n",
       "5      44.84      10951.79         41.62       333.74          57.0   \n",
       "6      25.70       5698.25         24.54       186.49          52.0   \n",
       "7      36.27       9718.65         37.51       267.68          61.0   \n",
       "8      25.38       5978.23         27.04       186.60          59.0   \n",
       "9      41.08      10046.11         40.31       289.60          75.0   \n",
       "\n",
       "   sessions_median  messages_median  minutes_median  \n",
       "0          7096.18             15.0           162.5  \n",
       "1         14791.37             32.0           382.0  \n",
       "2         12553.71             20.0           258.0  \n",
       "3          7327.12              5.5           168.0  \n",
       "4         15670.25             23.0           409.0  \n",
       "5         17495.18             20.0           403.0  \n",
       "6         14087.65             28.0           368.5  \n",
       "7         16645.78             17.0           453.0  \n",
       "8         16323.94             30.0           433.0  \n",
       "9         18696.43             25.0           519.0  "
      ]
     },
     "execution_count": 33,
     "metadata": {},
     "output_type": "execute_result"
    }
   ],
   "source": [
    "stats_df = user_behavior.pivot_table(\n",
    "            index=['month', 'tariff'],\\\n",
    "            values=['calls', 'minutes', 'messages', 'mb_used'],\\\n",
    "            aggfunc=['mean', 'std', 'median']\\\n",
    ").round(2).reset_index()\n",
    "\n",
    "stats_df.columns=['month', 'tariff', 'calls_mean', 'sessions_mean', 'messages_mean', 'minutes_mean',\n",
    "                                     'calls_std',  'sessions_std', 'messages_std', 'minutes_std', \n",
    "                                     'calls_median', 'sessions_median', 'messages_median',  'minutes_median']\n",
    "\n",
    "stats_df.head(10)"
   ]
  },
  {
   "cell_type": "markdown",
   "id": "ba1fd7b9-d81f-4160-849d-6079b7a3d68d",
   "metadata": {},
   "source": [
    "### 3.3. Построим распределения количества звонков, продолжительности звонков, количества сообщений и потраченного графика по месяцам с разрезе тарифов. Сделать выводы."
   ]
  },
  {
   "cell_type": "markdown",
   "id": "5e926e58-7452-40df-9ad3-08f9d82a9460",
   "metadata": {},
   "source": [
    "* Распределение среднего количества звонков по видам тарифов и месяцам."
   ]
  },
  {
   "cell_type": "code",
   "execution_count": 34,
   "id": "63179000-ea00-4308-acf9-7672ae89678e",
   "metadata": {},
   "outputs": [
    {
     "data": {
      "image/png": "[encoded data removed]",
      "text/plain": [
       "<Figure size 500x400 with 1 Axes>"
      ]
     },
     "metadata": {},
     "output_type": "display_data"
    }
   ],
   "source": [
    "plt.figure(figsize=(5, 4))\n",
    "ax = sns.barplot(x='month',\n",
    "            y='calls_mean',\n",
    "            hue=\"tariff\",\n",
    "            data=stats_df,\n",
    "            palette=['lightblue', 'blue'])\n",
    "\n",
    "ax.set_title('Распределение количества звонков по видам тарифов и месяцам')\n",
    "ax.set(xlabel='Номер месяца', ylabel='Среднее количество звонков');"
   ]
  },
  {
   "cell_type": "code",
   "execution_count": 35,
   "id": "b99b700f-4e4e-4223-94fc-d05ca0af60cf",
   "metadata": {},
   "outputs": [
    {
     "data": {
      "image/png": "[encoded data removed]",
      "text/plain": [
       "<Figure size 500x400 with 1 Axes>"
      ]
     },
     "metadata": {},
     "output_type": "display_data"
    }
   ],
   "source": [
    "plt.figure(figsize=(5, 4))\n",
    "user_behavior.groupby('tariff')['calls'].plot(kind='hist', bins=35, alpha=0.5)\n",
    "plt.legend(['Smart', 'Ultra'])\n",
    "plt.title('График сравнения тарифов по количеству звонков')\n",
    "plt.xlabel('Количество звонков')\n",
    "plt.ylabel('Количество клиентов')\n",
    "plt.show()"
   ]
  },
  {
   "cell_type": "markdown",
   "id": "f52a3619-e621-419e-982f-1e046dce689d",
   "metadata": {},
   "source": [
    "Среднее количество звонков растёт у обоих тарифов в течение года. Тариф Ultra превышает тариф Smart по частоте звонков клиентами."
   ]
  },
  {
   "cell_type": "markdown",
   "id": "215cc7b7-1b77-4718-921d-3fa353934a1c",
   "metadata": {},
   "source": [
    "* Распределение средней продолжительности звонков по видам тарифов и месяцам."
   ]
  },
  {
   "cell_type": "code",
   "execution_count": 36,
   "id": "f1d750d7-cbfc-4120-ac3e-25b7d830ae82",
   "metadata": {},
   "outputs": [
    {
     "data": {
      "image/png": "[encoded data removed]",
      "text/plain": [
       "<Figure size 500x400 with 1 Axes>"
      ]
     },
     "metadata": {},
     "output_type": "display_data"
    }
   ],
   "source": [
    "plt.figure(figsize=(5, 4))\n",
    "ax = sns.barplot(x='month',\n",
    "            y='minutes_mean',\n",
    "            hue=\"tariff\",\n",
    "            data=stats_df,\n",
    "            palette=['lightblue', 'blue'])\n",
    "\n",
    "ax.set_title('Распределение продолжительности звонков по видам тарифов и месяцам')\n",
    "ax.set(xlabel='Номер месяца', ylabel='Средняя продолжительность звонков');"
   ]
  },
  {
   "cell_type": "code",
   "execution_count": 37,
   "id": "55c09a76-ce0e-46b7-91e0-9bfd16250751",
   "metadata": {},
   "outputs": [
    {
     "data": {
      "image/png": "[encoded data removed]",
      "text/plain": [
       "<Figure size 500x400 with 1 Axes>"
      ]
     },
     "metadata": {},
     "output_type": "display_data"
    }
   ],
   "source": [
    "plt.figure(figsize=(5, 4))\n",
    "user_behavior[user_behavior['tariff'] =='smart']['minutes'].hist(bins=35, alpha=0.5, color='green')\n",
    "user_behavior[user_behavior['tariff'] =='ultra']['minutes'].hist(bins=35, alpha=0.5, color='blue')\n",
    "plt.legend(['Smart', 'Ultra'])\n",
    "plt.title('График сравнения тарифов по продолжительности звонков')\n",
    "plt.xlabel('Количество минут')\n",
    "plt.ylabel('Количество клиентов')\n",
    "plt.show()"
   ]
  },
  {
   "cell_type": "markdown",
   "id": "32ed488c-686f-4481-b899-1c2bcb3c51a1",
   "metadata": {},
   "source": [
    "**Вывод.** Длительность разговоров у абонентов тарифа Ultra больше, чем у абонентов тарифа Smart. В течение года пользователи обоих тарифов увеличивают среднюю продолжительность своих разговоров. Рост средней длительности разговоров у абонентов тарифа Smart равномерный в течение года. Пользователи тарифа Ultra не проявляют подобной линейной стабильности. Стоит отметить, что феврале у абонентов обоих тарифных планов наблюдались самые низкие показатели."
   ]
  },
  {
   "cell_type": "markdown",
   "id": "302b9a96-59ae-4738-8a60-a8c0ca4a0e4f",
   "metadata": {},
   "source": [
    "* Распределение среднего количества сообщений по видам тарифов и месяцам"
   ]
  },
  {
   "cell_type": "code",
   "execution_count": 38,
   "id": "23138dc1-e774-4dfa-97a3-83e524373f8d",
   "metadata": {},
   "outputs": [
    {
     "data": {
      "image/png": "[encoded data removed]",
      "text/plain": [
       "<Figure size 500x400 with 1 Axes>"
      ]
     },
     "metadata": {},
     "output_type": "display_data"
    }
   ],
   "source": [
    "plt.figure(figsize=(5, 4))\n",
    "ax = sns.barplot(x='month',\n",
    "            y='messages_mean',\n",
    "            hue=\"tariff\",\n",
    "            data=stats_df,\n",
    "            palette=['lightblue', 'blue']\n",
    ")\n",
    "\n",
    "ax.set_title('Распределение количества сообщений по видам тарифов и месяцам')\n",
    "ax.set(xlabel='Номер месяца', ylabel='Среднее количество сообщений');"
   ]
  },
  {
   "cell_type": "code",
   "execution_count": 39,
   "id": "9b7c1e8f-581e-41ba-aa02-33708a4e3163",
   "metadata": {},
   "outputs": [
    {
     "data": {
      "image/png": "[encoded data removed]",
      "text/plain": [
       "<Figure size 500x400 with 1 Axes>"
      ]
     },
     "metadata": {},
     "output_type": "display_data"
    }
   ],
   "source": [
    "plt.figure(figsize=(5, 4))\n",
    "user_behavior[user_behavior['tariff'] =='smart']['messages'].hist(bins=35, alpha=0.5, color='green')\n",
    "user_behavior[user_behavior['tariff'] =='ultra']['messages'].hist(bins=35, alpha=0.5, color='blue')\n",
    "plt.legend(['Smart', 'Ultra'])\n",
    "plt.title('График сравнения тарифов по количеству смс')\n",
    "plt.xlabel('Количество смс')\n",
    "plt.ylabel('Количество клиентов')\n",
    "plt.show()"
   ]
  },
  {
   "cell_type": "markdown",
   "id": "13ed93ec-6f1a-4c22-9b1b-fb57a4fbfeb7",
   "metadata": {},
   "source": [
    "**Вывод.** В среднем количество сообщений пользователи тарифа Ultra отправляют больше - почти на 20 сообщений больше, чем пользователи тарифа Smart. Количество сообщений в течение года на обоих тарифак растет. Динамика по отправке сообщений схожа с тенденциями по длительности разговоров: в феврале отмечено наименьшее количество сообщений за год и пользователи тарифа Ultra также проявляют нелинейную положительную динамику."
   ]
  },
  {
   "cell_type": "markdown",
   "id": "6c9114b8-d875-4902-9ace-3151913db255",
   "metadata": {},
   "source": [
    "* Распределение количества потраченного трафика (Мб) по видам тарифов и месяцам"
   ]
  },
  {
   "cell_type": "code",
   "execution_count": 40,
   "id": "d31e5dd8-7344-449f-84be-9f9ed90f3101",
   "metadata": {},
   "outputs": [
    {
     "data": {
      "image/png": "[encoded data removed]",
      "text/plain": [
       "<Figure size 500x400 with 1 Axes>"
      ]
     },
     "metadata": {},
     "output_type": "display_data"
    }
   ],
   "source": [
    "plt.figure(figsize=(5, 4))\n",
    "ax = sns.barplot(x='month',\n",
    "            y='sessions_mean',\n",
    "            hue=\"tariff\",\n",
    "            data=stats_df,\n",
    "            palette=['lightblue', 'blue']\n",
    ")\n",
    "\n",
    "ax.set_title('Распределение количества потраченного трафика (Мб) по видам тарифов и месяцам')\n",
    "ax.set(xlabel='Номер месяца', ylabel='Среднее количество мегабайт');"
   ]
  },
  {
   "cell_type": "markdown",
   "id": "83329bd2-6663-4645-998e-688253106e2a",
   "metadata": {},
   "source": [
    "Сравнение потраченных мегабайт среди пользователей тарифов Smart и Ultra"
   ]
  },
  {
   "cell_type": "code",
   "execution_count": 41,
   "id": "cc32e7c6-ebb5-4dd5-a732-347be3caa8c6",
   "metadata": {},
   "outputs": [
    {
     "data": {
      "image/png": "[encoded data removed]",
      "text/plain": [
       "<Figure size 500x400 with 1 Axes>"
      ]
     },
     "metadata": {},
     "output_type": "display_data"
    }
   ],
   "source": [
    "plt.figure(figsize=(5, 4))\n",
    "user_behavior[user_behavior['tariff'] =='smart']['mb_used'].hist(bins=35, alpha=0.5, color='green')\n",
    "user_behavior[user_behavior['tariff'] =='ultra']['mb_used'].hist(bins=35, alpha=0.5, color='blue')\n",
    "plt.legend(['Smart', 'Ultra'])\n",
    "plt.title('График сравнения тарифов по количеству трафика (Мб)')\n",
    "plt.xlabel('Количество мегабайт')\n",
    "plt.ylabel('Количество клиентов')\n",
    "plt.show()"
   ]
  },
  {
   "cell_type": "markdown",
   "id": "404bf6e4-31af-4551-bba9-b393732b513b",
   "metadata": {},
   "source": [
    "**Вывод.** Меньше всего пользователи использовали интернет в январе, феврале и апреле. Чаще всего абоненты тарифа Smart тратят 15-17 Гб, а абоненты тарифного плана Ultra - 19-21 ГБ."
   ]
  },
  {
   "cell_type": "markdown",
   "id": "a9aaaeda-c42f-43a2-97c4-93ae34dec721",
   "metadata": {},
   "source": [
    "## 4. Проверка гипотез.<a id='section_id_4'></a>"
   ]
  },
  {
   "cell_type": "markdown",
   "id": "7f1bc3c8-f57b-4555-be95-50c3cd3a2377",
   "metadata": {},
   "source": [
    "### 4.1. Средняя выручка пользователей тарифов «Ультра» и «Смарт» различаются."
   ]
  },
  {
   "cell_type": "markdown",
   "id": "33c124a6-712e-414e-94bf-9ea5be3386d5",
   "metadata": {},
   "source": [
    "H<sub>0</sub>: Выручка (total_cost) пользователей \"Ультра\" = выручка (total_cost) пользователей \"Смарт\"`\n",
    "\n",
    "H<sub>a</sub>: Выручка (total_cost) пользователей \"Ультра\" ≠ выручка (total_cost) пользователей \"Смарт\"`\n",
    "alpha = 0.05"
   ]
  },
  {
   "cell_type": "code",
   "execution_count": 42,
   "id": "d2d6bf12-7ddb-4cd7-93b9-8f832ca24501",
   "metadata": {},
   "outputs": [
    {
     "name": "stdout",
     "output_type": "stream",
     "text": [
      "4.2606313931076085e-250\n",
      "Отвергаем нулевую гипотезу\n"
     ]
    }
   ],
   "source": [
    "total_cost_1 = user_behavior.loc[user_behavior['tariff'] == 'smart']['total_cost']\n",
    "total_cost_2 = user_behavior.loc[user_behavior['tariff'] == 'ultra']['total_cost']\n",
    "results = st.ttest_ind(\n",
    "    total_cost_1, \n",
    "    total_cost_2, equal_var = False)\n",
    "\n",
    "alpha = 0.05\n",
    "\n",
    "print(results.pvalue)\n",
    "\n",
    "if results.pvalue < alpha:\n",
    "    print(\"Отвергаем нулевую гипотезу\")\n",
    "else:\n",
    "    print(\"Не получилось отвергнуть нулевую гипотезу\")"
   ]
  },
  {
   "cell_type": "markdown",
   "id": "d0b95593-5e3a-4206-84e8-0fda1ee10806",
   "metadata": {},
   "source": [
    "Наши данные показывают очень маловероятные результаты, поэтому они могут не противоречить альтернативной гипотезе H<sub>1</sub>."
   ]
  },
  {
   "cell_type": "markdown",
   "id": "506472e7-14a5-43cd-be1a-79e625a34d8d",
   "metadata": {},
   "source": [
    "### 4.2.Средняя выручка с пользователей из Москвы отличается от выручки с пользователей других регионов."
   ]
  },
  {
   "cell_type": "markdown",
   "id": "212f77d0-d4f6-4e06-8591-6c6a307c00cb",
   "metadata": {},
   "source": [
    "H<sub>0</sub>: Выручка (total_cost) пользователей из Москвы = выручка (total_cost) пользователей не из Москвы\n",
    "\n",
    "H<sub>а</sub>: Выручка (total_cost) пользователей из Москвы ≠ выручка (total_cost) пользователей не из Москвы\n"
   ]
  },
  {
   "cell_type": "code",
   "execution_count": 43,
   "id": "c30d1228-18f0-42bc-8e2c-2874e300c704",
   "metadata": {},
   "outputs": [
    {
     "name": "stdout",
     "output_type": "stream",
     "text": [
      "0.5257376663729298\n",
      "Не получилось отвергнуть нулевую гипотезу\n"
     ]
    }
   ],
   "source": [
    "total_cost_1 = user_behavior.loc[user_behavior['city'] == 'Москва']['total_cost']\n",
    "total_cost_2 = user_behavior.loc[user_behavior['city'] != 'Москва']['total_cost']\n",
    "results = st.ttest_ind(\n",
    "    total_cost_1, \n",
    "    total_cost_2, equal_var = False)\n",
    "\n",
    "alpha = 0.05\n",
    "\n",
    "print(results.pvalue)\n",
    "\n",
    "if results.pvalue < alpha:\n",
    "    print(\"Отвергаем нулевую гипотезу\")\n",
    "else:\n",
    "    print(\"Не получилось отвергнуть нулевую гипотезу\")"
   ]
  },
  {
   "cell_type": "markdown",
   "id": "6635070e-b2d9-445f-b6b5-f70403c49366",
   "metadata": {},
   "source": [
    "Наш эксперимент говорит нам о том, что наши данные не противоречат нулевой гипотезе."
   ]
  },
  {
   "cell_type": "markdown",
   "id": "dcdc10bb-387f-4ddd-8ad1-8960a42236ba",
   "metadata": {},
   "source": [
    "## 5. Общий вывод.<a id='section_id_5'></a>"
   ]
  },
  {
   "cell_type": "markdown",
   "id": "b5efab20-e7b1-4d53-abfb-fcc3b86bbb7f",
   "metadata": {},
   "source": [
    "**Количество звонков.**\n",
    "\n",
    "Пользователи тарифа Ultra совершают больше количество звонков, чем пользователи тарифа Smart. В разбивке по месяцам можно наблюдать что пользователи обоих тарифов в течение года нелинейно увеличивают количество звонков.\n",
    "\n",
    "**Средняя продолжительность звонков.**\n",
    "\n",
    "Средняя длительность разговоров у абонентов тарифа Ultra больше, чем у абонентов тарифа Smart. В течение года пользователи обоих тарифов увеличивают среднюю продолжительность своих разговоров. Рост средней длительности разговоров у абонентов тарифа Smart равномерный в течение года. Пользователи тарифа Ultra не проявляют подобной линейной стабильности. Стоит отметить, что феврале у абонентов обоих тарифных планов наблюдались самые низкие показатели.\n",
    "\n",
    "**Среднее количество сообщений.**\n",
    "\n",
    "В среднем количество сообщений пользователи тарифа Ultra отправляют больше - почти на 20 сообщений больше, чем пользователи тарифа Smart. Количество сообщений в течение года на обоих тарифак растет. Динамика по отправке сообщений схожа с тенденциями по длительности разговоров: в феврале отмечено наименьшее количество сообщений за год и пользователи тарифа Ultra также проявляют нелинейную положительную динамику.\n",
    "\n",
    "**Использование интернет-трафика.**\n",
    "\n",
    "Меньше всего пользователи использовали интернет в январе, феврале и апреле. Чаще всего абоненты тарифа Smart тратят 15-17 Гб, а абоненты тарифного плана Ultra - 19-21 ГБ.\n",
    "\n",
    "**Проверка статиститческих гипотез.**\n",
    "\n",
    "* Наши данные ге противоречат гипотезе о том, что выручка пользователей Ультра ра равна выручке пользователей Смарт.\n",
    "* Наши данные ге противоречат гипотезе о том, выручка пользователей Москвы равна выручке пользователей не из Москвы."
   ]
  }
 ],
 "metadata": {
  "kernelspec": {
   "display_name": "Python 3 (ipykernel)",
   "language": "python",
   "name": "python3"
  },
  "language_info": {
   "codemirror_mode": {
    "name": "ipython",
    "version": 3
   },
   "file_extension": ".py",
   "mimetype": "text/x-python",
   "name": "python",
   "nbconvert_exporter": "python",
   "pygments_lexer": "ipython3",
   "version": "3.9.17"
  }
 },
 "nbformat": 4,
 "nbformat_minor": 5
}
