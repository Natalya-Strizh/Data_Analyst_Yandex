{
 "cells": [
  {
   "cell_type": "markdown",
   "id": "61bd4e92-7569-4238-a0ea-dc7ea699bcfa",
   "metadata": {},
   "source": [
    "# Тестирование двух платёжных воронок"
   ]
  },
  {
   "cell_type": "markdown",
   "id": "ff124486-5146-4e2d-b7c5-372ba16f6a1b",
   "metadata": {},
   "source": [
    "**Техническое задание**\n",
    "* Название теста: recommender_system_test;\n",
    "* Группы: А (контрольная), B (новая платёжная воронка);\n",
    "* Дата запуска: 2020-12-07;\n",
    "* Дата остановки набора новых пользователей: 2020-12-21;\n",
    "* Дата остановки: 2021-01-04;\n",
    "* Аудитория: 15% новых пользователей из региона EU;\n",
    "* Назначение теста: тестирование изменений, связанных с внедрением улучшенной рекомендательной системы;\n",
    "* Ожидаемое количество участников теста: 6000.\n",
    "* Ожидаемый эффект: за 14 дней с момента регистрации в системе пользователи покажут улучшение каждой метрики не менее, чем на 10%:\n",
    " - конверсии в просмотр карточек товаров — событие product_page\n",
    " - просмотры корзины — product_cart\n",
    " - покупки — purchase."
   ]
  },
  {
   "cell_type": "markdown",
   "id": "207f8b05-5718-464e-a8b3-87a33990c47a",
   "metadata": {},
   "source": [
    "**План.**\n",
    "1. [Описать цели исследования.](#section_id_1)\n",
    "2. [Исследовать данные.](#section_id_2)\n",
    "* Изучить данные.\n",
    "* Преобразовать некоторые типы данных.\n",
    "* Провести проверку на пропущенные значения.\n",
    "* Провести проверку на дубликаты.\n",
    "3. [Провести оценка корректности данных.](#section_id_3)\n",
    "* Проверить временные данные на соответствие условиям проекта.\n",
    "* Проверить корректность поля details.\n",
    "* Определить количество групп в нашем тесте.\n",
    "* Определить дату начала и окончания регистрации.\n",
    "* Отфилльтровать данные теста по типу теста recommender_system_test.\n",
    "* Проверить на условие, что 15% новых пользователей из региона EU.\n",
    "* Определить сколько пользователей в каждой группе.\n",
    "* Объеденить данные в одну таблицу.\n",
    "* Проверить ожидаемое количество участников теста.\n",
    "* Поставить ограничение на лайфтайм клиента - 14 дней.\n",
    "* Проверить нет в тесте пользователей, учавствовавших в обоих группах одновременно.\n",
    "* Определим сколько пользователей в каждой группе\n",
    "4. [Провести исследовательский анализ данных. Ответить на вопросы:](#section_id_4)\n",
    "* Количество событий на пользователя одинаково распределены в выборках?\n",
    "* Как число событий в выборках распределено по дням?\n",
    "* Время проведения теста не совпадает с маркетинговыми и другими активностями?\n",
    "* Как меняется конверсия в воронке в выборках на разных этапах?\n",
    "* Какие особенности данных нужно учесть, прежде чем приступать к A/B-тестированию?\n",
    "5. [Провести A/B-тестирование.](#section_id_5)\n",
    "* Создать таблицу, которая покажет конверсию.\n",
    "* Создать сводную таблицу для теста.\n",
    "* Сформулировать гипотезы и провести тесты.\n",
    "* Проверка уровня статистической значимости\n",
    "6. [Вывод.](#section_id_6)"
   ]
  },
  {
   "cell_type": "markdown",
   "id": "aa546000-6016-4cd3-90f8-9a608236028d",
   "metadata": {},
   "source": [
    "**Описание данных.** <br>\n",
    "\n",
    "**Данные:**\n",
    "* `ab_project_marketing_events.csv`<br>\n",
    "* `final_ab_new_users.csv`<br>\n",
    "* `final_ab_events.csv`<br>\n",
    "* `final_ab_participants.csv`<br>\n",
    "\n",
    "\n",
    "**`ab_project_marketing_events.csv`** — календарь маркетинговых событий на 2020 год;<br>\n",
    "* `name` — название маркетингового события;\n",
    "* `regions` — регионы, в которых будет проводиться рекламная кампания;\n",
    "* `start_dt` — дата начала кампании;\n",
    "* `finish_dt` — дата завершения кампании.\n",
    "\n",
    "\n",
    "**`final_ab_new_users.csv`** — все пользователи, зарегистрировавшиеся в интернет-магазине в период с 7 по 21 декабря 2020 года;\n",
    "* `user_id` — идентификатор пользователя;\n",
    "* `first_date` — дата регистрации;\n",
    "* `region` — регион пользователя;\n",
    "* `device` — устройство, с которого происходила регистрация.\n",
    "\n",
    "\n",
    "**`final_ab_events.csv`** — все события новых пользователей в период с 7 декабря 2020 по 4 января 2021 года;\n",
    "* `user_id` — идентификатор пользователя;\n",
    "* `event_dt` — дата и время события;\n",
    "* `event_name` — тип события;\n",
    "* `details` — дополнительные данные о событии. Например, для покупок, purchase, в этом поле хранится стоимость покупки в долларах.\n",
    "\n",
    "\n",
    "**`final_ab_participants.csv`** — таблица участников тестов.<br>\n",
    "* `user_id` — идентификатор пользователя;\n",
    "* `ab_test` — название теста;\n",
    "* `group` — группа пользователя"
   ]
  },
  {
   "cell_type": "markdown",
   "id": "f7d4ca84-c2b0-4c62-8823-95f989c28406",
   "metadata": {},
   "source": [
    "## 1. Описание целей исследования.<a id='section_id_1'></a>"
   ]
  },
  {
   "cell_type": "markdown",
   "id": "c6d76228-c2c9-451e-9e8c-2ba9d4b19e04",
   "metadata": {},
   "source": [
    "В нашем распоряжении датасет с действиями пользователей, техническое задание и несколько вспомогательных датасетов. Наша задача — провести оценку результатов A/B-теста.<br>\n",
    "* <u>Назначение теста:</u> тестирование изменений, связанных с внедрением улучшенной рекомендательной системы.<br>\n",
    "* <u>Ожидаемый эффект:</u> за 14 дней с момента регистрации в системе пользователи покажут улучшение каждой метрики не менее, чем на 10%:<br>\n",
    "   * конверсии в просмотр карточек товаров — событие `product_page`<br>\n",
    "   * просмотры корзины — `product_cart`<br>\n",
    "   * покупки — `purchase`<br>"
   ]
  },
  {
   "cell_type": "markdown",
   "id": "1cb1d158-4c0f-47f5-9955-ff4dc4f05a46",
   "metadata": {},
   "source": [
    "## 2. Исследование данных.<a id='section_id_2'></a>"
   ]
  },
  {
   "cell_type": "markdown",
   "id": "d9fdd175-c460-41e9-a74e-f73772d43aeb",
   "metadata": {},
   "source": [
    "* **Изучим данные**"
   ]
  },
  {
   "cell_type": "code",
   "execution_count": 1,
   "id": "52289403-d66f-45cf-b5c8-3b8ded8b1444",
   "metadata": {},
   "outputs": [],
   "source": [
    "import pandas as pd\n",
    "import datetime as dt\n",
    "import matplotlib.pyplot as plt\n",
    "import warnings\n",
    "import seaborn as sns\n",
    "import math as mth\n",
    "import numpy as np\n",
    "from scipy import stats as st\n",
    "import plotly.express as px\n",
    "from plotly import graph_objects as go"
   ]
  },
  {
   "cell_type": "code",
   "execution_count": 2,
   "id": "dd4eee5c-f802-42ae-b468-ccacc7e136a9",
   "metadata": {},
   "outputs": [],
   "source": [
    "try:\n",
    "    marketing, new_users, events, participants = (\n",
    "    pd.read_csv('ab_project_marketing_events.csv'),\n",
    "    pd.read_csv('final_ab_new_users.csv'), \n",
    "    pd.read_csv('final_ab_events.csv'),\n",
    "    pd.read_csv('final_ab_participants.csv')\n",
    ")\n",
    "except: FilePathError"
   ]
  },
  {
   "cell_type": "code",
   "execution_count": 3,
   "id": "6311e0d6-9127-4dda-9a95-eab8d71bd7c5",
   "metadata": {},
   "outputs": [
    {
     "data": {
      "text/html": [
       "<div>\n",
       "<style scoped>\n",
       "    .dataframe tbody tr th:only-of-type {\n",
       "        vertical-align: middle;\n",
       "    }\n",
       "\n",
       "    .dataframe tbody tr th {\n",
       "        vertical-align: top;\n",
       "    }\n",
       "\n",
       "    .dataframe thead th {\n",
       "        text-align: right;\n",
       "    }\n",
       "</style>\n",
       "<table border=\"1\" class=\"dataframe\">\n",
       "  <thead>\n",
       "    <tr style=\"text-align: right;\">\n",
       "      <th></th>\n",
       "      <th>name</th>\n",
       "      <th>regions</th>\n",
       "      <th>start_dt</th>\n",
       "      <th>finish_dt</th>\n",
       "    </tr>\n",
       "  </thead>\n",
       "  <tbody>\n",
       "    <tr>\n",
       "      <th>0</th>\n",
       "      <td>Christmas&amp;New Year Promo</td>\n",
       "      <td>EU, N.America</td>\n",
       "      <td>2020-12-25</td>\n",
       "      <td>2021-01-03</td>\n",
       "    </tr>\n",
       "    <tr>\n",
       "      <th>1</th>\n",
       "      <td>St. Valentine's Day Giveaway</td>\n",
       "      <td>EU, CIS, APAC, N.America</td>\n",
       "      <td>2020-02-14</td>\n",
       "      <td>2020-02-16</td>\n",
       "    </tr>\n",
       "    <tr>\n",
       "      <th>2</th>\n",
       "      <td>St. Patric's Day Promo</td>\n",
       "      <td>EU, N.America</td>\n",
       "      <td>2020-03-17</td>\n",
       "      <td>2020-03-19</td>\n",
       "    </tr>\n",
       "    <tr>\n",
       "      <th>3</th>\n",
       "      <td>Easter Promo</td>\n",
       "      <td>EU, CIS, APAC, N.America</td>\n",
       "      <td>2020-04-12</td>\n",
       "      <td>2020-04-19</td>\n",
       "    </tr>\n",
       "    <tr>\n",
       "      <th>4</th>\n",
       "      <td>4th of July Promo</td>\n",
       "      <td>N.America</td>\n",
       "      <td>2020-07-04</td>\n",
       "      <td>2020-07-11</td>\n",
       "    </tr>\n",
       "  </tbody>\n",
       "</table>\n",
       "</div>"
      ],
      "text/plain": [
       "                           name                   regions    start_dt  \\\n",
       "0      Christmas&New Year Promo             EU, N.America  2020-12-25   \n",
       "1  St. Valentine's Day Giveaway  EU, CIS, APAC, N.America  2020-02-14   \n",
       "2        St. Patric's Day Promo             EU, N.America  2020-03-17   \n",
       "3                  Easter Promo  EU, CIS, APAC, N.America  2020-04-12   \n",
       "4             4th of July Promo                 N.America  2020-07-04   \n",
       "\n",
       "    finish_dt  \n",
       "0  2021-01-03  \n",
       "1  2020-02-16  \n",
       "2  2020-03-19  \n",
       "3  2020-04-19  \n",
       "4  2020-07-11  "
      ]
     },
     "execution_count": 3,
     "metadata": {},
     "output_type": "execute_result"
    }
   ],
   "source": [
    "marketing.head()"
   ]
  },
  {
   "cell_type": "code",
   "execution_count": 4,
   "id": "7ea1d24e-a150-4621-8b21-8f265d168f77",
   "metadata": {},
   "outputs": [
    {
     "name": "stdout",
     "output_type": "stream",
     "text": [
      "<class 'pandas.core.frame.DataFrame'>\n",
      "RangeIndex: 14 entries, 0 to 13\n",
      "Data columns (total 4 columns):\n",
      " #   Column     Non-Null Count  Dtype \n",
      "---  ------     --------------  ----- \n",
      " 0   name       14 non-null     object\n",
      " 1   regions    14 non-null     object\n",
      " 2   start_dt   14 non-null     object\n",
      " 3   finish_dt  14 non-null     object\n",
      "dtypes: object(4)\n",
      "memory usage: 576.0+ bytes\n"
     ]
    }
   ],
   "source": [
    "marketing.info()"
   ]
  },
  {
   "cell_type": "code",
   "execution_count": 5,
   "id": "bf0568e1-9fbe-4c96-8ba3-b77d0f0f45fa",
   "metadata": {},
   "outputs": [
    {
     "data": {
      "text/html": [
       "<div>\n",
       "<style scoped>\n",
       "    .dataframe tbody tr th:only-of-type {\n",
       "        vertical-align: middle;\n",
       "    }\n",
       "\n",
       "    .dataframe tbody tr th {\n",
       "        vertical-align: top;\n",
       "    }\n",
       "\n",
       "    .dataframe thead th {\n",
       "        text-align: right;\n",
       "    }\n",
       "</style>\n",
       "<table border=\"1\" class=\"dataframe\">\n",
       "  <thead>\n",
       "    <tr style=\"text-align: right;\">\n",
       "      <th></th>\n",
       "      <th>user_id</th>\n",
       "      <th>first_date</th>\n",
       "      <th>region</th>\n",
       "      <th>device</th>\n",
       "    </tr>\n",
       "  </thead>\n",
       "  <tbody>\n",
       "    <tr>\n",
       "      <th>0</th>\n",
       "      <td>D72A72121175D8BE</td>\n",
       "      <td>2020-12-07</td>\n",
       "      <td>EU</td>\n",
       "      <td>PC</td>\n",
       "    </tr>\n",
       "    <tr>\n",
       "      <th>1</th>\n",
       "      <td>F1C668619DFE6E65</td>\n",
       "      <td>2020-12-07</td>\n",
       "      <td>N.America</td>\n",
       "      <td>Android</td>\n",
       "    </tr>\n",
       "    <tr>\n",
       "      <th>2</th>\n",
       "      <td>2E1BF1D4C37EA01F</td>\n",
       "      <td>2020-12-07</td>\n",
       "      <td>EU</td>\n",
       "      <td>PC</td>\n",
       "    </tr>\n",
       "    <tr>\n",
       "      <th>3</th>\n",
       "      <td>50734A22C0C63768</td>\n",
       "      <td>2020-12-07</td>\n",
       "      <td>EU</td>\n",
       "      <td>iPhone</td>\n",
       "    </tr>\n",
       "    <tr>\n",
       "      <th>4</th>\n",
       "      <td>E1BDDCE0DAFA2679</td>\n",
       "      <td>2020-12-07</td>\n",
       "      <td>N.America</td>\n",
       "      <td>iPhone</td>\n",
       "    </tr>\n",
       "  </tbody>\n",
       "</table>\n",
       "</div>"
      ],
      "text/plain": [
       "            user_id  first_date     region   device\n",
       "0  D72A72121175D8BE  2020-12-07         EU       PC\n",
       "1  F1C668619DFE6E65  2020-12-07  N.America  Android\n",
       "2  2E1BF1D4C37EA01F  2020-12-07         EU       PC\n",
       "3  50734A22C0C63768  2020-12-07         EU   iPhone\n",
       "4  E1BDDCE0DAFA2679  2020-12-07  N.America   iPhone"
      ]
     },
     "execution_count": 5,
     "metadata": {},
     "output_type": "execute_result"
    }
   ],
   "source": [
    "new_users.head()"
   ]
  },
  {
   "cell_type": "code",
   "execution_count": 6,
   "id": "8de484d6-1aec-4556-be2d-a6340f422ae9",
   "metadata": {},
   "outputs": [
    {
     "name": "stdout",
     "output_type": "stream",
     "text": [
      "<class 'pandas.core.frame.DataFrame'>\n",
      "RangeIndex: 61733 entries, 0 to 61732\n",
      "Data columns (total 4 columns):\n",
      " #   Column      Non-Null Count  Dtype \n",
      "---  ------      --------------  ----- \n",
      " 0   user_id     61733 non-null  object\n",
      " 1   first_date  61733 non-null  object\n",
      " 2   region      61733 non-null  object\n",
      " 3   device      61733 non-null  object\n",
      "dtypes: object(4)\n",
      "memory usage: 1.9+ MB\n"
     ]
    }
   ],
   "source": [
    "new_users.info()"
   ]
  },
  {
   "cell_type": "code",
   "execution_count": 7,
   "id": "95728265-52d4-4d1b-829e-27a4989fe590",
   "metadata": {},
   "outputs": [
    {
     "data": {
      "text/html": [
       "<div>\n",
       "<style scoped>\n",
       "    .dataframe tbody tr th:only-of-type {\n",
       "        vertical-align: middle;\n",
       "    }\n",
       "\n",
       "    .dataframe tbody tr th {\n",
       "        vertical-align: top;\n",
       "    }\n",
       "\n",
       "    .dataframe thead th {\n",
       "        text-align: right;\n",
       "    }\n",
       "</style>\n",
       "<table border=\"1\" class=\"dataframe\">\n",
       "  <thead>\n",
       "    <tr style=\"text-align: right;\">\n",
       "      <th></th>\n",
       "      <th>user_id</th>\n",
       "      <th>event_dt</th>\n",
       "      <th>event_name</th>\n",
       "      <th>details</th>\n",
       "    </tr>\n",
       "  </thead>\n",
       "  <tbody>\n",
       "    <tr>\n",
       "      <th>0</th>\n",
       "      <td>E1BDDCE0DAFA2679</td>\n",
       "      <td>2020-12-07 20:22:03</td>\n",
       "      <td>purchase</td>\n",
       "      <td>99.99</td>\n",
       "    </tr>\n",
       "    <tr>\n",
       "      <th>1</th>\n",
       "      <td>7B6452F081F49504</td>\n",
       "      <td>2020-12-07 09:22:53</td>\n",
       "      <td>purchase</td>\n",
       "      <td>9.99</td>\n",
       "    </tr>\n",
       "    <tr>\n",
       "      <th>2</th>\n",
       "      <td>9CD9F34546DF254C</td>\n",
       "      <td>2020-12-07 12:59:29</td>\n",
       "      <td>purchase</td>\n",
       "      <td>4.99</td>\n",
       "    </tr>\n",
       "    <tr>\n",
       "      <th>3</th>\n",
       "      <td>96F27A054B191457</td>\n",
       "      <td>2020-12-07 04:02:40</td>\n",
       "      <td>purchase</td>\n",
       "      <td>4.99</td>\n",
       "    </tr>\n",
       "    <tr>\n",
       "      <th>4</th>\n",
       "      <td>1FD7660FDF94CA1F</td>\n",
       "      <td>2020-12-07 10:15:09</td>\n",
       "      <td>purchase</td>\n",
       "      <td>4.99</td>\n",
       "    </tr>\n",
       "  </tbody>\n",
       "</table>\n",
       "</div>"
      ],
      "text/plain": [
       "            user_id             event_dt event_name  details\n",
       "0  E1BDDCE0DAFA2679  2020-12-07 20:22:03   purchase    99.99\n",
       "1  7B6452F081F49504  2020-12-07 09:22:53   purchase     9.99\n",
       "2  9CD9F34546DF254C  2020-12-07 12:59:29   purchase     4.99\n",
       "3  96F27A054B191457  2020-12-07 04:02:40   purchase     4.99\n",
       "4  1FD7660FDF94CA1F  2020-12-07 10:15:09   purchase     4.99"
      ]
     },
     "execution_count": 7,
     "metadata": {},
     "output_type": "execute_result"
    }
   ],
   "source": [
    "events.head()"
   ]
  },
  {
   "cell_type": "code",
   "execution_count": 8,
   "id": "7dce1d7e-0830-4500-806a-934dbdef0a53",
   "metadata": {},
   "outputs": [
    {
     "name": "stdout",
     "output_type": "stream",
     "text": [
      "<class 'pandas.core.frame.DataFrame'>\n",
      "RangeIndex: 440317 entries, 0 to 440316\n",
      "Data columns (total 4 columns):\n",
      " #   Column      Non-Null Count   Dtype  \n",
      "---  ------      --------------   -----  \n",
      " 0   user_id     440317 non-null  object \n",
      " 1   event_dt    440317 non-null  object \n",
      " 2   event_name  440317 non-null  object \n",
      " 3   details     62740 non-null   float64\n",
      "dtypes: float64(1), object(3)\n",
      "memory usage: 13.4+ MB\n"
     ]
    }
   ],
   "source": [
    "events.info()"
   ]
  },
  {
   "cell_type": "code",
   "execution_count": 9,
   "id": "8861972f-19b6-48ee-ae21-ad18fd32e757",
   "metadata": {},
   "outputs": [
    {
     "data": {
      "text/html": [
       "<div>\n",
       "<style scoped>\n",
       "    .dataframe tbody tr th:only-of-type {\n",
       "        vertical-align: middle;\n",
       "    }\n",
       "\n",
       "    .dataframe tbody tr th {\n",
       "        vertical-align: top;\n",
       "    }\n",
       "\n",
       "    .dataframe thead th {\n",
       "        text-align: right;\n",
       "    }\n",
       "</style>\n",
       "<table border=\"1\" class=\"dataframe\">\n",
       "  <thead>\n",
       "    <tr style=\"text-align: right;\">\n",
       "      <th></th>\n",
       "      <th>user_id</th>\n",
       "      <th>group</th>\n",
       "      <th>ab_test</th>\n",
       "    </tr>\n",
       "  </thead>\n",
       "  <tbody>\n",
       "    <tr>\n",
       "      <th>0</th>\n",
       "      <td>D1ABA3E2887B6A73</td>\n",
       "      <td>A</td>\n",
       "      <td>recommender_system_test</td>\n",
       "    </tr>\n",
       "    <tr>\n",
       "      <th>1</th>\n",
       "      <td>A7A3664BD6242119</td>\n",
       "      <td>A</td>\n",
       "      <td>recommender_system_test</td>\n",
       "    </tr>\n",
       "    <tr>\n",
       "      <th>2</th>\n",
       "      <td>DABC14FDDFADD29E</td>\n",
       "      <td>A</td>\n",
       "      <td>recommender_system_test</td>\n",
       "    </tr>\n",
       "    <tr>\n",
       "      <th>3</th>\n",
       "      <td>04988C5DF189632E</td>\n",
       "      <td>A</td>\n",
       "      <td>recommender_system_test</td>\n",
       "    </tr>\n",
       "    <tr>\n",
       "      <th>4</th>\n",
       "      <td>482F14783456D21B</td>\n",
       "      <td>B</td>\n",
       "      <td>recommender_system_test</td>\n",
       "    </tr>\n",
       "  </tbody>\n",
       "</table>\n",
       "</div>"
      ],
      "text/plain": [
       "            user_id group                  ab_test\n",
       "0  D1ABA3E2887B6A73     A  recommender_system_test\n",
       "1  A7A3664BD6242119     A  recommender_system_test\n",
       "2  DABC14FDDFADD29E     A  recommender_system_test\n",
       "3  04988C5DF189632E     A  recommender_system_test\n",
       "4  482F14783456D21B     B  recommender_system_test"
      ]
     },
     "execution_count": 9,
     "metadata": {},
     "output_type": "execute_result"
    }
   ],
   "source": [
    "participants.head()"
   ]
  },
  {
   "cell_type": "code",
   "execution_count": 10,
   "id": "71067e00-97b1-4755-8250-9729ead116cb",
   "metadata": {},
   "outputs": [
    {
     "name": "stdout",
     "output_type": "stream",
     "text": [
      "<class 'pandas.core.frame.DataFrame'>\n",
      "RangeIndex: 18268 entries, 0 to 18267\n",
      "Data columns (total 3 columns):\n",
      " #   Column   Non-Null Count  Dtype \n",
      "---  ------   --------------  ----- \n",
      " 0   user_id  18268 non-null  object\n",
      " 1   group    18268 non-null  object\n",
      " 2   ab_test  18268 non-null  object\n",
      "dtypes: object(3)\n",
      "memory usage: 428.3+ KB\n"
     ]
    }
   ],
   "source": [
    "participants.info()"
   ]
  },
  {
   "cell_type": "markdown",
   "id": "0327f052-3018-422a-8a51-cc7cd52acd4a",
   "metadata": {},
   "source": [
    "* **Преобразуем некоторые типы данных**"
   ]
  },
  {
   "cell_type": "code",
   "execution_count": 11,
   "id": "3ad9e194-9963-43fb-ad42-a244253b6a3a",
   "metadata": {},
   "outputs": [],
   "source": [
    "marketing['start_dt'] = pd.to_datetime(marketing['start_dt']) \n",
    "marketing['finish_dt'] = pd.to_datetime(marketing['finish_dt']) \n",
    "new_users['first_date'] = pd.to_datetime(new_users['first_date']) \n",
    "events['event_dt'] = pd.to_datetime(events['event_dt'])"
   ]
  },
  {
   "cell_type": "markdown",
   "id": "504df16b-cb99-46a7-b9bd-c4aaa9f69db8",
   "metadata": {},
   "source": [
    "* **Проверка на пропущенные значения**"
   ]
  },
  {
   "cell_type": "code",
   "execution_count": 12,
   "id": "837d5947-2527-49b1-aa82-a133bfde2662",
   "metadata": {},
   "outputs": [
    {
     "name": "stdout",
     "output_type": "stream",
     "text": [
      "name         0\n",
      "regions      0\n",
      "start_dt     0\n",
      "finish_dt    0\n",
      "dtype: int64\n",
      "user_id       0\n",
      "first_date    0\n",
      "region        0\n",
      "device        0\n",
      "dtype: int64\n",
      "user_id            0\n",
      "event_dt           0\n",
      "event_name         0\n",
      "details       377577\n",
      "dtype: int64\n",
      "user_id    0\n",
      "group      0\n",
      "ab_test    0\n",
      "dtype: int64\n"
     ]
    }
   ],
   "source": [
    "pass_list = [marketing, new_users, events, participants]\n",
    "for index in pass_list:\n",
    "    print(index.isna().sum())"
   ]
  },
  {
   "cell_type": "code",
   "execution_count": 13,
   "id": "0a1d9946-fc84-455e-a2cf-d43d980ef9a1",
   "metadata": {},
   "outputs": [
    {
     "data": {
      "text/plain": [
       "377577"
      ]
     },
     "execution_count": 13,
     "metadata": {},
     "output_type": "execute_result"
    }
   ],
   "source": [
    "len(events[events['event_name'] != 'purchase'])"
   ]
  },
  {
   "cell_type": "markdown",
   "id": "d64d16cc-4825-4097-92ac-ab10aff6e3f5",
   "metadata": {},
   "source": [
    "Пропуски найдены в одном поле, `details` датафрейма `events`, которое несёт информацию о дополнительных данных о событии. В нашем случае оно несёт информацию о стоимости покупки в долларах события `purchase`, а в остальных данных пропущенное значение."
   ]
  },
  {
   "cell_type": "markdown",
   "id": "e01d580f-d639-4508-a442-ec572d8a0739",
   "metadata": {},
   "source": [
    "* **Проверка на дубликаты**"
   ]
  },
  {
   "cell_type": "code",
   "execution_count": 14,
   "id": "3bd1efd8-6ec0-4aea-b392-84b791a90b54",
   "metadata": {},
   "outputs": [
    {
     "name": "stdout",
     "output_type": "stream",
     "text": [
      "0\n",
      "0\n",
      "0\n",
      "0\n"
     ]
    }
   ],
   "source": [
    "duplicate_list = [marketing, new_users, events, participants]\n",
    "for index in duplicate_list:\n",
    "    print(index.duplicated().sum())"
   ]
  },
  {
   "cell_type": "markdown",
   "id": "4ef29062-5475-42d3-b95b-7173c8fdff3a",
   "metadata": {},
   "source": [
    "## 3. Оценка корректности данных.<a id='section_id_3'></a>"
   ]
  },
  {
   "cell_type": "markdown",
   "id": "ef34241d-6ce6-4d82-95e8-8cca9fcd43a5",
   "metadata": {},
   "source": [
    "* **Проверим временные данные на соответствие условиям проекта**"
   ]
  },
  {
   "cell_type": "code",
   "execution_count": 15,
   "id": "3826004a-cdff-4b01-88e8-ec1986025fb9",
   "metadata": {},
   "outputs": [
    {
     "data": {
      "text/plain": [
       "0"
      ]
     },
     "execution_count": 15,
     "metadata": {},
     "output_type": "execute_result"
    }
   ],
   "source": [
    "len(marketing[marketing['start_dt'] > marketing['finish_dt']])"
   ]
  },
  {
   "cell_type": "markdown",
   "id": "828be5b5-3e9e-4986-a9ec-28259c729027",
   "metadata": {},
   "source": [
    "* **Проверим корректность поля `details`**"
   ]
  },
  {
   "cell_type": "code",
   "execution_count": 16,
   "id": "ca7f7863-d6b9-42fc-a855-05ac5d2320ec",
   "metadata": {},
   "outputs": [
    {
     "name": "stdout",
     "output_type": "stream",
     "text": [
      "[ 99.99   9.99   4.99 499.99    nan]\n",
      "Empty DataFrame\n",
      "Columns: [user_id, event_dt, event_name, details]\n",
      "Index: []\n"
     ]
    }
   ],
   "source": [
    "print(events['details'].unique())\n",
    "print(events[events['details'] < 0])"
   ]
  },
  {
   "cell_type": "markdown",
   "id": "13d67c17-5c9d-4d1a-bb96-375b8cf2cf86",
   "metadata": {},
   "source": [
    "* **Определим количество групп в нашем тесте**"
   ]
  },
  {
   "cell_type": "code",
   "execution_count": 17,
   "id": "cfcdaf40-99c2-4bc9-8c93-24a2f829f89a",
   "metadata": {},
   "outputs": [
    {
     "data": {
      "text/plain": [
       "array(['A', 'B'], dtype=object)"
      ]
     },
     "execution_count": 17,
     "metadata": {},
     "output_type": "execute_result"
    }
   ],
   "source": [
    "participants['group'].unique()"
   ]
  },
  {
   "cell_type": "markdown",
   "id": "ab817c88-c4f2-438f-9ebd-86e50f8f37ac",
   "metadata": {},
   "source": [
    "Перед нами парный тест"
   ]
  },
  {
   "cell_type": "markdown",
   "id": "8062f613-9437-4bca-9bdb-88662eb54cef",
   "metadata": {},
   "source": [
    "* **Определим дату начала и окончания регистрации**"
   ]
  },
  {
   "cell_type": "code",
   "execution_count": 18,
   "id": "3ac55caa-1df5-4e92-ac35-896ff59c4560",
   "metadata": {},
   "outputs": [
    {
     "name": "stdout",
     "output_type": "stream",
     "text": [
      "Минимальная дата регистрации 2020-12-07 00:00:00\n",
      "Максимальная дата регистрации 2020-12-23 00:00:00\n",
      "Минимальная дата события 2020-12-07 00:00:33\n",
      "Максимальная дата события 2020-12-30 23:36:33\n"
     ]
    }
   ],
   "source": [
    "print('Минимальная дата регистрации', new_users['first_date'].min())\n",
    "print('Максимальная дата регистрации', new_users['first_date'].max())\n",
    "print('Минимальная дата события', events['event_dt'].min())\n",
    "print('Максимальная дата события', events['event_dt'].max())"
   ]
  },
  {
   "cell_type": "markdown",
   "id": "3d1ed90d-5e5d-4050-a96e-d4e2d1f7e809",
   "metadata": {},
   "source": [
    "По ТЗ дата остановки набора новых пользователей - `2020-12-21`, значит начиная с `2020-12-22` набор новых пользователей прекращается."
   ]
  },
  {
   "cell_type": "code",
   "execution_count": 19,
   "id": "0eeaf57e-b5ff-4aea-9f87-9eb2d0afdeb6",
   "metadata": {},
   "outputs": [
    {
     "data": {
      "text/plain": [
       "Timestamp('2020-12-21 00:00:00')"
      ]
     },
     "execution_count": 19,
     "metadata": {},
     "output_type": "execute_result"
    }
   ],
   "source": [
    "new_users = new_users.query('first_date < \"2020-12-22 00:00:00\"')\n",
    "new_users['first_date'].max()"
   ]
  },
  {
   "cell_type": "markdown",
   "id": "32dc1d0f-8b14-4555-b18b-70eb2508c7ca",
   "metadata": {},
   "source": [
    "Дата остановки набора новых пользователей: 2020-12-21. Мы рассматриваем события, которые совершены в течение 14 дней с момента регистрации."
   ]
  },
  {
   "cell_type": "markdown",
   "id": "3bcdbab8-369a-473b-b807-79ac76731381",
   "metadata": {},
   "source": [
    "* **Проверим пункт ТЗ: аудитория: 15% новых пользователей из региона EU.**"
   ]
  },
  {
   "cell_type": "code",
   "execution_count": 20,
   "id": "b00bfa0c-d01d-4aaf-a7ed-2c04f41aad36",
   "metadata": {},
   "outputs": [
    {
     "data": {
      "text/html": [
       "<div>\n",
       "<style scoped>\n",
       "    .dataframe tbody tr th:only-of-type {\n",
       "        vertical-align: middle;\n",
       "    }\n",
       "\n",
       "    .dataframe tbody tr th {\n",
       "        vertical-align: top;\n",
       "    }\n",
       "\n",
       "    .dataframe thead th {\n",
       "        text-align: right;\n",
       "    }\n",
       "</style>\n",
       "<table border=\"1\" class=\"dataframe\">\n",
       "  <thead>\n",
       "    <tr style=\"text-align: right;\">\n",
       "      <th></th>\n",
       "      <th>region</th>\n",
       "      <th>user_id</th>\n",
       "      <th>%_EU</th>\n",
       "    </tr>\n",
       "  </thead>\n",
       "  <tbody>\n",
       "    <tr>\n",
       "      <th>0</th>\n",
       "      <td>APAC</td>\n",
       "      <td>72</td>\n",
       "      <td>1.07</td>\n",
       "    </tr>\n",
       "    <tr>\n",
       "      <th>1</th>\n",
       "      <td>CIS</td>\n",
       "      <td>55</td>\n",
       "      <td>0.82</td>\n",
       "    </tr>\n",
       "    <tr>\n",
       "      <th>2</th>\n",
       "      <td>EU</td>\n",
       "      <td>6351</td>\n",
       "      <td>94.78</td>\n",
       "    </tr>\n",
       "    <tr>\n",
       "      <th>3</th>\n",
       "      <td>N.America</td>\n",
       "      <td>223</td>\n",
       "      <td>3.33</td>\n",
       "    </tr>\n",
       "  </tbody>\n",
       "</table>\n",
       "</div>"
      ],
      "text/plain": [
       "      region  user_id   %_EU\n",
       "0       APAC       72   1.07\n",
       "1        CIS       55   0.82\n",
       "2         EU     6351  94.78\n",
       "3  N.America      223   3.33"
      ]
     },
     "execution_count": 20,
     "metadata": {},
     "output_type": "execute_result"
    }
   ],
   "source": [
    "table_user_partic = new_users.merge(participants.query('ab_test == \"recommender_system_test\"'), on='user_id')\n",
    "table_region = table_user_partic.groupby('region').agg({'user_id':'nunique'}).reset_index()\n",
    "table_region['%_EU'] = round(table_region['user_id']/table_region['user_id'].sum(),4)*100\n",
    "table_region"
   ]
  },
  {
   "cell_type": "code",
   "execution_count": 21,
   "id": "d3dada59-fc3c-4cc8-972e-11b1426c394f",
   "metadata": {},
   "outputs": [
    {
     "data": {
      "text/plain": [
       "15.0"
      ]
     },
     "execution_count": 21,
     "metadata": {},
     "output_type": "execute_result"
    }
   ],
   "source": [
    "len(table_user_partic.query('region == \"EU\"'))/len(new_users.query('region == \"EU\"'))*100"
   ]
  },
  {
   "cell_type": "markdown",
   "id": "a492a7a4-3cd1-4b06-bf55-51c4cee8253f",
   "metadata": {},
   "source": [
    "* **Проверим данные на наличие пользователей, которые учавствуют в нескольких тестах одновременно.**"
   ]
  },
  {
   "cell_type": "markdown",
   "id": "28a0cb5a-d0f0-4e7c-8327-2d4e8d4d3a1a",
   "metadata": {},
   "source": [
    "Нам важно проверить попали ли пользователи нашего теста в экспериментальную группу конкурирующего теста. Если такие пользователи имеются, то будет сложно оценить какое из нововведений повлияло на действие пользователя (наше recommender_system_test или \tinterface_eu_test), поэтому их следует удалить."
   ]
  },
  {
   "cell_type": "code",
   "execution_count": 22,
   "id": "ea888919-815e-4833-91ad-688e3a974a48",
   "metadata": {},
   "outputs": [
    {
     "data": {
      "text/plain": [
       "783"
      ]
     },
     "execution_count": 22,
     "metadata": {},
     "output_type": "execute_result"
    }
   ],
   "source": [
    "table_system_test = participants.query('ab_test == \"recommender_system_test\"')\n",
    "table_eu_test = participants.query('ab_test == \"interface_eu_test\" and group == \"B\"')\n",
    "table_cross = table_system_test.merge(table_eu_test, on='user_id')\n",
    "table_cross = table_cross.drop('group_x', axis=1)\n",
    "table_cross.shape[0]"
   ]
  },
  {
   "cell_type": "code",
   "execution_count": 23,
   "id": "94690371-b87b-4bfa-9042-b61818398bd7",
   "metadata": {},
   "outputs": [],
   "source": [
    "participants = participants[-participants['user_id'].isin(table_cross['user_id'])]"
   ]
  },
  {
   "cell_type": "markdown",
   "id": "0b6f6f36-5d96-4a60-b835-06d12a6ba315",
   "metadata": {},
   "source": [
    "* **Оставим данные теста `recommender_system_test`**"
   ]
  },
  {
   "cell_type": "code",
   "execution_count": 24,
   "id": "04728a06-6ede-41b1-8928-cf5a222ba8bd",
   "metadata": {},
   "outputs": [],
   "source": [
    "participants = participants.query('ab_test == \"recommender_system_test\"')"
   ]
  },
  {
   "cell_type": "markdown",
   "id": "04b64342-3c2d-4e2c-b4fa-abb3db05d766",
   "metadata": {},
   "source": [
    "* **Определим сколько пользователей в каждой группе**"
   ]
  },
  {
   "cell_type": "code",
   "execution_count": 25,
   "id": "13909f1b-34b5-42c4-a1ab-b95148e8c2e7",
   "metadata": {},
   "outputs": [
    {
     "name": "stdout",
     "output_type": "stream",
     "text": [
      "Количество пользователей группы А: 3385\n",
      "Количество пользователей группы B: 2533\n"
     ]
    }
   ],
   "source": [
    "print('Количество пользователей группы А:', participants[participants['group'] == 'A']['user_id'].nunique())\n",
    "print('Количество пользователей группы B:', participants[participants['group'] == 'B']['user_id'].nunique())"
   ]
  },
  {
   "cell_type": "markdown",
   "id": "65330205-3c12-4203-b5d9-426730226014",
   "metadata": {},
   "source": [
    "Наборы пользователей в группах различаются ~ на 25%. Это достаточно много. Группы не назвать сбалансированными. Но это не окончательное количество человек в группах. Предстоит подвергнуть данным некоторым условиям."
   ]
  },
  {
   "cell_type": "markdown",
   "id": "f708a209-5287-40a2-a108-ee244aeb10df",
   "metadata": {},
   "source": [
    "* **Объеденим данные в одну таблицу**"
   ]
  },
  {
   "cell_type": "code",
   "execution_count": 26,
   "id": "882d0ca5-0202-456d-a6a9-6c6fa6f91ba2",
   "metadata": {},
   "outputs": [
    {
     "data": {
      "text/html": [
       "<div>\n",
       "<style scoped>\n",
       "    .dataframe tbody tr th:only-of-type {\n",
       "        vertical-align: middle;\n",
       "    }\n",
       "\n",
       "    .dataframe tbody tr th {\n",
       "        vertical-align: top;\n",
       "    }\n",
       "\n",
       "    .dataframe thead th {\n",
       "        text-align: right;\n",
       "    }\n",
       "</style>\n",
       "<table border=\"1\" class=\"dataframe\">\n",
       "  <thead>\n",
       "    <tr style=\"text-align: right;\">\n",
       "      <th></th>\n",
       "      <th>user_id</th>\n",
       "      <th>group</th>\n",
       "      <th>ab_test</th>\n",
       "      <th>first_date</th>\n",
       "      <th>region</th>\n",
       "      <th>device</th>\n",
       "      <th>event_dt</th>\n",
       "      <th>event_name</th>\n",
       "      <th>details</th>\n",
       "    </tr>\n",
       "  </thead>\n",
       "  <tbody>\n",
       "    <tr>\n",
       "      <th>0</th>\n",
       "      <td>D1ABA3E2887B6A73</td>\n",
       "      <td>A</td>\n",
       "      <td>recommender_system_test</td>\n",
       "      <td>2020-12-07</td>\n",
       "      <td>EU</td>\n",
       "      <td>PC</td>\n",
       "      <td>2020-12-07 14:43:27</td>\n",
       "      <td>purchase</td>\n",
       "      <td>99.99</td>\n",
       "    </tr>\n",
       "    <tr>\n",
       "      <th>1</th>\n",
       "      <td>D1ABA3E2887B6A73</td>\n",
       "      <td>A</td>\n",
       "      <td>recommender_system_test</td>\n",
       "      <td>2020-12-07</td>\n",
       "      <td>EU</td>\n",
       "      <td>PC</td>\n",
       "      <td>2020-12-25 00:04:56</td>\n",
       "      <td>purchase</td>\n",
       "      <td>4.99</td>\n",
       "    </tr>\n",
       "    <tr>\n",
       "      <th>2</th>\n",
       "      <td>D1ABA3E2887B6A73</td>\n",
       "      <td>A</td>\n",
       "      <td>recommender_system_test</td>\n",
       "      <td>2020-12-07</td>\n",
       "      <td>EU</td>\n",
       "      <td>PC</td>\n",
       "      <td>2020-12-07 14:43:29</td>\n",
       "      <td>product_cart</td>\n",
       "      <td>NaN</td>\n",
       "    </tr>\n",
       "    <tr>\n",
       "      <th>3</th>\n",
       "      <td>D1ABA3E2887B6A73</td>\n",
       "      <td>A</td>\n",
       "      <td>recommender_system_test</td>\n",
       "      <td>2020-12-07</td>\n",
       "      <td>EU</td>\n",
       "      <td>PC</td>\n",
       "      <td>2020-12-25 00:04:57</td>\n",
       "      <td>product_cart</td>\n",
       "      <td>NaN</td>\n",
       "    </tr>\n",
       "    <tr>\n",
       "      <th>4</th>\n",
       "      <td>D1ABA3E2887B6A73</td>\n",
       "      <td>A</td>\n",
       "      <td>recommender_system_test</td>\n",
       "      <td>2020-12-07</td>\n",
       "      <td>EU</td>\n",
       "      <td>PC</td>\n",
       "      <td>2020-12-07 14:43:27</td>\n",
       "      <td>product_page</td>\n",
       "      <td>NaN</td>\n",
       "    </tr>\n",
       "  </tbody>\n",
       "</table>\n",
       "</div>"
      ],
      "text/plain": [
       "            user_id group                  ab_test first_date region device  \\\n",
       "0  D1ABA3E2887B6A73     A  recommender_system_test 2020-12-07     EU     PC   \n",
       "1  D1ABA3E2887B6A73     A  recommender_system_test 2020-12-07     EU     PC   \n",
       "2  D1ABA3E2887B6A73     A  recommender_system_test 2020-12-07     EU     PC   \n",
       "3  D1ABA3E2887B6A73     A  recommender_system_test 2020-12-07     EU     PC   \n",
       "4  D1ABA3E2887B6A73     A  recommender_system_test 2020-12-07     EU     PC   \n",
       "\n",
       "             event_dt    event_name  details  \n",
       "0 2020-12-07 14:43:27      purchase    99.99  \n",
       "1 2020-12-25 00:04:56      purchase     4.99  \n",
       "2 2020-12-07 14:43:29  product_cart      NaN  \n",
       "3 2020-12-25 00:04:57  product_cart      NaN  \n",
       "4 2020-12-07 14:43:27  product_page      NaN  "
      ]
     },
     "execution_count": 26,
     "metadata": {},
     "output_type": "execute_result"
    }
   ],
   "source": [
    "general_table = participants.merge(new_users, on='user_id', how='left')\n",
    "general_table = general_table.merge(events, on='user_id', how='outer')\n",
    "general_table.head()"
   ]
  },
  {
   "cell_type": "markdown",
   "id": "9691b0db-34c7-4393-bdf1-076565466cf5",
   "metadata": {},
   "source": [
    "* **Проверим ожидаемое количество участников теста**"
   ]
  },
  {
   "cell_type": "code",
   "execution_count": 27,
   "id": "50d83cba-5715-410a-ae9a-843479449de2",
   "metadata": {},
   "outputs": [
    {
     "data": {
      "text/plain": [
       "61377"
      ]
     },
     "execution_count": 27,
     "metadata": {},
     "output_type": "execute_result"
    }
   ],
   "source": [
    "general_table['user_id'].nunique()"
   ]
  },
  {
   "cell_type": "markdown",
   "id": "449857ee-937a-45f3-a00d-03ba776cae68",
   "metadata": {},
   "source": [
    "* **Поставим ограничение на лайфтайм клиента - 14 дней**"
   ]
  },
  {
   "cell_type": "code",
   "execution_count": 28,
   "id": "93de688d-8d6b-4753-84b3-290e395b1cd0",
   "metadata": {},
   "outputs": [
    {
     "data": {
      "text/html": [
       "<div>\n",
       "<style scoped>\n",
       "    .dataframe tbody tr th:only-of-type {\n",
       "        vertical-align: middle;\n",
       "    }\n",
       "\n",
       "    .dataframe tbody tr th {\n",
       "        vertical-align: top;\n",
       "    }\n",
       "\n",
       "    .dataframe thead th {\n",
       "        text-align: right;\n",
       "    }\n",
       "</style>\n",
       "<table border=\"1\" class=\"dataframe\">\n",
       "  <thead>\n",
       "    <tr style=\"text-align: right;\">\n",
       "      <th></th>\n",
       "      <th>user_id</th>\n",
       "      <th>group</th>\n",
       "      <th>ab_test</th>\n",
       "      <th>first_date</th>\n",
       "      <th>region</th>\n",
       "      <th>device</th>\n",
       "      <th>event_dt</th>\n",
       "      <th>event_name</th>\n",
       "      <th>details</th>\n",
       "      <th>life_time</th>\n",
       "    </tr>\n",
       "  </thead>\n",
       "  <tbody>\n",
       "    <tr>\n",
       "      <th>0</th>\n",
       "      <td>D1ABA3E2887B6A73</td>\n",
       "      <td>A</td>\n",
       "      <td>recommender_system_test</td>\n",
       "      <td>2020-12-07</td>\n",
       "      <td>EU</td>\n",
       "      <td>PC</td>\n",
       "      <td>2020-12-07 14:43:27</td>\n",
       "      <td>purchase</td>\n",
       "      <td>99.99</td>\n",
       "      <td>0.0</td>\n",
       "    </tr>\n",
       "    <tr>\n",
       "      <th>2</th>\n",
       "      <td>D1ABA3E2887B6A73</td>\n",
       "      <td>A</td>\n",
       "      <td>recommender_system_test</td>\n",
       "      <td>2020-12-07</td>\n",
       "      <td>EU</td>\n",
       "      <td>PC</td>\n",
       "      <td>2020-12-07 14:43:29</td>\n",
       "      <td>product_cart</td>\n",
       "      <td>NaN</td>\n",
       "      <td>0.0</td>\n",
       "    </tr>\n",
       "    <tr>\n",
       "      <th>4</th>\n",
       "      <td>D1ABA3E2887B6A73</td>\n",
       "      <td>A</td>\n",
       "      <td>recommender_system_test</td>\n",
       "      <td>2020-12-07</td>\n",
       "      <td>EU</td>\n",
       "      <td>PC</td>\n",
       "      <td>2020-12-07 14:43:27</td>\n",
       "      <td>product_page</td>\n",
       "      <td>NaN</td>\n",
       "      <td>0.0</td>\n",
       "    </tr>\n",
       "    <tr>\n",
       "      <th>6</th>\n",
       "      <td>D1ABA3E2887B6A73</td>\n",
       "      <td>A</td>\n",
       "      <td>recommender_system_test</td>\n",
       "      <td>2020-12-07</td>\n",
       "      <td>EU</td>\n",
       "      <td>PC</td>\n",
       "      <td>2020-12-07 14:43:27</td>\n",
       "      <td>login</td>\n",
       "      <td>NaN</td>\n",
       "      <td>0.0</td>\n",
       "    </tr>\n",
       "    <tr>\n",
       "      <th>8</th>\n",
       "      <td>A7A3664BD6242119</td>\n",
       "      <td>A</td>\n",
       "      <td>recommender_system_test</td>\n",
       "      <td>2020-12-20</td>\n",
       "      <td>EU</td>\n",
       "      <td>iPhone</td>\n",
       "      <td>2020-12-20 15:46:06</td>\n",
       "      <td>product_page</td>\n",
       "      <td>NaN</td>\n",
       "      <td>0.0</td>\n",
       "    </tr>\n",
       "  </tbody>\n",
       "</table>\n",
       "</div>"
      ],
      "text/plain": [
       "            user_id group                  ab_test first_date region  device  \\\n",
       "0  D1ABA3E2887B6A73     A  recommender_system_test 2020-12-07     EU      PC   \n",
       "2  D1ABA3E2887B6A73     A  recommender_system_test 2020-12-07     EU      PC   \n",
       "4  D1ABA3E2887B6A73     A  recommender_system_test 2020-12-07     EU      PC   \n",
       "6  D1ABA3E2887B6A73     A  recommender_system_test 2020-12-07     EU      PC   \n",
       "8  A7A3664BD6242119     A  recommender_system_test 2020-12-20     EU  iPhone   \n",
       "\n",
       "             event_dt    event_name  details  life_time  \n",
       "0 2020-12-07 14:43:27      purchase    99.99        0.0  \n",
       "2 2020-12-07 14:43:29  product_cart      NaN        0.0  \n",
       "4 2020-12-07 14:43:27  product_page      NaN        0.0  \n",
       "6 2020-12-07 14:43:27         login      NaN        0.0  \n",
       "8 2020-12-20 15:46:06  product_page      NaN        0.0  "
      ]
     },
     "execution_count": 28,
     "metadata": {},
     "output_type": "execute_result"
    }
   ],
   "source": [
    "general_table['life_time'] = general_table['event_dt'] - general_table['first_date']\n",
    "general_table['life_time'] = general_table['life_time'].dt.days\n",
    "general_table = general_table.query('life_time <= 14')\n",
    "general_table.head()"
   ]
  },
  {
   "cell_type": "code",
   "execution_count": 29,
   "id": "d6cd3273-8079-4f28-9bb5-2f4def3ced4f",
   "metadata": {},
   "outputs": [
    {
     "name": "stdout",
     "output_type": "stream",
     "text": [
      "Количество участников снизилось до 3244\n"
     ]
    }
   ],
   "source": [
    "print('Количество участников снизилось до', general_table['user_id'].nunique())"
   ]
  },
  {
   "cell_type": "markdown",
   "id": "a8853d39-21cf-4def-bdc5-eddbdb474300",
   "metadata": {},
   "source": [
    "* **Проверим нет в тесте пользователей, учавствовавших в обоих группах одновременно**"
   ]
  },
  {
   "cell_type": "code",
   "execution_count": 30,
   "id": "d2809521-b47c-4543-ba04-6c7e8a7e8453",
   "metadata": {},
   "outputs": [
    {
     "data": {
      "text/plain": [
       "0"
      ]
     },
     "execution_count": 30,
     "metadata": {},
     "output_type": "execute_result"
    }
   ],
   "source": [
    "table_A = general_table[general_table['group'] == 'A']\n",
    "table_B = general_table[general_table['group'] == 'B']\n",
    "table_visitors = table_A.merge(table_B, on='user_id', how='inner')\n",
    "table_visitors['user_id'].nunique()"
   ]
  },
  {
   "cell_type": "markdown",
   "id": "0e06da3f-73c4-4a9f-a5de-79c22f3265aa",
   "metadata": {},
   "source": [
    "* **Определим сколько пользователей в каждой группе**"
   ]
  },
  {
   "cell_type": "code",
   "execution_count": 31,
   "id": "1f2fbfcf-1b40-4b08-b409-b93016323f5e",
   "metadata": {},
   "outputs": [
    {
     "name": "stdout",
     "output_type": "stream",
     "text": [
      "Количество пользователей группы А: 2422\n",
      "Количество пользователей группы B: 822\n"
     ]
    }
   ],
   "source": [
    "print('Количество пользователей группы А:', general_table[general_table['group'] == 'A']['user_id'].nunique())\n",
    "print('Количество пользователей группы B:', general_table[general_table['group'] == 'B']['user_id'].nunique())"
   ]
  },
  {
   "cell_type": "markdown",
   "id": "c6b13d1b-41be-4756-b4ba-4185ea4b119c",
   "metadata": {},
   "source": [
    "По лайфтайму группы перешли в сильный дисбаланс. Размер группы А ~ в 3 раза больше группы В. Необходимо это учитывать в дальнейшем."
   ]
  },
  {
   "cell_type": "markdown",
   "id": "65e6011e-042b-4e9a-af3c-77ac24a7fe8c",
   "metadata": {},
   "source": [
    "## 4. Исследовательский анализ данных.<a id='section_id_4'></a>"
   ]
  },
  {
   "cell_type": "markdown",
   "id": "45f6cfb7-2f12-4159-9349-0e092d189844",
   "metadata": {},
   "source": [
    "* **Количество событий на пользователя одинаково распределены в выборках?**"
   ]
  },
  {
   "cell_type": "code",
   "execution_count": 32,
   "id": "11f03c66-bfb6-408a-b6e0-4acd5d56e5df",
   "metadata": {},
   "outputs": [
    {
     "data": {
      "text/plain": [
       "6.945"
      ]
     },
     "execution_count": 32,
     "metadata": {},
     "output_type": "execute_result"
    }
   ],
   "source": [
    "round(len(general_table[general_table['group'] == 'A']['event_dt'])/\\\n",
    "general_table[general_table['group'] == 'A']['user_id'].nunique(),3)"
   ]
  },
  {
   "cell_type": "code",
   "execution_count": 33,
   "id": "af4e6208-4400-43db-9102-0d8ec5ae4d3a",
   "metadata": {},
   "outputs": [
    {
     "data": {
      "text/plain": [
       "5.42"
      ]
     },
     "execution_count": 33,
     "metadata": {},
     "output_type": "execute_result"
    }
   ],
   "source": [
    "round(len(general_table[general_table['group'] == 'B']['event_dt'])/\\\n",
    "general_table[general_table['group'] == 'B']['user_id'].nunique(),3)"
   ]
  },
  {
   "cell_type": "markdown",
   "id": "04b9c965-b95c-40d6-970b-3df1076b68c5",
   "metadata": {},
   "source": [
    "Пользователи контрольной группы отмечают большую активность, чем в тестовой группе."
   ]
  },
  {
   "cell_type": "markdown",
   "id": "ebeef10c-2677-4b22-a9c6-37a493276f65",
   "metadata": {},
   "source": [
    "* **Как число событий в выборках распределено по дням?**"
   ]
  },
  {
   "cell_type": "code",
   "execution_count": 34,
   "id": "3cabdc04-2338-4446-8ac3-84ae111650d7",
   "metadata": {},
   "outputs": [
    {
     "data": {
      "text/html": [
       "<div>\n",
       "<style scoped>\n",
       "    .dataframe tbody tr th:only-of-type {\n",
       "        vertical-align: middle;\n",
       "    }\n",
       "\n",
       "    .dataframe tbody tr th {\n",
       "        vertical-align: top;\n",
       "    }\n",
       "\n",
       "    .dataframe thead th {\n",
       "        text-align: right;\n",
       "    }\n",
       "</style>\n",
       "<table border=\"1\" class=\"dataframe\">\n",
       "  <thead>\n",
       "    <tr style=\"text-align: right;\">\n",
       "      <th></th>\n",
       "      <th>event_dt</th>\n",
       "      <th>event_name</th>\n",
       "    </tr>\n",
       "  </thead>\n",
       "  <tbody>\n",
       "    <tr>\n",
       "      <th>0</th>\n",
       "      <td>2020-12-07</td>\n",
       "      <td>276</td>\n",
       "    </tr>\n",
       "    <tr>\n",
       "      <th>1</th>\n",
       "      <td>2020-12-08</td>\n",
       "      <td>311</td>\n",
       "    </tr>\n",
       "    <tr>\n",
       "      <th>2</th>\n",
       "      <td>2020-12-09</td>\n",
       "      <td>345</td>\n",
       "    </tr>\n",
       "    <tr>\n",
       "      <th>3</th>\n",
       "      <td>2020-12-10</td>\n",
       "      <td>313</td>\n",
       "    </tr>\n",
       "    <tr>\n",
       "      <th>4</th>\n",
       "      <td>2020-12-11</td>\n",
       "      <td>327</td>\n",
       "    </tr>\n",
       "  </tbody>\n",
       "</table>\n",
       "</div>"
      ],
      "text/plain": [
       "     event_dt  event_name\n",
       "0  2020-12-07         276\n",
       "1  2020-12-08         311\n",
       "2  2020-12-09         345\n",
       "3  2020-12-10         313\n",
       "4  2020-12-11         327"
      ]
     },
     "execution_count": 34,
     "metadata": {},
     "output_type": "execute_result"
    }
   ],
   "source": [
    "warnings.filterwarnings('ignore')\n",
    "general_table_A = general_table.query('group == \"A\"')\n",
    "general_table_A['event_dt'] = general_table_A['event_dt'].dt.strftime('%Y-%m-%d')\n",
    "general_table_A = general_table_A.groupby('event_dt').agg({'event_name':'count'}).reset_index()\n",
    "general_table_A.head()"
   ]
  },
  {
   "cell_type": "code",
   "execution_count": 35,
   "id": "542f9f02-5c88-4e09-b106-ea42b1768114",
   "metadata": {},
   "outputs": [
    {
     "data": {
      "text/html": [
       "<div>\n",
       "<style scoped>\n",
       "    .dataframe tbody tr th:only-of-type {\n",
       "        vertical-align: middle;\n",
       "    }\n",
       "\n",
       "    .dataframe tbody tr th {\n",
       "        vertical-align: top;\n",
       "    }\n",
       "\n",
       "    .dataframe thead th {\n",
       "        text-align: right;\n",
       "    }\n",
       "</style>\n",
       "<table border=\"1\" class=\"dataframe\">\n",
       "  <thead>\n",
       "    <tr style=\"text-align: right;\">\n",
       "      <th></th>\n",
       "      <th>event_dt</th>\n",
       "      <th>event_name</th>\n",
       "    </tr>\n",
       "  </thead>\n",
       "  <tbody>\n",
       "    <tr>\n",
       "      <th>0</th>\n",
       "      <td>2020-12-07</td>\n",
       "      <td>337</td>\n",
       "    </tr>\n",
       "    <tr>\n",
       "      <th>1</th>\n",
       "      <td>2020-12-08</td>\n",
       "      <td>221</td>\n",
       "    </tr>\n",
       "    <tr>\n",
       "      <th>2</th>\n",
       "      <td>2020-12-09</td>\n",
       "      <td>312</td>\n",
       "    </tr>\n",
       "    <tr>\n",
       "      <th>3</th>\n",
       "      <td>2020-12-10</td>\n",
       "      <td>232</td>\n",
       "    </tr>\n",
       "    <tr>\n",
       "      <th>4</th>\n",
       "      <td>2020-12-11</td>\n",
       "      <td>144</td>\n",
       "    </tr>\n",
       "  </tbody>\n",
       "</table>\n",
       "</div>"
      ],
      "text/plain": [
       "     event_dt  event_name\n",
       "0  2020-12-07         337\n",
       "1  2020-12-08         221\n",
       "2  2020-12-09         312\n",
       "3  2020-12-10         232\n",
       "4  2020-12-11         144"
      ]
     },
     "execution_count": 35,
     "metadata": {},
     "output_type": "execute_result"
    }
   ],
   "source": [
    "general_table_B = general_table.query('group == \"B\"')\n",
    "general_table_B['event_dt'] = general_table_B['event_dt'].dt.strftime('%Y-%m-%d')\n",
    "general_table_B = general_table_B.groupby('event_dt').agg({'event_name':'count'}).reset_index()\n",
    "general_table_B.head()"
   ]
  },
  {
   "cell_type": "code",
   "execution_count": 36,
   "id": "f85f4710-9530-4d08-96e1-25680a724464",
   "metadata": {},
   "outputs": [
    {
     "data": {
      "image/png": "[encoded data removed]",
      "text/plain": [
       "<Figure size 1000x400 with 1 Axes>"
      ]
     },
     "metadata": {},
     "output_type": "display_data"
    }
   ],
   "source": [
    "plt.figure(figsize=(10, 4))\n",
    "plt.bar(general_table_A['event_dt'], general_table_A['event_name'], \n",
    "         color='r', alpha=0.2, label='События в группе А')\n",
    "plt.bar(general_table_B['event_dt'], general_table_B['event_name'], \n",
    "         color='g', alpha=0.5, label='События в группе В')\n",
    "plt.xlabel('Дата')\n",
    "plt.ylabel('Количество событий')\n",
    "plt.title('Распределение событий по дням в обоих группах')\n",
    "plt.legend()\n",
    "plt.xticks(rotation=45)\n",
    "plt.show();"
   ]
  },
  {
   "cell_type": "code",
   "execution_count": 37,
   "id": "e891eb5c-f000-48a7-9e6a-e18042253304",
   "metadata": {},
   "outputs": [
    {
     "data": {
      "image/png": "[encoded data removed]",
      "text/plain": [
       "<Figure size 1000x400 with 1 Axes>"
      ]
     },
     "metadata": {},
     "output_type": "display_data"
    }
   ],
   "source": [
    "plt.figure(figsize=(10, 4))\n",
    "plt.bar(general_table_B['event_dt'], general_table_B['event_name'], \n",
    "         color='g', alpha=0.5)\n",
    "plt.xlabel('Дата')\n",
    "plt.ylabel('Количество событий')\n",
    "plt.title('Распределение событий по дням в группе В')\n",
    "plt.xticks(rotation=45)\n",
    "plt.show();"
   ]
  },
  {
   "cell_type": "code",
   "execution_count": 38,
   "id": "5ef2659c-4b3a-4066-bed5-4745317f9ac8",
   "metadata": {},
   "outputs": [
    {
     "data": {
      "image/png": "[encoded data removed]",
      "text/plain": [
       "<Figure size 1000x400 with 1 Axes>"
      ]
     },
     "metadata": {},
     "output_type": "display_data"
    }
   ],
   "source": [
    "plt.figure(figsize=(10, 4))\n",
    "plt.bar(general_table_A['event_dt'], general_table_A['event_name'], \n",
    "         color='r', alpha=0.2)\n",
    "plt.xlabel('Дата')\n",
    "plt.ylabel('Количество событий')\n",
    "plt.title('Распределение событий по дням в группе А')\n",
    "plt.xticks(rotation=45)\n",
    "plt.show();"
   ]
  },
  {
   "cell_type": "markdown",
   "id": "1f83c89c-c0d0-4a2a-bb9d-9fa4cce5ba95",
   "metadata": {},
   "source": [
    "На первом графике можно увидеть насколько меньше событий в тестовой группе. Распределения групп нельзя назвать похожими. Только 21 декабря наблюдается резкий всплеск в обоих группах. Так же можно заметить, что в тестовой группе всплески имеются 7, 9, и 16 декабря. Обе группы к концу теста снижают свою активность."
   ]
  },
  {
   "cell_type": "markdown",
   "id": "e955253c-207a-4163-ae88-cdc55c030d09",
   "metadata": {},
   "source": [
    "Посмотри как распределён набор новых пользователей по дням."
   ]
  },
  {
   "cell_type": "code",
   "execution_count": 39,
   "id": "10256475-b2e8-45eb-9b0f-974b204f90ff",
   "metadata": {},
   "outputs": [],
   "source": [
    "general_table['first_date'] = general_table['first_date'].dt.strftime('%Y-%m-%d')"
   ]
  },
  {
   "cell_type": "code",
   "execution_count": 40,
   "id": "3b04a1fc-26be-4bc0-bfc5-f90ff5795135",
   "metadata": {},
   "outputs": [
    {
     "data": {
      "image/png": "[encoded data removed]",
      "text/plain": [
       "<Figure size 400x400 with 1 Axes>"
      ]
     },
     "metadata": {},
     "output_type": "display_data"
    }
   ],
   "source": [
    "plt.figure(figsize=(4, 4))\n",
    "sns.countplot(y='first_date', data=general_table.sort_values(by='first_date'))\n",
    "plt.xlabel('Количество пользователей')\n",
    "plt.ylabel('Дата')\n",
    "plt.title('Распределение регистраций по дням');"
   ]
  },
  {
   "cell_type": "code",
   "execution_count": 41,
   "id": "9de6d845-b8bf-47fe-b1f8-270eb06238eb",
   "metadata": {},
   "outputs": [
    {
     "data": {
      "image/png": "[encoded data removed]",
      "text/plain": [
       "<Figure size 400x400 with 1 Axes>"
      ]
     },
     "metadata": {},
     "output_type": "display_data"
    }
   ],
   "source": [
    "plt.figure(figsize=(4, 4))\n",
    "sns.countplot(y='first_date', data=general_table.query('group == \"B\"').sort_values(by='first_date'), \n",
    "              color='g', alpha=0.5)\n",
    "plt.xlabel('Количество пользователей')\n",
    "plt.ylabel('Дата')\n",
    "plt.title('Распределение регистраций по дням для группы В');"
   ]
  },
  {
   "cell_type": "code",
   "execution_count": 42,
   "id": "6e20ecc5-354a-4750-a099-4e2a6e4bde85",
   "metadata": {},
   "outputs": [
    {
     "data": {
      "image/png": "[encoded data removed]",
      "text/plain": [
       "<Figure size 400x400 with 1 Axes>"
      ]
     },
     "metadata": {},
     "output_type": "display_data"
    }
   ],
   "source": [
    "plt.figure(figsize=(4, 4))\n",
    "sns.countplot(y='first_date', data=general_table.query('group == \"A\"'), color='r', alpha=0.2)\n",
    "plt.xlabel('Количество пользователей')\n",
    "plt.ylabel('Дата')\n",
    "plt.title('Распределение регистраций по дням для группы A');"
   ]
  },
  {
   "cell_type": "markdown",
   "id": "ee9df890-4248-4a6e-89fe-d69ff32755f6",
   "metadata": {},
   "source": [
    "Пики набора группы В -  7, 9 16 и 21 декабря. Пики активности группы В приходятся на те же даты: 7, 9, 16 и 21 декабря. <br>\n",
    "Пики в наборе группы А -  14 и 21 декабря. Пики активности группы А - 21 декабря резкий скачок. "
   ]
  },
  {
   "cell_type": "markdown",
   "id": "2a58546b-f7a7-49a4-bae3-5c0a1acf9468",
   "metadata": {},
   "source": [
    "* **Время проведения теста. Убедитесь, что оно не совпадает с маркетинговыми и другими активностями**"
   ]
  },
  {
   "cell_type": "code",
   "execution_count": 43,
   "id": "3d2a3ce3-29c4-4ac5-a0c1-c73c79b1d8fd",
   "metadata": {},
   "outputs": [
    {
     "data": {
      "text/html": [
       "<div>\n",
       "<style scoped>\n",
       "    .dataframe tbody tr th:only-of-type {\n",
       "        vertical-align: middle;\n",
       "    }\n",
       "\n",
       "    .dataframe tbody tr th {\n",
       "        vertical-align: top;\n",
       "    }\n",
       "\n",
       "    .dataframe thead th {\n",
       "        text-align: right;\n",
       "    }\n",
       "</style>\n",
       "<table border=\"1\" class=\"dataframe\">\n",
       "  <thead>\n",
       "    <tr style=\"text-align: right;\">\n",
       "      <th></th>\n",
       "      <th>name</th>\n",
       "      <th>regions</th>\n",
       "      <th>start_dt</th>\n",
       "      <th>finish_dt</th>\n",
       "    </tr>\n",
       "  </thead>\n",
       "  <tbody>\n",
       "    <tr>\n",
       "      <th>1</th>\n",
       "      <td>St. Valentine's Day Giveaway</td>\n",
       "      <td>EU, CIS, APAC, N.America</td>\n",
       "      <td>2020-02-14</td>\n",
       "      <td>2020-02-16</td>\n",
       "    </tr>\n",
       "    <tr>\n",
       "      <th>8</th>\n",
       "      <td>International Women's Day Promo</td>\n",
       "      <td>EU, CIS, APAC</td>\n",
       "      <td>2020-03-08</td>\n",
       "      <td>2020-03-10</td>\n",
       "    </tr>\n",
       "    <tr>\n",
       "      <th>2</th>\n",
       "      <td>St. Patric's Day Promo</td>\n",
       "      <td>EU, N.America</td>\n",
       "      <td>2020-03-17</td>\n",
       "      <td>2020-03-19</td>\n",
       "    </tr>\n",
       "    <tr>\n",
       "      <th>3</th>\n",
       "      <td>Easter Promo</td>\n",
       "      <td>EU, CIS, APAC, N.America</td>\n",
       "      <td>2020-04-12</td>\n",
       "      <td>2020-04-19</td>\n",
       "    </tr>\n",
       "    <tr>\n",
       "      <th>7</th>\n",
       "      <td>Labor day (May 1st) Ads Campaign</td>\n",
       "      <td>EU, CIS, APAC</td>\n",
       "      <td>2020-05-01</td>\n",
       "      <td>2020-05-03</td>\n",
       "    </tr>\n",
       "    <tr>\n",
       "      <th>5</th>\n",
       "      <td>Black Friday Ads Campaign</td>\n",
       "      <td>EU, CIS, APAC, N.America</td>\n",
       "      <td>2020-11-26</td>\n",
       "      <td>2020-12-01</td>\n",
       "    </tr>\n",
       "    <tr>\n",
       "      <th>0</th>\n",
       "      <td>Christmas&amp;New Year Promo</td>\n",
       "      <td>EU, N.America</td>\n",
       "      <td>2020-12-25</td>\n",
       "      <td>2021-01-03</td>\n",
       "    </tr>\n",
       "  </tbody>\n",
       "</table>\n",
       "</div>"
      ],
      "text/plain": [
       "                               name                   regions   start_dt  \\\n",
       "1      St. Valentine's Day Giveaway  EU, CIS, APAC, N.America 2020-02-14   \n",
       "8   International Women's Day Promo             EU, CIS, APAC 2020-03-08   \n",
       "2            St. Patric's Day Promo             EU, N.America 2020-03-17   \n",
       "3                      Easter Promo  EU, CIS, APAC, N.America 2020-04-12   \n",
       "7  Labor day (May 1st) Ads Campaign             EU, CIS, APAC 2020-05-01   \n",
       "5         Black Friday Ads Campaign  EU, CIS, APAC, N.America 2020-11-26   \n",
       "0          Christmas&New Year Promo             EU, N.America 2020-12-25   \n",
       "\n",
       "   finish_dt  \n",
       "1 2020-02-16  \n",
       "8 2020-03-10  \n",
       "2 2020-03-19  \n",
       "3 2020-04-19  \n",
       "7 2020-05-03  \n",
       "5 2020-12-01  \n",
       "0 2021-01-03  "
      ]
     },
     "execution_count": 43,
     "metadata": {},
     "output_type": "execute_result"
    }
   ],
   "source": [
    "marketing[marketing['regions'].str.contains(\"EU\")].sort_values(by='start_dt')"
   ]
  },
  {
   "cell_type": "markdown",
   "id": "fdaddc87-40b4-4284-b5f3-f2891c2ce5fb",
   "metadata": {},
   "source": [
    "На пересечение наших дат попадает  маркетинговое событие Christmas&New Year Promo. Но оно приходится на окончание нашего тестирование, где активность клиентов значительно падает."
   ]
  },
  {
   "cell_type": "markdown",
   "id": "8fd57d0e-2362-4ab6-82b7-4c3c6476bb1a",
   "metadata": {},
   "source": [
    "* **Как меняется конверсия в воронке в выборках на разных этапах?**"
   ]
  },
  {
   "cell_type": "code",
   "execution_count": 44,
   "id": "736805a2-a4d3-49ed-a317-e1d78aa0ab8f",
   "metadata": {},
   "outputs": [
    {
     "data": {
      "text/html": [
       "<div>\n",
       "<style scoped>\n",
       "    .dataframe tbody tr th:only-of-type {\n",
       "        vertical-align: middle;\n",
       "    }\n",
       "\n",
       "    .dataframe tbody tr th {\n",
       "        vertical-align: top;\n",
       "    }\n",
       "\n",
       "    .dataframe thead th {\n",
       "        text-align: right;\n",
       "    }\n",
       "</style>\n",
       "<table border=\"1\" class=\"dataframe\">\n",
       "  <thead>\n",
       "    <tr style=\"text-align: right;\">\n",
       "      <th></th>\n",
       "      <th>event_name</th>\n",
       "      <th>user_id</th>\n",
       "      <th>conversion</th>\n",
       "    </tr>\n",
       "  </thead>\n",
       "  <tbody>\n",
       "    <tr>\n",
       "      <th>0</th>\n",
       "      <td>login</td>\n",
       "      <td>2422</td>\n",
       "      <td>100</td>\n",
       "    </tr>\n",
       "    <tr>\n",
       "      <th>2</th>\n",
       "      <td>product_page</td>\n",
       "      <td>1571</td>\n",
       "      <td>65</td>\n",
       "    </tr>\n",
       "    <tr>\n",
       "      <th>3</th>\n",
       "      <td>purchase</td>\n",
       "      <td>773</td>\n",
       "      <td>49</td>\n",
       "    </tr>\n",
       "    <tr>\n",
       "      <th>1</th>\n",
       "      <td>product_cart</td>\n",
       "      <td>728</td>\n",
       "      <td>94</td>\n",
       "    </tr>\n",
       "  </tbody>\n",
       "</table>\n",
       "</div>"
      ],
      "text/plain": [
       "     event_name  user_id  conversion\n",
       "0         login     2422         100\n",
       "2  product_page     1571          65\n",
       "3      purchase      773          49\n",
       "1  product_cart      728          94"
      ]
     },
     "execution_count": 44,
     "metadata": {},
     "output_type": "execute_result"
    }
   ],
   "source": [
    "table_event_A = pd.pivot_table(general_table.query('group == \"A\"'),\n",
    "               index='event_name',\n",
    "               values='user_id',\n",
    "               aggfunc='nunique').reset_index()\n",
    "table_event_A = table_event_A.sort_values(by='user_id', ascending=False)\n",
    "table_event_A['conversion'] = 100\n",
    "for i in range(0, len(table_event_A['user_id'])):\n",
    "    if i != 0:\n",
    "        table_event_A['conversion'].iloc[i] = \\\n",
    "        round(table_event_A['user_id'].iloc[i]/table_event_A['user_id'].iloc[i-1]*100)\n",
    "table_event_A"
   ]
  },
  {
   "cell_type": "code",
   "execution_count": 45,
   "id": "04481948-f5d8-4541-a486-233511cc312a",
   "metadata": {},
   "outputs": [
    {
     "data": {
      "text/html": [
       "<div>\n",
       "<style scoped>\n",
       "    .dataframe tbody tr th:only-of-type {\n",
       "        vertical-align: middle;\n",
       "    }\n",
       "\n",
       "    .dataframe tbody tr th {\n",
       "        vertical-align: top;\n",
       "    }\n",
       "\n",
       "    .dataframe thead th {\n",
       "        text-align: right;\n",
       "    }\n",
       "</style>\n",
       "<table border=\"1\" class=\"dataframe\">\n",
       "  <thead>\n",
       "    <tr style=\"text-align: right;\">\n",
       "      <th></th>\n",
       "      <th>event_name</th>\n",
       "      <th>user_id</th>\n",
       "      <th>conversion</th>\n",
       "    </tr>\n",
       "  </thead>\n",
       "  <tbody>\n",
       "    <tr>\n",
       "      <th>0</th>\n",
       "      <td>login</td>\n",
       "      <td>821</td>\n",
       "      <td>100</td>\n",
       "    </tr>\n",
       "    <tr>\n",
       "      <th>2</th>\n",
       "      <td>product_page</td>\n",
       "      <td>459</td>\n",
       "      <td>56</td>\n",
       "    </tr>\n",
       "    <tr>\n",
       "      <th>3</th>\n",
       "      <td>purchase</td>\n",
       "      <td>226</td>\n",
       "      <td>49</td>\n",
       "    </tr>\n",
       "    <tr>\n",
       "      <th>1</th>\n",
       "      <td>product_cart</td>\n",
       "      <td>225</td>\n",
       "      <td>100</td>\n",
       "    </tr>\n",
       "  </tbody>\n",
       "</table>\n",
       "</div>"
      ],
      "text/plain": [
       "     event_name  user_id  conversion\n",
       "0         login      821         100\n",
       "2  product_page      459          56\n",
       "3      purchase      226          49\n",
       "1  product_cart      225         100"
      ]
     },
     "execution_count": 45,
     "metadata": {},
     "output_type": "execute_result"
    }
   ],
   "source": [
    "table_event_B = pd.pivot_table(general_table.query('group == \"B\"'),\n",
    "               index='event_name',\n",
    "               values='user_id',\n",
    "               aggfunc='nunique').reset_index()\n",
    "table_event_B = table_event_B.sort_values(by='user_id', ascending=False)\n",
    "table_event_B['conversion'] = 100\n",
    "for i in range(0, len(table_event_B['user_id'])):\n",
    "    if i != 0:\n",
    "        table_event_B['conversion'].iloc[i] = \\\n",
    "        round(table_event_B['user_id'].iloc[i]/table_event_B['user_id'].iloc[i-1]*100)\n",
    "table_event_B"
   ]
  },
  {
   "cell_type": "code",
   "execution_count": 46,
   "id": "74f626d2-7045-4236-a7bc-e975ead96834",
   "metadata": {},
   "outputs": [
    {
     "data": {
      "text/html": [
       "<div>\n",
       "<style scoped>\n",
       "    .dataframe tbody tr th:only-of-type {\n",
       "        vertical-align: middle;\n",
       "    }\n",
       "\n",
       "    .dataframe tbody tr th {\n",
       "        vertical-align: top;\n",
       "    }\n",
       "\n",
       "    .dataframe thead th {\n",
       "        text-align: right;\n",
       "    }\n",
       "</style>\n",
       "<table border=\"1\" class=\"dataframe\">\n",
       "  <thead>\n",
       "    <tr style=\"text-align: right;\">\n",
       "      <th></th>\n",
       "      <th>event_name</th>\n",
       "      <th>user_id_x</th>\n",
       "      <th>conversion_x</th>\n",
       "      <th>user_id_y</th>\n",
       "      <th>conversion_y</th>\n",
       "      <th>conv_diff</th>\n",
       "    </tr>\n",
       "  </thead>\n",
       "  <tbody>\n",
       "    <tr>\n",
       "      <th>0</th>\n",
       "      <td>login</td>\n",
       "      <td>2422</td>\n",
       "      <td>100</td>\n",
       "      <td>821</td>\n",
       "      <td>100</td>\n",
       "      <td>0</td>\n",
       "    </tr>\n",
       "    <tr>\n",
       "      <th>1</th>\n",
       "      <td>product_page</td>\n",
       "      <td>1571</td>\n",
       "      <td>65</td>\n",
       "      <td>459</td>\n",
       "      <td>56</td>\n",
       "      <td>-9</td>\n",
       "    </tr>\n",
       "    <tr>\n",
       "      <th>2</th>\n",
       "      <td>purchase</td>\n",
       "      <td>773</td>\n",
       "      <td>49</td>\n",
       "      <td>226</td>\n",
       "      <td>49</td>\n",
       "      <td>0</td>\n",
       "    </tr>\n",
       "    <tr>\n",
       "      <th>3</th>\n",
       "      <td>product_cart</td>\n",
       "      <td>728</td>\n",
       "      <td>94</td>\n",
       "      <td>225</td>\n",
       "      <td>100</td>\n",
       "      <td>6</td>\n",
       "    </tr>\n",
       "  </tbody>\n",
       "</table>\n",
       "</div>"
      ],
      "text/plain": [
       "     event_name  user_id_x  conversion_x  user_id_y  conversion_y  conv_diff\n",
       "0         login       2422           100        821           100          0\n",
       "1  product_page       1571            65        459            56         -9\n",
       "2      purchase        773            49        226            49          0\n",
       "3  product_cart        728            94        225           100          6"
      ]
     },
     "execution_count": 46,
     "metadata": {},
     "output_type": "execute_result"
    }
   ],
   "source": [
    "table_event_conv = table_event_A.merge(table_event_B, on='event_name')\n",
    "table_event_conv['conv_diff'] = table_event_conv['conversion_y'] - table_event_conv['conversion_x']\n",
    "table_event_conv"
   ]
  },
  {
   "cell_type": "markdown",
   "id": "51b2b390-1757-4b2b-96b1-e4f24aed8f5c",
   "metadata": {},
   "source": [
    "Воронка получилась некорректная. Видимо можно пропустить этап корзины и сразу совершить покупку. Конверсия перехода на старницу товара уменьшилась на 9% в тестовой группе. Конвесия покупки не изменилась. Смотреть конверсию корзины товара не релевантно.\n",
    "В силу некоректности воронки рассмотрим конверсию по отношению к авторизации пользователя."
   ]
  },
  {
   "cell_type": "markdown",
   "id": "cae6f6a0-264e-4a68-b477-d3e279bc9c0d",
   "metadata": {},
   "source": [
    "* **Создадим таблицу, которая покажет конверсию каждой метрики по отношению к событию login**"
   ]
  },
  {
   "cell_type": "code",
   "execution_count": 47,
   "id": "329bff83-efed-43fa-9024-ee3245793170",
   "metadata": {},
   "outputs": [
    {
     "data": {
      "text/html": [
       "<div>\n",
       "<style scoped>\n",
       "    .dataframe tbody tr th:only-of-type {\n",
       "        vertical-align: middle;\n",
       "    }\n",
       "\n",
       "    .dataframe tbody tr th {\n",
       "        vertical-align: top;\n",
       "    }\n",
       "\n",
       "    .dataframe thead th {\n",
       "        text-align: right;\n",
       "    }\n",
       "</style>\n",
       "<table border=\"1\" class=\"dataframe\">\n",
       "  <thead>\n",
       "    <tr style=\"text-align: right;\">\n",
       "      <th></th>\n",
       "      <th>event_name</th>\n",
       "      <th>user_id</th>\n",
       "      <th>conversion</th>\n",
       "    </tr>\n",
       "  </thead>\n",
       "  <tbody>\n",
       "    <tr>\n",
       "      <th>0</th>\n",
       "      <td>login</td>\n",
       "      <td>2422</td>\n",
       "      <td>100</td>\n",
       "    </tr>\n",
       "    <tr>\n",
       "      <th>2</th>\n",
       "      <td>product_page</td>\n",
       "      <td>1571</td>\n",
       "      <td>65</td>\n",
       "    </tr>\n",
       "    <tr>\n",
       "      <th>3</th>\n",
       "      <td>purchase</td>\n",
       "      <td>773</td>\n",
       "      <td>32</td>\n",
       "    </tr>\n",
       "    <tr>\n",
       "      <th>1</th>\n",
       "      <td>product_cart</td>\n",
       "      <td>728</td>\n",
       "      <td>30</td>\n",
       "    </tr>\n",
       "  </tbody>\n",
       "</table>\n",
       "</div>"
      ],
      "text/plain": [
       "     event_name  user_id  conversion\n",
       "0         login     2422         100\n",
       "2  product_page     1571          65\n",
       "3      purchase      773          32\n",
       "1  product_cart      728          30"
      ]
     },
     "execution_count": 47,
     "metadata": {},
     "output_type": "execute_result"
    }
   ],
   "source": [
    "table_event_A_new = pd.pivot_table(general_table.query('group == \"A\"'),\n",
    "               index='event_name',\n",
    "               values='user_id',\n",
    "               aggfunc='nunique').reset_index()\n",
    "table_event_A_new = table_event_A_new.sort_values(by='user_id', ascending=False)\n",
    "table_event_A_new['conversion'] = 100\n",
    "for i in range(0, len(table_event_A['user_id'])):\n",
    "    if i != 0:\n",
    "        table_event_A_new['conversion'].iloc[i] = \\\n",
    "        round(table_event_A_new['user_id'].iloc[i]/table_event_A_new['user_id'].iloc[0]*100)\n",
    "table_event_A_new"
   ]
  },
  {
   "cell_type": "code",
   "execution_count": 48,
   "id": "1f64e9db-560a-4764-9f13-27b8a2df63c8",
   "metadata": {},
   "outputs": [
    {
     "data": {
      "text/html": [
       "<div>\n",
       "<style scoped>\n",
       "    .dataframe tbody tr th:only-of-type {\n",
       "        vertical-align: middle;\n",
       "    }\n",
       "\n",
       "    .dataframe tbody tr th {\n",
       "        vertical-align: top;\n",
       "    }\n",
       "\n",
       "    .dataframe thead th {\n",
       "        text-align: right;\n",
       "    }\n",
       "</style>\n",
       "<table border=\"1\" class=\"dataframe\">\n",
       "  <thead>\n",
       "    <tr style=\"text-align: right;\">\n",
       "      <th></th>\n",
       "      <th>event_name</th>\n",
       "      <th>user_id</th>\n",
       "      <th>conversion</th>\n",
       "    </tr>\n",
       "  </thead>\n",
       "  <tbody>\n",
       "    <tr>\n",
       "      <th>0</th>\n",
       "      <td>login</td>\n",
       "      <td>821</td>\n",
       "      <td>100</td>\n",
       "    </tr>\n",
       "    <tr>\n",
       "      <th>2</th>\n",
       "      <td>product_page</td>\n",
       "      <td>459</td>\n",
       "      <td>56</td>\n",
       "    </tr>\n",
       "    <tr>\n",
       "      <th>3</th>\n",
       "      <td>purchase</td>\n",
       "      <td>226</td>\n",
       "      <td>28</td>\n",
       "    </tr>\n",
       "    <tr>\n",
       "      <th>1</th>\n",
       "      <td>product_cart</td>\n",
       "      <td>225</td>\n",
       "      <td>27</td>\n",
       "    </tr>\n",
       "  </tbody>\n",
       "</table>\n",
       "</div>"
      ],
      "text/plain": [
       "     event_name  user_id  conversion\n",
       "0         login      821         100\n",
       "2  product_page      459          56\n",
       "3      purchase      226          28\n",
       "1  product_cart      225          27"
      ]
     },
     "execution_count": 48,
     "metadata": {},
     "output_type": "execute_result"
    }
   ],
   "source": [
    "table_event_B_new = pd.pivot_table(general_table.query('group == \"B\"'),\n",
    "               index='event_name',\n",
    "               values='user_id',\n",
    "               aggfunc='nunique').reset_index()\n",
    "table_event_B_new = table_event_B_new.sort_values(by='user_id', ascending=False)\n",
    "table_event_B_new['conversion'] = 100\n",
    "for i in range(0, len(table_event_B['user_id'])):\n",
    "    if i != 0:\n",
    "        table_event_B_new['conversion'].iloc[i] = \\\n",
    "        round(table_event_B_new['user_id'].iloc[i]/table_event_B_new['user_id'].iloc[0]*100)\n",
    "table_event_B_new"
   ]
  },
  {
   "cell_type": "markdown",
   "id": "6009a2b6-1671-48fb-abb7-3066edcb4be8",
   "metadata": {},
   "source": [
    "Конверсия к шагу login"
   ]
  },
  {
   "cell_type": "code",
   "execution_count": 49,
   "id": "f12af9eb-87a2-4d1b-b2d6-730659bdffa9",
   "metadata": {},
   "outputs": [
    {
     "data": {
      "text/html": [
       "<div>\n",
       "<style scoped>\n",
       "    .dataframe tbody tr th:only-of-type {\n",
       "        vertical-align: middle;\n",
       "    }\n",
       "\n",
       "    .dataframe tbody tr th {\n",
       "        vertical-align: top;\n",
       "    }\n",
       "\n",
       "    .dataframe thead th {\n",
       "        text-align: right;\n",
       "    }\n",
       "</style>\n",
       "<table border=\"1\" class=\"dataframe\">\n",
       "  <thead>\n",
       "    <tr style=\"text-align: right;\">\n",
       "      <th></th>\n",
       "      <th>event_name</th>\n",
       "      <th>user_id_x</th>\n",
       "      <th>conversion_x</th>\n",
       "      <th>user_id_y</th>\n",
       "      <th>conversion_y</th>\n",
       "      <th>conv_diff</th>\n",
       "    </tr>\n",
       "  </thead>\n",
       "  <tbody>\n",
       "    <tr>\n",
       "      <th>0</th>\n",
       "      <td>login</td>\n",
       "      <td>2422</td>\n",
       "      <td>100</td>\n",
       "      <td>821</td>\n",
       "      <td>100</td>\n",
       "      <td>0</td>\n",
       "    </tr>\n",
       "    <tr>\n",
       "      <th>1</th>\n",
       "      <td>product_page</td>\n",
       "      <td>1571</td>\n",
       "      <td>65</td>\n",
       "      <td>459</td>\n",
       "      <td>56</td>\n",
       "      <td>-9</td>\n",
       "    </tr>\n",
       "    <tr>\n",
       "      <th>2</th>\n",
       "      <td>purchase</td>\n",
       "      <td>773</td>\n",
       "      <td>32</td>\n",
       "      <td>226</td>\n",
       "      <td>28</td>\n",
       "      <td>-4</td>\n",
       "    </tr>\n",
       "    <tr>\n",
       "      <th>3</th>\n",
       "      <td>product_cart</td>\n",
       "      <td>728</td>\n",
       "      <td>30</td>\n",
       "      <td>225</td>\n",
       "      <td>27</td>\n",
       "      <td>-3</td>\n",
       "    </tr>\n",
       "  </tbody>\n",
       "</table>\n",
       "</div>"
      ],
      "text/plain": [
       "     event_name  user_id_x  conversion_x  user_id_y  conversion_y  conv_diff\n",
       "0         login       2422           100        821           100          0\n",
       "1  product_page       1571            65        459            56         -9\n",
       "2      purchase        773            32        226            28         -4\n",
       "3  product_cart        728            30        225            27         -3"
      ]
     },
     "execution_count": 49,
     "metadata": {},
     "output_type": "execute_result"
    }
   ],
   "source": [
    "table_event_conv_new = table_event_A_new.merge(table_event_B_new, on='event_name')\n",
    "table_event_conv_new['conv_diff'] = table_event_conv_new['conversion_y'] - table_event_conv_new['conversion_x']\n",
    "table_event_conv_new"
   ]
  },
  {
   "cell_type": "markdown",
   "id": "2fcbeaf2-aa36-4ab5-a052-fad9de0a9691",
   "metadata": {},
   "source": [
    "Конверсия упала на каждом шаге."
   ]
  },
  {
   "cell_type": "code",
   "execution_count": null,
   "id": "0db2239c-4b32-4c08-9f19-b8e6e8eed041",
   "metadata": {},
   "outputs": [],
   "source": [
    "fig = go.Figure()\n",
    "\n",
    "fig.add_trace(go.Funnel(\n",
    "    name = 'группа А',\n",
    "    orientation = \"h\",\n",
    "    y = [\"login\", \"product_page\", \"product_cart\", \"purchase\"],\n",
    "    x = [2422, 1571, 728, 773],\n",
    "    textposition = \"inside\",\n",
    "    textinfo = \"value+percent initial\"))\n",
    "\n",
    "fig.add_trace(go.Funnel(\n",
    "    name = 'группа В',\n",
    "    orientation = \"h\",\n",
    "    y = [\"login\", \"product_page\", \"product_cart\", \"purchase\"],\n",
    "    x = [821, 459, 225, 226],\n",
    "    textposition = \"outside\",\n",
    "    textinfo = \"value+percent initial\"))\n",
    "\n",
    "fig.show();"
   ]
  },
  {
   "cell_type": "markdown",
   "id": "d86e484a-04d2-4b71-8c23-6cfe340dd8c7",
   "metadata": {},
   "source": [
    "[![newplot-3.png](https://i.postimg.cc/7YDX9mTL/newplot-3.png)](https://postimg.cc/Yjn1qNRc)"
   ]
  },
  {
   "cell_type": "markdown",
   "id": "6b6c0f23-b199-4ca9-9b52-3a3344d9bc35",
   "metadata": {},
   "source": [
    "* **Какие особенности данных нужно учесть, прежде чем приступать к A/B-тестированию?**"
   ]
  },
  {
   "cell_type": "markdown",
   "id": "d64dae4d-d994-4855-88dd-236b107c8ff4",
   "metadata": {},
   "source": [
    "Наши данные не являются идеально подходящими под ТЗ. Реальное количество участников теста почти на 46% меньше ожидаемого. Группы не сбалансированы, контрольная в 3 раза больше тестовой. Группы неравномерно активные. Воронка не соответствует логическим шагам. Пропуск этапа корзины товара затрудняет адекватную оценку данной метрики. Данные трудности стоит учитывать при проведении теста и формулировании результата."
   ]
  },
  {
   "cell_type": "markdown",
   "id": "b7090b55-a48a-4486-a440-db8620335265",
   "metadata": {},
   "source": [
    "## 5. A/B-тестирование.<a id='section_id_5'></a>"
   ]
  },
  {
   "cell_type": "markdown",
   "id": "c9e09d5b-6f6b-4253-9a6e-3757ef97689f",
   "metadata": {},
   "source": [
    "* **Создадим сводную таблицу для теста.**"
   ]
  },
  {
   "cell_type": "code",
   "execution_count": 50,
   "id": "370c8ff0-df88-4aaa-874c-096095abcacb",
   "metadata": {},
   "outputs": [
    {
     "data": {
      "text/html": [
       "<div>\n",
       "<style scoped>\n",
       "    .dataframe tbody tr th:only-of-type {\n",
       "        vertical-align: middle;\n",
       "    }\n",
       "\n",
       "    .dataframe tbody tr th {\n",
       "        vertical-align: top;\n",
       "    }\n",
       "\n",
       "    .dataframe thead th {\n",
       "        text-align: right;\n",
       "    }\n",
       "</style>\n",
       "<table border=\"1\" class=\"dataframe\">\n",
       "  <thead>\n",
       "    <tr style=\"text-align: right;\">\n",
       "      <th>group</th>\n",
       "      <th>A</th>\n",
       "      <th>B</th>\n",
       "    </tr>\n",
       "    <tr>\n",
       "      <th>event_name</th>\n",
       "      <th></th>\n",
       "      <th></th>\n",
       "    </tr>\n",
       "  </thead>\n",
       "  <tbody>\n",
       "    <tr>\n",
       "      <th>login</th>\n",
       "      <td>2422</td>\n",
       "      <td>821</td>\n",
       "    </tr>\n",
       "    <tr>\n",
       "      <th>product_page</th>\n",
       "      <td>1571</td>\n",
       "      <td>459</td>\n",
       "    </tr>\n",
       "    <tr>\n",
       "      <th>purchase</th>\n",
       "      <td>773</td>\n",
       "      <td>226</td>\n",
       "    </tr>\n",
       "    <tr>\n",
       "      <th>product_cart</th>\n",
       "      <td>728</td>\n",
       "      <td>225</td>\n",
       "    </tr>\n",
       "  </tbody>\n",
       "</table>\n",
       "</div>"
      ],
      "text/plain": [
       "group            A    B\n",
       "event_name             \n",
       "login         2422  821\n",
       "product_page  1571  459\n",
       "purchase       773  226\n",
       "product_cart   728  225"
      ]
     },
     "execution_count": 50,
     "metadata": {},
     "output_type": "execute_result"
    }
   ],
   "source": [
    "table_group = general_table.pivot_table(\n",
    "            index='event_name',\n",
    "            columns='group',\n",
    "            values='user_id',\n",
    "            aggfunc='nunique').sort_values(by='A', ascending=False)\n",
    "table_group"
   ]
  },
  {
   "cell_type": "markdown",
   "id": "a8e01153-389d-43c2-a483-ff746983ca0c",
   "metadata": {},
   "source": [
    "* **Сформулируем гипотезы и проведём 3 теста.**"
   ]
  },
  {
   "cell_type": "markdown",
   "id": "5ddefd68-b4c0-459f-aa0e-f54871a09b9f",
   "metadata": {},
   "source": [
    "Н<sub>0</sub>: Доли посетителей на каждом этапе воронки по отношению к действию авторизации для каждой группы одинаковы<br>\n",
    "\n",
    "Н<sub>a</sub>: Доли посетителей на каждом этапе воронки по отношению к действию авторизации для каждой группы различны."
   ]
  },
  {
   "cell_type": "markdown",
   "id": "a61aeebd-a429-4e59-bb00-13de0ab7c900",
   "metadata": {},
   "source": [
    "Введём функцию подсчёта статистики."
   ]
  },
  {
   "cell_type": "code",
   "execution_count": 51,
   "id": "948acf1b-e977-4fe7-9ed2-37453629628c",
   "metadata": {},
   "outputs": [],
   "source": [
    "unique_A = table_group.loc['login', 'A']\n",
    "unique_B = table_group.loc['login', 'B']\n",
    "alpha = 0.01\n",
    "\n",
    "def p_test(successes_1, successes_2, trials_1, trials_2):\n",
    "    # пропорция успехов в каждой группе:\n",
    "    p1 = successes_1 / trials_1\n",
    "    p2 = successes_2 / trials_2\n",
    "    \n",
    "    # пропорция успехов в комбинированном датасете:\n",
    "    p = (successes_1 + successes_2) / (trials_1 + trials_2)\n",
    "    \n",
    "    # разница пропорций в датасетах\n",
    "    difference = p1 - p2 \n",
    "    \n",
    "    # считаем статистику в ст.отклонениях стандартного нормального распределения\n",
    "    z_value = difference / mth.sqrt(p * (1 - p) * (1/trials_1 + 1/trials_2))\n",
    "\n",
    "    # задаем стандартное нормальное распределение (среднее 0, ст.отклонение 1)\n",
    "    distr = st.norm(0, 1) \n",
    "    \n",
    "    p_value = (1 - distr.cdf(abs(z_value))) * 2\n",
    "    \n",
    "    print('p-значение: ', p_value)\n",
    "\n",
    "    if p_value < alpha:\n",
    "        print('Отвергаем нулевую гипотезу: между группами есть значимая разница')\n",
    "    else:\n",
    "        print(\n",
    "        'Не получилось отвергнуть нулевую гипотезу, нет оснований считать группы разными'\n",
    "        ) "
   ]
  },
  {
   "cell_type": "markdown",
   "id": "493d0f91-a1c4-47a1-a5b1-71eea8690797",
   "metadata": {},
   "source": [
    "Зададим цикл, который посчитает для групп статистическое отличие для каждого события."
   ]
  },
  {
   "cell_type": "code",
   "execution_count": 52,
   "id": "695d8a70-7d96-4f78-9575-f737a170ea8f",
   "metadata": {},
   "outputs": [
    {
     "name": "stdout",
     "output_type": "stream",
     "text": [
      "p-значение:  4.575797608152854e-06\n",
      "Отвергаем нулевую гипотезу: между группами есть значимая разница\n",
      "\n",
      "p-значение:  0.01859038755136444\n",
      "Не получилось отвергнуть нулевую гипотезу, нет оснований считать группы разными\n",
      "\n",
      "p-значение:  0.14938759297956405\n",
      "Не получилось отвергнуть нулевую гипотезу, нет оснований считать группы разными\n",
      "\n"
     ]
    }
   ],
   "source": [
    "for event in table_group.index:\n",
    "    if event != 'login':\n",
    "        p_test(table_group.loc[event, 'A'], table_group.loc[event, 'B'], unique_A, unique_B)\n",
    "        print()"
   ]
  },
  {
   "cell_type": "markdown",
   "id": "2aa38449-a163-4e55-8b45-e8e5dd0b43c0",
   "metadata": {},
   "source": [
    "* **Проверка уровня статистической значимости.**"
   ]
  },
  {
   "cell_type": "markdown",
   "id": "bee2bdab-9c8e-457d-b347-5546190506bd",
   "metadata": {},
   "source": [
    "Критический уровень статистической значимости был выбран 0.01. В нашем исследовании было проведено 3 теста. При множественных тестах увеличивается вероятность получить ошибку ложнопозитивного результата. Применим поправку Бонферрони и повторим тесты."
   ]
  },
  {
   "cell_type": "code",
   "execution_count": 53,
   "id": "848d5d5e-9005-4586-a800-088c21162c3c",
   "metadata": {},
   "outputs": [],
   "source": [
    "alpha = alpha/3"
   ]
  },
  {
   "cell_type": "code",
   "execution_count": 54,
   "id": "7236938d-d200-4389-8bc7-7a0c8dfeb47f",
   "metadata": {},
   "outputs": [
    {
     "name": "stdout",
     "output_type": "stream",
     "text": [
      "p-значение:  4.575797608152854e-06\n",
      "Отвергаем нулевую гипотезу: между группами есть значимая разница\n",
      "\n",
      "p-значение:  0.01859038755136444\n",
      "Не получилось отвергнуть нулевую гипотезу, нет оснований считать группы разными\n",
      "\n",
      "p-значение:  0.14938759297956405\n",
      "Не получилось отвергнуть нулевую гипотезу, нет оснований считать группы разными\n",
      "\n"
     ]
    }
   ],
   "source": [
    "for event in table_group.index:\n",
    "    if event != 'login':\n",
    "        p_test(table_group.loc[event, 'A'], table_group.loc[event, 'B'], unique_A, unique_B)\n",
    "        print()"
   ]
  },
  {
   "cell_type": "markdown",
   "id": "8744feb9-de12-494a-8602-76f4896d43f7",
   "metadata": {},
   "source": [
    "Результаты теста после применения поправки не изменились."
   ]
  },
  {
   "cell_type": "markdown",
   "id": "6d4d9e99-de0c-4847-bffd-4508a6e93564",
   "metadata": {},
   "source": [
    "## 6. Вывод.<a id='section_id_6'></a>"
   ]
  },
  {
   "cell_type": "markdown",
   "id": "d12c332c-bd19-4318-af4a-72896928c7bb",
   "metadata": {},
   "source": [
    "1. Группы имеют значительный дисбаланс. Контрольная группа втрое больше тестовой. Пользователи тестовой группы отмечают меньше активность - количество действий на пользователя в тестовой группе 5,4, тогда как в контрольной группе 6,9.\n",
    "2. Количество участников теста 3.244 вместо 6.000 ожидаемых.\n",
    "3. Количество событий в тестовой группе сильно уступает контрольной группе. Вид распределения количества событий в группах так же имеет разницу. По графикам видно, что количество событий в контрольной группе растёт до 21 декабря и затем испытывает спад. Поведение тестовой группы отмечает пиковые значения 7, 9, 16 и 21 декабря. Данные скачки могут объясняться пиками наборов групп в эти даты.\n",
    "4. Воронка событий имеет нелогичный характер. Вероятнее всего при формировании покупки есть возможность пропустить этап корзины товара и сразу перейти к оплате, что затрудняет анализ метрики воронки корзины для нашего анализа.\n",
    "5. Конверсия по отношению к предыдущему шагу показывает спад на 9% на этапе просмотра товара и подъём на 6% на этапе корзины товаров.\n",
    "6. Нарушение логики воронки ставит под сомнение релевантность предыдущего пункта, поэтому было принято решение посчитать конверсию относительно первого шага, то есть относительно авторизации пользователя. Такая конверсия несёт отрицательный характер на каждом шаге воронки.\n",
    "7. По результатам статистических тестов было выявлено, что статистический критерий не находит разницы между группами на шагах покупки и корзины товара.\n",
    "8. По результатам анализа можно сказать, что новая рекомендательная система не позволяет повысить метрики, а только понижает их. Но также следует отметить релевантность нашего тестирования. Группы сильно неравные, активность групп неравномерная, набор данных в 2 раза меньше ожидаемого, малая активность тестовой группы, тест окончен раньше положенного срока, производилось несколько тестов одновременно. Корректность теста оценивается всеми сказанными факторами. К рекомендации можно отнести улучшение набора данных и проведение повторного тестирования на более полных и чистых данных."
   ]
  }
 ],
 "metadata": {
  "kernelspec": {
   "display_name": "Python 3 (ipykernel)",
   "language": "python",
   "name": "python3"
  },
  "language_info": {
   "codemirror_mode": {
    "name": "ipython",
    "version": 3
   },
   "file_extension": ".py",
   "mimetype": "text/x-python",
   "name": "python",
   "nbconvert_exporter": "python",
   "pygments_lexer": "ipython3",
   "version": "3.9.17"
  }
 },
 "nbformat": 4,
 "nbformat_minor": 5
}
