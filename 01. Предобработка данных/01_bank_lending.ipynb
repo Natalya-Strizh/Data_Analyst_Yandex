{
 "cells": [
  {
   "cell_type": "markdown",
   "id": "df70d274-1c45-4139-bc86-c3edb5b22e60",
   "metadata": {},
   "source": [
    "# Исследование надежности заемщиков банка"
   ]
  },
  {
   "cell_type": "markdown",
   "id": "e822cb51-35ee-4e28-9ffc-83bb02d7482a",
   "metadata": {},
   "source": [
    "Заказчик — кредитный отдел банка. Задача разобраться, влияет ли семейное положение и количество детей клиента на факт погашения кредита в срок. Входные данные от банка — статистика о платёжеспособности клиентов.\n",
    "\n",
    "Результаты исследования будут учтены при построении модели кредитного скоринга — специальной системы, которая оценивает способность потенциального заёмщика вернуть кредит банку."
   ]
  },
  {
   "cell_type": "markdown",
   "id": "b362face-7ec1-482d-8c35-1dd9595a8c66",
   "metadata": {},
   "source": [
    "**План.**\n",
    "\n",
    "1. [Загрузка данных и изучение общей информации.](#section_id_1)\n",
    "2. [Предобработка данных.](#section_id_2)</br>\n",
    "* 2.1. Удаление пропусков.</br>\n",
    "* 2.2. Обработка аномальных значений.</br>\n",
    "* 2.3. Удаление пропусков (продолжение).</br>\n",
    "* 2.4. Изменение типов данных.</br>\n",
    "* 2.5. Обработка дубликатов.</br>\n",
    "* 2.6. Категоризации данных.</br>\n",
    "\n",
    "3. [Исследовательский анализ.](#section_id_3)</br>\n",
    "* 3.1. Есть ли зависимость между количеством детей и возвратом кредита в срок?</br>\n",
    "* 3.2. Существует ли зависимость между семейным положением и возвратом кредита в срок?</br>\n",
    "* 3.3. Есть ли зависимость между уровнем дохода и возвратом кредита в срок?</br>\n",
    "* 3.4. Как разные цели кредита влияют на его возврат в срок?</br>\n",
    "\n",
    "4. [Общий вывод.](#section_id_4)"
   ]
  },
  {
   "cell_type": "markdown",
   "id": "866a32ce-42ca-4f81-b95a-05363adef737",
   "metadata": {},
   "source": [
    "**Описание данных**\n",
    "* `children` - количество детей в семье\n",
    "* `days_employed` - общий трудовой стаж в днях\n",
    "* `dob_years` - возраст клиента в годах\n",
    "* `education` - уровень образования клиента\n",
    "* `education_id` - идентификатор уровня образования\n",
    "* `family_status` - семейное положение\n",
    "* `family_status_id` - идентификатор семейного положения\n",
    "* `gender` - пол клиента\n",
    "* `income_type` - тип занятости\n",
    "* `debt` - имел ли задолженность по возврату кредитов\n",
    "* `total_income` - ежемесячный доход\n",
    "* `purpose` - цель получения кредита"
   ]
  },
  {
   "cell_type": "markdown",
   "id": "0b335996-7772-4073-a6ec-30800b8d20ac",
   "metadata": {},
   "source": [
    "## 1. Загрузка данных и изучение общей информации.<a id='section_id_1'></a>"
   ]
  },
  {
   "cell_type": "markdown",
   "id": "2279abd8-df83-430a-b182-02f709b53443",
   "metadata": {},
   "source": [
    "**Путь к файлу:**\n",
    "\n",
    "`/datasets/data.csv`"
   ]
  },
  {
   "cell_type": "markdown",
   "id": "2b30f523-4bb0-4531-872d-a76610992b4a",
   "metadata": {},
   "source": [
    "Датасет содержит данные о клиентах банка. Загрузим необходимые библиотеки, загрузим датасет и изучим общую информацию."
   ]
  },
  {
   "cell_type": "code",
   "execution_count": 1,
   "id": "f694e596-1564-49c2-b704-f7043ef3b8cf",
   "metadata": {},
   "outputs": [],
   "source": [
    "import pandas as pd \n",
    "import matplotlib.pyplot as plt\n",
    "import seaborn as sns "
   ]
  },
  {
   "cell_type": "code",
   "execution_count": 2,
   "id": "f2a9ce44-0013-48b6-8c49-2fafde8f7af9",
   "metadata": {},
   "outputs": [],
   "source": [
    "try:\n",
    "    data = pd.read_csv('/datasets/data.csv')\n",
    "except:\n",
    "    data = pd.read_csv('https://code.s3.yandex.net/datasets/data.csv')"
   ]
  },
  {
   "cell_type": "code",
   "execution_count": 3,
   "id": "80cf1377-a1c2-42a2-aaec-fea40ed89924",
   "metadata": {},
   "outputs": [
    {
     "data": {
      "text/html": [
       "<div>\n",
       "<style scoped>\n",
       "    .dataframe tbody tr th:only-of-type {\n",
       "        vertical-align: middle;\n",
       "    }\n",
       "\n",
       "    .dataframe tbody tr th {\n",
       "        vertical-align: top;\n",
       "    }\n",
       "\n",
       "    .dataframe thead th {\n",
       "        text-align: right;\n",
       "    }\n",
       "</style>\n",
       "<table border=\"1\" class=\"dataframe\">\n",
       "  <thead>\n",
       "    <tr style=\"text-align: right;\">\n",
       "      <th></th>\n",
       "      <th>children</th>\n",
       "      <th>days_employed</th>\n",
       "      <th>dob_years</th>\n",
       "      <th>education</th>\n",
       "      <th>education_id</th>\n",
       "      <th>family_status</th>\n",
       "      <th>family_status_id</th>\n",
       "      <th>gender</th>\n",
       "      <th>income_type</th>\n",
       "      <th>debt</th>\n",
       "      <th>total_income</th>\n",
       "      <th>purpose</th>\n",
       "    </tr>\n",
       "  </thead>\n",
       "  <tbody>\n",
       "    <tr>\n",
       "      <th>0</th>\n",
       "      <td>1</td>\n",
       "      <td>-8437.673028</td>\n",
       "      <td>42</td>\n",
       "      <td>высшее</td>\n",
       "      <td>0</td>\n",
       "      <td>женат / замужем</td>\n",
       "      <td>0</td>\n",
       "      <td>F</td>\n",
       "      <td>сотрудник</td>\n",
       "      <td>0</td>\n",
       "      <td>253875.639453</td>\n",
       "      <td>покупка жилья</td>\n",
       "    </tr>\n",
       "    <tr>\n",
       "      <th>1</th>\n",
       "      <td>1</td>\n",
       "      <td>-4024.803754</td>\n",
       "      <td>36</td>\n",
       "      <td>среднее</td>\n",
       "      <td>1</td>\n",
       "      <td>женат / замужем</td>\n",
       "      <td>0</td>\n",
       "      <td>F</td>\n",
       "      <td>сотрудник</td>\n",
       "      <td>0</td>\n",
       "      <td>112080.014102</td>\n",
       "      <td>приобретение автомобиля</td>\n",
       "    </tr>\n",
       "    <tr>\n",
       "      <th>2</th>\n",
       "      <td>0</td>\n",
       "      <td>-5623.422610</td>\n",
       "      <td>33</td>\n",
       "      <td>Среднее</td>\n",
       "      <td>1</td>\n",
       "      <td>женат / замужем</td>\n",
       "      <td>0</td>\n",
       "      <td>M</td>\n",
       "      <td>сотрудник</td>\n",
       "      <td>0</td>\n",
       "      <td>145885.952297</td>\n",
       "      <td>покупка жилья</td>\n",
       "    </tr>\n",
       "    <tr>\n",
       "      <th>3</th>\n",
       "      <td>3</td>\n",
       "      <td>-4124.747207</td>\n",
       "      <td>32</td>\n",
       "      <td>среднее</td>\n",
       "      <td>1</td>\n",
       "      <td>женат / замужем</td>\n",
       "      <td>0</td>\n",
       "      <td>M</td>\n",
       "      <td>сотрудник</td>\n",
       "      <td>0</td>\n",
       "      <td>267628.550329</td>\n",
       "      <td>дополнительное образование</td>\n",
       "    </tr>\n",
       "    <tr>\n",
       "      <th>4</th>\n",
       "      <td>0</td>\n",
       "      <td>340266.072047</td>\n",
       "      <td>53</td>\n",
       "      <td>среднее</td>\n",
       "      <td>1</td>\n",
       "      <td>гражданский брак</td>\n",
       "      <td>1</td>\n",
       "      <td>F</td>\n",
       "      <td>пенсионер</td>\n",
       "      <td>0</td>\n",
       "      <td>158616.077870</td>\n",
       "      <td>сыграть свадьбу</td>\n",
       "    </tr>\n",
       "  </tbody>\n",
       "</table>\n",
       "</div>"
      ],
      "text/plain": [
       "   children  days_employed  dob_years education  education_id  \\\n",
       "0         1   -8437.673028         42    высшее             0   \n",
       "1         1   -4024.803754         36   среднее             1   \n",
       "2         0   -5623.422610         33   Среднее             1   \n",
       "3         3   -4124.747207         32   среднее             1   \n",
       "4         0  340266.072047         53   среднее             1   \n",
       "\n",
       "      family_status  family_status_id gender income_type  debt   total_income  \\\n",
       "0   женат / замужем                 0      F   сотрудник     0  253875.639453   \n",
       "1   женат / замужем                 0      F   сотрудник     0  112080.014102   \n",
       "2   женат / замужем                 0      M   сотрудник     0  145885.952297   \n",
       "3   женат / замужем                 0      M   сотрудник     0  267628.550329   \n",
       "4  гражданский брак                 1      F   пенсионер     0  158616.077870   \n",
       "\n",
       "                      purpose  \n",
       "0               покупка жилья  \n",
       "1     приобретение автомобиля  \n",
       "2               покупка жилья  \n",
       "3  дополнительное образование  \n",
       "4             сыграть свадьбу  "
      ]
     },
     "execution_count": 3,
     "metadata": {},
     "output_type": "execute_result"
    }
   ],
   "source": [
    "data.head()"
   ]
  },
  {
   "cell_type": "code",
   "execution_count": 4,
   "id": "23d45664-191b-4b9e-bc21-9303e58828bf",
   "metadata": {
    "scrolled": true
   },
   "outputs": [
    {
     "name": "stdout",
     "output_type": "stream",
     "text": [
      "<class 'pandas.core.frame.DataFrame'>\n",
      "RangeIndex: 21525 entries, 0 to 21524\n",
      "Data columns (total 12 columns):\n",
      " #   Column            Non-Null Count  Dtype  \n",
      "---  ------            --------------  -----  \n",
      " 0   children          21525 non-null  int64  \n",
      " 1   days_employed     19351 non-null  float64\n",
      " 2   dob_years         21525 non-null  int64  \n",
      " 3   education         21525 non-null  object \n",
      " 4   education_id      21525 non-null  int64  \n",
      " 5   family_status     21525 non-null  object \n",
      " 6   family_status_id  21525 non-null  int64  \n",
      " 7   gender            21525 non-null  object \n",
      " 8   income_type       21525 non-null  object \n",
      " 9   debt              21525 non-null  int64  \n",
      " 10  total_income      19351 non-null  float64\n",
      " 11  purpose           21525 non-null  object \n",
      "dtypes: float64(2), int64(5), object(5)\n",
      "memory usage: 2.0+ MB\n"
     ]
    }
   ],
   "source": [
    "data.info()"
   ]
  },
  {
   "cell_type": "markdown",
   "id": "0cda43b9-7c50-4347-81a3-8497ba7e2e41",
   "metadata": {},
   "source": [
    "## 2. Предобработка данных.<a id='section_id_2'></a>"
   ]
  },
  {
   "cell_type": "markdown",
   "id": "87614a63-34d5-408c-bbd7-bb0a3a7414c6",
   "metadata": {},
   "source": [
    "### 2.1. Удаление пропусков"
   ]
  },
  {
   "cell_type": "markdown",
   "id": "142c8203-7285-4dc1-8f06-19acba6fdc22",
   "metadata": {},
   "source": [
    "* Выведем количество пропущенных значений для каждого столбца."
   ]
  },
  {
   "cell_type": "code",
   "execution_count": 5,
   "id": "ced5727b-0a22-4666-8a98-2073431cccc7",
   "metadata": {},
   "outputs": [
    {
     "data": {
      "text/plain": [
       "children               0\n",
       "days_employed       2174\n",
       "dob_years              0\n",
       "education              0\n",
       "education_id           0\n",
       "family_status          0\n",
       "family_status_id       0\n",
       "gender                 0\n",
       "income_type            0\n",
       "debt                   0\n",
       "total_income        2174\n",
       "purpose                0\n",
       "dtype: int64"
      ]
     },
     "execution_count": 5,
     "metadata": {},
     "output_type": "execute_result"
    }
   ],
   "source": [
    "data.isna().sum()"
   ]
  },
  {
   "cell_type": "markdown",
   "id": "67279205-cd7e-447f-af5a-01523f322c59",
   "metadata": {},
   "source": [
    "* В двух столбцах есть пропущенные значения. Один из них — `total_income`. Столбец `total_income` хранит данные о доходах. На сумму дохода сильнее всего влияет тип занятости, поэтому заполнить пропуски в этом столбце нужно медианным значением по каждому типу из столбца `income_type`. Столбец `days_employed` рассмотрим ниже."
   ]
  },
  {
   "cell_type": "code",
   "execution_count": 6,
   "id": "9ce09f0c-537f-4657-b2cd-ef6f61fafe83",
   "metadata": {},
   "outputs": [],
   "source": [
    "for t in data['income_type'].unique():\n",
    "    data.loc[(data['income_type'] == t) & (data['total_income'].isna()), 'total_income'] = \\\n",
    "    data.loc[(data['income_type'] == t), 'total_income'].median()"
   ]
  },
  {
   "cell_type": "markdown",
   "id": "6d69dad0-2984-4109-9c1a-25c4c514caa8",
   "metadata": {},
   "source": [
    "### 2.2. Обработка аномальных значений"
   ]
  },
  {
   "cell_type": "markdown",
   "id": "cc63e4be-90eb-4b5e-b7a8-d60feaa2be83",
   "metadata": {},
   "source": [
    "* Проверим данные на артефакты в столбце `days_employed`. Заменим все отрицательные значения положительными с помощью метода `abs()`."
   ]
  },
  {
   "cell_type": "code",
   "execution_count": 7,
   "id": "60fe0fcd-92cb-41e5-8af5-1ddf01093479",
   "metadata": {},
   "outputs": [],
   "source": [
    "data['days_employed'] = data['days_employed'].abs()"
   ]
  },
  {
   "cell_type": "markdown",
   "id": "5927ebdf-0b54-4c0c-86ae-f3f2b3f0308a",
   "metadata": {},
   "source": [
    "* Для каждого типа занятости выведем медианное значение трудового стажа `days_employed` в днях."
   ]
  },
  {
   "cell_type": "code",
   "execution_count": 8,
   "id": "4fc432b6-ec89-420e-9113-4f61a30dc7e1",
   "metadata": {},
   "outputs": [
    {
     "data": {
      "text/plain": [
       "income_type\n",
       "безработный        366413.652744\n",
       "в декрете            3296.759962\n",
       "госслужащий          2689.368353\n",
       "компаньон            1547.382223\n",
       "пенсионер          365213.306266\n",
       "предприниматель       520.848083\n",
       "сотрудник            1574.202821\n",
       "студент               578.751554\n",
       "Name: days_employed, dtype: float64"
      ]
     },
     "execution_count": 8,
     "metadata": {},
     "output_type": "execute_result"
    }
   ],
   "source": [
    "data.groupby('income_type')['days_employed'].agg('median')"
   ]
  },
  {
   "cell_type": "markdown",
   "id": "b9184ca5-e7d7-40f4-a615-649c3834bbe5",
   "metadata": {},
   "source": [
    "У двух типов (безработные и пенсионеры) получатся аномально большие значения. Исправить такие значения сложно, поэтому оставим их как есть. Тем более этот столбец не понадобится нам для исследования."
   ]
  },
  {
   "cell_type": "markdown",
   "id": "97e53c1a-a7ec-49ac-9ac1-c27abdc51f70",
   "metadata": {},
   "source": [
    "* Выведем перечень уникальных значений столбца `children`."
   ]
  },
  {
   "cell_type": "code",
   "execution_count": 9,
   "id": "922706b5-685b-477a-a245-b325979ab74e",
   "metadata": {},
   "outputs": [
    {
     "data": {
      "text/plain": [
       "array([ 1,  0,  3,  2, -1,  4, 20,  5])"
      ]
     },
     "execution_count": 9,
     "metadata": {},
     "output_type": "execute_result"
    }
   ],
   "source": [
    "data['children'].unique()"
   ]
  },
  {
   "cell_type": "markdown",
   "id": "77f87b97-f2f0-426c-a503-99558afbf93f",
   "metadata": {},
   "source": [
    "* В столбце `children` есть два аномальных значения. Удалим строки, в которых встречаются такие аномальные значения из датафрейма `data` и выведем перечень уникальных значений столбца `children`, чтобы убедиться, что артефакты удалены."
   ]
  },
  {
   "cell_type": "code",
   "execution_count": 10,
   "id": "0fe63cbd-5f4c-47ee-ab3a-97dc89c0c864",
   "metadata": {},
   "outputs": [
    {
     "data": {
      "text/plain": [
       "array([1, 0, 3, 2, 4, 5])"
      ]
     },
     "execution_count": 10,
     "metadata": {},
     "output_type": "execute_result"
    }
   ],
   "source": [
    "data = data[(data['children'] != -1) & (data['children'] != 20)]\n",
    "data['children'].unique() "
   ]
  },
  {
   "cell_type": "markdown",
   "id": "0f0b7bb4-e34e-40e0-b618-e2f8b6822ad6",
   "metadata": {},
   "source": [
    "### 2.3. Удаление пропусков (продолжение)"
   ]
  },
  {
   "cell_type": "markdown",
   "id": "0e8daff5-bff6-4189-87e5-d946b69359d6",
   "metadata": {},
   "source": [
    "* Заполним пропуски в столбце `days_employed` медианными значениями по каждому типа занятости `income_type`."
   ]
  },
  {
   "cell_type": "code",
   "execution_count": 11,
   "id": "a7d2328e-70ea-4b54-aa42-2fd974acf9af",
   "metadata": {},
   "outputs": [],
   "source": [
    "for t in data['income_type'].unique():\n",
    "    data.loc[(data['income_type'] == t) & (data['days_employed'].isna()), 'days_employed'] = \\\n",
    "    data.loc[(data['income_type'] == t), 'days_employed'].median()"
   ]
  },
  {
   "cell_type": "markdown",
   "id": "71d48d2a-97b2-485b-9e4a-a08167168487",
   "metadata": {},
   "source": [
    "* Повторно выведем количество пропущенных значений для каждого столбца."
   ]
  },
  {
   "cell_type": "code",
   "execution_count": 12,
   "id": "d7d79763-8264-4912-9f8a-54cdc593f461",
   "metadata": {},
   "outputs": [
    {
     "data": {
      "text/plain": [
       "children            0\n",
       "days_employed       0\n",
       "dob_years           0\n",
       "education           0\n",
       "education_id        0\n",
       "family_status       0\n",
       "family_status_id    0\n",
       "gender              0\n",
       "income_type         0\n",
       "debt                0\n",
       "total_income        0\n",
       "purpose             0\n",
       "dtype: int64"
      ]
     },
     "execution_count": 12,
     "metadata": {},
     "output_type": "execute_result"
    }
   ],
   "source": [
    "data.isna().sum()"
   ]
  },
  {
   "cell_type": "markdown",
   "id": "8a8fe562-b8e7-4465-97b4-9e3ec0afe3e7",
   "metadata": {},
   "source": [
    "### 2.4. Изменение типов данных"
   ]
  },
  {
   "cell_type": "markdown",
   "id": "e790589e-d0e5-4896-97ab-4157e0a3d683",
   "metadata": {},
   "source": [
    "* Заменим вещественный тип данных в столбце `total_income` на целочисленный с помощью метода `astype()`."
   ]
  },
  {
   "cell_type": "code",
   "execution_count": 13,
   "id": "f2845ad6-47e7-4835-aa88-2db064b0e639",
   "metadata": {},
   "outputs": [],
   "source": [
    "data['total_income'] = data['total_income'].astype(int)"
   ]
  },
  {
   "cell_type": "markdown",
   "id": "c6f11256-e435-4eae-b656-d3c12f2a3392",
   "metadata": {},
   "source": [
    "### 2.5. Обработка дубликатов"
   ]
  },
  {
   "cell_type": "markdown",
   "id": "53f093f7-65de-4566-bf14-f2f4279c4b78",
   "metadata": {},
   "source": [
    "* Обработаем неявные дубликаты в столбце `education`."
   ]
  },
  {
   "cell_type": "code",
   "execution_count": 14,
   "id": "a20f30d8-7716-4815-8d2f-fefea5809b10",
   "metadata": {},
   "outputs": [],
   "source": [
    "data['education'] = data['education'].str.lower()"
   ]
  },
  {
   "cell_type": "markdown",
   "id": "ffbd1215-8f00-4480-a91c-e5ea92f873f5",
   "metadata": {},
   "source": [
    "* Определм количество строк-дубликатов."
   ]
  },
  {
   "cell_type": "code",
   "execution_count": 15,
   "id": "63faa197-e8f3-40a9-b960-a915ef6b1720",
   "metadata": {},
   "outputs": [
    {
     "data": {
      "text/plain": [
       "71"
      ]
     },
     "execution_count": 15,
     "metadata": {},
     "output_type": "execute_result"
    }
   ],
   "source": [
    "data.duplicated().sum()"
   ]
  },
  {
   "cell_type": "markdown",
   "id": "c19165bd-5912-4665-957f-e503f407adff",
   "metadata": {},
   "source": [
    "* Удалим строки-дубликаты."
   ]
  },
  {
   "cell_type": "code",
   "execution_count": 16,
   "id": "790a7645-2ecf-4b14-8ff6-bcc34fb517fb",
   "metadata": {},
   "outputs": [],
   "source": [
    "data = data.drop_duplicates()"
   ]
  },
  {
   "cell_type": "markdown",
   "id": "3a1ae1ed-ed64-4160-afe8-1c30dd6002e1",
   "metadata": {},
   "source": [
    "### 2.6. Категоризация данных"
   ]
  },
  {
   "cell_type": "markdown",
   "id": "af8bf5fb-b3db-47ef-ac35-54cc7dba6196",
   "metadata": {},
   "source": [
    "Создадим столбец `total_income_category` с категориями:\n",
    "\n",
    "- 0–30000 — `'E'`;\n",
    "- 30001–50000 — `'D'`;\n",
    "- 50001–200000 — `'C'`;\n",
    "- 200001–1000000 — `'B'`;\n",
    "- 1000001 и выше — `'A'`."
   ]
  },
  {
   "cell_type": "code",
   "execution_count": 17,
   "id": "f0b45d2c-7fb9-43c3-b8bb-932ef7e5f5cd",
   "metadata": {},
   "outputs": [],
   "source": [
    "def categorize_income(income):\n",
    "    try:\n",
    "        if 0 <= income <= 30000:\n",
    "            return 'E'\n",
    "        elif 30001 <= income <= 50000:\n",
    "            return 'D'\n",
    "        elif 50001 <= income <= 200000:\n",
    "            return 'C'\n",
    "        elif 200001 <= income <= 1000000:\n",
    "            return 'B'\n",
    "        elif income >= 1000001:\n",
    "            return 'A'\n",
    "    except:\n",
    "        pass\n",
    "\n",
    "data['total_income_category'] = data['total_income'].apply(categorize_income)"
   ]
  },
  {
   "cell_type": "markdown",
   "id": "5c6e2c46-3143-42e2-84d6-f759467999b9",
   "metadata": {},
   "source": [
    "* Выведем перечень уникальных целей взятия кредита из столбца `purpose`."
   ]
  },
  {
   "cell_type": "code",
   "execution_count": 18,
   "id": "80d4b07e-5f93-42e2-a8b8-470e52358341",
   "metadata": {},
   "outputs": [
    {
     "data": {
      "text/plain": [
       "array(['покупка жилья', 'приобретение автомобиля',\n",
       "       'дополнительное образование', 'сыграть свадьбу',\n",
       "       'операции с жильем', 'образование', 'на проведение свадьбы',\n",
       "       'покупка жилья для семьи', 'покупка недвижимости',\n",
       "       'покупка коммерческой недвижимости', 'покупка жилой недвижимости',\n",
       "       'строительство собственной недвижимости', 'недвижимость',\n",
       "       'строительство недвижимости', 'на покупку подержанного автомобиля',\n",
       "       'на покупку своего автомобиля',\n",
       "       'операции с коммерческой недвижимостью',\n",
       "       'строительство жилой недвижимости', 'жилье',\n",
       "       'операции со своей недвижимостью', 'автомобили',\n",
       "       'заняться образованием', 'сделка с подержанным автомобилем',\n",
       "       'получение образования', 'автомобиль', 'свадьба',\n",
       "       'получение дополнительного образования', 'покупка своего жилья',\n",
       "       'операции с недвижимостью', 'получение высшего образования',\n",
       "       'свой автомобиль', 'сделка с автомобилем',\n",
       "       'профильное образование', 'высшее образование',\n",
       "       'покупка жилья для сдачи', 'на покупку автомобиля', 'ремонт жилью',\n",
       "       'заняться высшим образованием'], dtype=object)"
      ]
     },
     "execution_count": 18,
     "metadata": {},
     "output_type": "execute_result"
    }
   ],
   "source": [
    "data['purpose'].unique()"
   ]
  },
  {
   "cell_type": "markdown",
   "id": "3e1cd256-4755-49e7-b3e4-2990e2351ccd",
   "metadata": {},
   "source": [
    "Создадим функцию, которая на основании данных из столбца `purpose` сформирует новый столбец `purpose_category`, в который войдут следующие категории:**\n",
    "\n",
    "- `'операции с автомобилем'`,\n",
    "- `'операции с недвижимостью'`,\n",
    "- `'проведение свадьбы'`,\n",
    "- `'получение образования'`."
   ]
  },
  {
   "cell_type": "code",
   "execution_count": 19,
   "id": "2590cf6a-eda9-4d7c-ba1a-5417949302a5",
   "metadata": {},
   "outputs": [],
   "source": [
    "def categorize_purpose(row):\n",
    "    try:\n",
    "        if 'автом' in row:\n",
    "            return 'операции с автомобилем'\n",
    "        elif 'жил' in row or 'недвиж' in row:\n",
    "            return 'операции с недвижимостью'\n",
    "        elif 'свад' in row:\n",
    "            return 'проведение свадьбы'\n",
    "        elif 'образов' in row:\n",
    "            return 'получение образования'\n",
    "    except:\n",
    "        return 'нет категории'\n",
    "\n",
    "data['purpose_category'] = data['purpose'].apply(categorize_purpose)"
   ]
  },
  {
   "cell_type": "markdown",
   "id": "efb56584-0553-4218-b5c9-bf19e6fa6807",
   "metadata": {},
   "source": [
    "## 3. Исследовательский анализ.<a id='section_id_3'></a>"
   ]
  },
  {
   "cell_type": "markdown",
   "id": "87230e97-d71b-438b-b5ad-c54a788a17d6",
   "metadata": {},
   "source": [
    "### 3.1. Есть ли зависимость между количеством детей и возвратом кредита в срок?"
   ]
  },
  {
   "cell_type": "markdown",
   "id": "4b1e97f3-38b4-4f1d-9fad-342a22a87013",
   "metadata": {},
   "source": [
    "* Выведем на экран уникальные значения количества детей и посчитаем частоту встречаемости в таблице."
   ]
  },
  {
   "cell_type": "code",
   "execution_count": 20,
   "id": "c26eff83-f47a-4e26-9c32-32e52c0d5226",
   "metadata": {},
   "outputs": [
    {
     "data": {
      "text/plain": [
       "children\n",
       "0    14091\n",
       "1     4808\n",
       "2     2052\n",
       "3      330\n",
       "4       41\n",
       "5        9\n",
       "dtype: int64"
      ]
     },
     "execution_count": 20,
     "metadata": {},
     "output_type": "execute_result"
    }
   ],
   "source": [
    "data.value_counts('children')"
   ]
  },
  {
   "cell_type": "markdown",
   "id": "115b9067-f6ce-4b5c-9a8c-b23b737aad1c",
   "metadata": {},
   "source": [
    "Чаще всего берут кредит клиенты не имеющие детей и с их ростом потенциальных клиентов становится меньше."
   ]
  },
  {
   "cell_type": "markdown",
   "id": "31f5f50f-2a67-43fe-892f-7abae868a9e0",
   "metadata": {},
   "source": [
    "* Проверим нет ли аномальных сначений в столбце 'debt'."
   ]
  },
  {
   "cell_type": "code",
   "execution_count": 21,
   "id": "13babb3c-b63f-4cea-bea5-f54688b2152a",
   "metadata": {},
   "outputs": [
    {
     "name": "stdout",
     "output_type": "stream",
     "text": [
      "0\n",
      "0\n"
     ]
    }
   ],
   "source": [
    "print(len(data.loc[data['debt'] > 1]))\n",
    "print(len(data.loc[data['debt'] < 0]))"
   ]
  },
  {
   "cell_type": "markdown",
   "id": "61bb15f0-9409-403f-8781-2d7a913dd67f",
   "metadata": {},
   "source": [
    "* Сгруппируем таблицу по количеству детей и посчитаем среднее число-идентификатор задолженности клиентов в зависимости от численности семьи."
   ]
  },
  {
   "cell_type": "code",
   "execution_count": 22,
   "id": "5c3b60f7-5738-4b37-93c5-03e21db71014",
   "metadata": {},
   "outputs": [
    {
     "data": {
      "text/plain": [
       "children\n",
       "0    0.075438\n",
       "1    0.092346\n",
       "2    0.094542\n",
       "3    0.081818\n",
       "4    0.097561\n",
       "5    0.000000\n",
       "Name: debt, dtype: float64"
      ]
     },
     "execution_count": 22,
     "metadata": {},
     "output_type": "execute_result"
    }
   ],
   "source": [
    "data.groupby('children')['debt'].mean()"
   ]
  },
  {
   "cell_type": "markdown",
   "id": "32102a35-3000-46d1-a1d2-86a8ff18de3c",
   "metadata": {},
   "source": [
    "Клиенты, которые не стали ещё родителями реже всего задерживают платёж. Должниками оказываются новоиспечённые родители или клиенты, которые имеют 2 или 4 ребёнка. Родители троих детей немного реже становятся должниками. Исправными плательщиками становятся самые опытные родители. Посмотрим на них повнимательнее."
   ]
  },
  {
   "cell_type": "code",
   "execution_count": 23,
   "id": "0f503350-d311-4b43-bc61-3f604859c38b",
   "metadata": {},
   "outputs": [
    {
     "data": {
      "text/html": [
       "<div>\n",
       "<style scoped>\n",
       "    .dataframe tbody tr th:only-of-type {\n",
       "        vertical-align: middle;\n",
       "    }\n",
       "\n",
       "    .dataframe tbody tr th {\n",
       "        vertical-align: top;\n",
       "    }\n",
       "\n",
       "    .dataframe thead th {\n",
       "        text-align: right;\n",
       "    }\n",
       "</style>\n",
       "<table border=\"1\" class=\"dataframe\">\n",
       "  <thead>\n",
       "    <tr style=\"text-align: right;\">\n",
       "      <th></th>\n",
       "      <th>children</th>\n",
       "      <th>days_employed</th>\n",
       "      <th>dob_years</th>\n",
       "      <th>education</th>\n",
       "      <th>education_id</th>\n",
       "      <th>family_status</th>\n",
       "      <th>family_status_id</th>\n",
       "      <th>gender</th>\n",
       "      <th>income_type</th>\n",
       "      <th>debt</th>\n",
       "      <th>total_income</th>\n",
       "      <th>purpose</th>\n",
       "      <th>total_income_category</th>\n",
       "      <th>purpose_category</th>\n",
       "    </tr>\n",
       "  </thead>\n",
       "  <tbody>\n",
       "    <tr>\n",
       "      <th>3979</th>\n",
       "      <td>5</td>\n",
       "      <td>1572.328285</td>\n",
       "      <td>42</td>\n",
       "      <td>среднее</td>\n",
       "      <td>1</td>\n",
       "      <td>гражданский брак</td>\n",
       "      <td>1</td>\n",
       "      <td>M</td>\n",
       "      <td>сотрудник</td>\n",
       "      <td>0</td>\n",
       "      <td>142594</td>\n",
       "      <td>на покупку своего автомобиля</td>\n",
       "      <td>C</td>\n",
       "      <td>операции с автомобилем</td>\n",
       "    </tr>\n",
       "    <tr>\n",
       "      <th>4397</th>\n",
       "      <td>5</td>\n",
       "      <td>3248.839837</td>\n",
       "      <td>36</td>\n",
       "      <td>среднее</td>\n",
       "      <td>1</td>\n",
       "      <td>женат / замужем</td>\n",
       "      <td>0</td>\n",
       "      <td>F</td>\n",
       "      <td>компаньон</td>\n",
       "      <td>0</td>\n",
       "      <td>168460</td>\n",
       "      <td>операции с недвижимостью</td>\n",
       "      <td>C</td>\n",
       "      <td>операции с недвижимостью</td>\n",
       "    </tr>\n",
       "    <tr>\n",
       "      <th>7866</th>\n",
       "      <td>5</td>\n",
       "      <td>773.124856</td>\n",
       "      <td>36</td>\n",
       "      <td>среднее</td>\n",
       "      <td>1</td>\n",
       "      <td>женат / замужем</td>\n",
       "      <td>0</td>\n",
       "      <td>F</td>\n",
       "      <td>сотрудник</td>\n",
       "      <td>0</td>\n",
       "      <td>48772</td>\n",
       "      <td>операции с жильем</td>\n",
       "      <td>D</td>\n",
       "      <td>операции с недвижимостью</td>\n",
       "    </tr>\n",
       "    <tr>\n",
       "      <th>15822</th>\n",
       "      <td>5</td>\n",
       "      <td>418.199982</td>\n",
       "      <td>31</td>\n",
       "      <td>среднее</td>\n",
       "      <td>1</td>\n",
       "      <td>женат / замужем</td>\n",
       "      <td>0</td>\n",
       "      <td>F</td>\n",
       "      <td>сотрудник</td>\n",
       "      <td>0</td>\n",
       "      <td>77552</td>\n",
       "      <td>сделка с подержанным автомобилем</td>\n",
       "      <td>C</td>\n",
       "      <td>операции с автомобилем</td>\n",
       "    </tr>\n",
       "    <tr>\n",
       "      <th>15916</th>\n",
       "      <td>5</td>\n",
       "      <td>2286.262752</td>\n",
       "      <td>37</td>\n",
       "      <td>среднее</td>\n",
       "      <td>1</td>\n",
       "      <td>женат / замужем</td>\n",
       "      <td>0</td>\n",
       "      <td>F</td>\n",
       "      <td>сотрудник</td>\n",
       "      <td>0</td>\n",
       "      <td>256698</td>\n",
       "      <td>покупка недвижимости</td>\n",
       "      <td>B</td>\n",
       "      <td>операции с недвижимостью</td>\n",
       "    </tr>\n",
       "    <tr>\n",
       "      <th>16211</th>\n",
       "      <td>5</td>\n",
       "      <td>387.317579</td>\n",
       "      <td>35</td>\n",
       "      <td>среднее</td>\n",
       "      <td>1</td>\n",
       "      <td>гражданский брак</td>\n",
       "      <td>1</td>\n",
       "      <td>F</td>\n",
       "      <td>госслужащий</td>\n",
       "      <td>0</td>\n",
       "      <td>126102</td>\n",
       "      <td>на проведение свадьбы</td>\n",
       "      <td>C</td>\n",
       "      <td>проведение свадьбы</td>\n",
       "    </tr>\n",
       "    <tr>\n",
       "      <th>20452</th>\n",
       "      <td>5</td>\n",
       "      <td>268.425464</td>\n",
       "      <td>38</td>\n",
       "      <td>начальное</td>\n",
       "      <td>3</td>\n",
       "      <td>женат / замужем</td>\n",
       "      <td>0</td>\n",
       "      <td>F</td>\n",
       "      <td>сотрудник</td>\n",
       "      <td>0</td>\n",
       "      <td>212545</td>\n",
       "      <td>заняться высшим образованием</td>\n",
       "      <td>B</td>\n",
       "      <td>получение образования</td>\n",
       "    </tr>\n",
       "    <tr>\n",
       "      <th>20837</th>\n",
       "      <td>5</td>\n",
       "      <td>2386.600221</td>\n",
       "      <td>35</td>\n",
       "      <td>среднее</td>\n",
       "      <td>1</td>\n",
       "      <td>женат / замужем</td>\n",
       "      <td>0</td>\n",
       "      <td>F</td>\n",
       "      <td>компаньон</td>\n",
       "      <td>0</td>\n",
       "      <td>204241</td>\n",
       "      <td>жилье</td>\n",
       "      <td>B</td>\n",
       "      <td>операции с недвижимостью</td>\n",
       "    </tr>\n",
       "    <tr>\n",
       "      <th>21156</th>\n",
       "      <td>5</td>\n",
       "      <td>1690.018117</td>\n",
       "      <td>59</td>\n",
       "      <td>среднее</td>\n",
       "      <td>1</td>\n",
       "      <td>женат / замужем</td>\n",
       "      <td>0</td>\n",
       "      <td>M</td>\n",
       "      <td>сотрудник</td>\n",
       "      <td>0</td>\n",
       "      <td>269068</td>\n",
       "      <td>операции со своей недвижимостью</td>\n",
       "      <td>B</td>\n",
       "      <td>операции с недвижимостью</td>\n",
       "    </tr>\n",
       "  </tbody>\n",
       "</table>\n",
       "</div>"
      ],
      "text/plain": [
       "       children  days_employed  dob_years  education  education_id  \\\n",
       "3979          5    1572.328285         42    среднее             1   \n",
       "4397          5    3248.839837         36    среднее             1   \n",
       "7866          5     773.124856         36    среднее             1   \n",
       "15822         5     418.199982         31    среднее             1   \n",
       "15916         5    2286.262752         37    среднее             1   \n",
       "16211         5     387.317579         35    среднее             1   \n",
       "20452         5     268.425464         38  начальное             3   \n",
       "20837         5    2386.600221         35    среднее             1   \n",
       "21156         5    1690.018117         59    среднее             1   \n",
       "\n",
       "          family_status  family_status_id gender  income_type  debt  \\\n",
       "3979   гражданский брак                 1      M    сотрудник     0   \n",
       "4397    женат / замужем                 0      F    компаньон     0   \n",
       "7866    женат / замужем                 0      F    сотрудник     0   \n",
       "15822   женат / замужем                 0      F    сотрудник     0   \n",
       "15916   женат / замужем                 0      F    сотрудник     0   \n",
       "16211  гражданский брак                 1      F  госслужащий     0   \n",
       "20452   женат / замужем                 0      F    сотрудник     0   \n",
       "20837   женат / замужем                 0      F    компаньон     0   \n",
       "21156   женат / замужем                 0      M    сотрудник     0   \n",
       "\n",
       "       total_income                           purpose total_income_category  \\\n",
       "3979         142594      на покупку своего автомобиля                     C   \n",
       "4397         168460          операции с недвижимостью                     C   \n",
       "7866          48772                 операции с жильем                     D   \n",
       "15822         77552  сделка с подержанным автомобилем                     C   \n",
       "15916        256698              покупка недвижимости                     B   \n",
       "16211        126102             на проведение свадьбы                     C   \n",
       "20452        212545      заняться высшим образованием                     B   \n",
       "20837        204241                             жилье                     B   \n",
       "21156        269068   операции со своей недвижимостью                     B   \n",
       "\n",
       "               purpose_category  \n",
       "3979     операции с автомобилем  \n",
       "4397   операции с недвижимостью  \n",
       "7866   операции с недвижимостью  \n",
       "15822    операции с автомобилем  \n",
       "15916  операции с недвижимостью  \n",
       "16211        проведение свадьбы  \n",
       "20452     получение образования  \n",
       "20837  операции с недвижимостью  \n",
       "21156  операции с недвижимостью  "
      ]
     },
     "execution_count": 23,
     "metadata": {},
     "output_type": "execute_result"
    }
   ],
   "source": [
    "data.loc[data['children'] == 5]"
   ]
  },
  {
   "cell_type": "markdown",
   "id": "d42d0369-401c-4d13-89ae-661bc393852a",
   "metadata": {},
   "source": [
    "Такое большое количество детей имеют уже достаточно взрослые, ответственные люди. Чаще всего они женаты, имеют среднее образование и большую заработную плату."
   ]
  },
  {
   "cell_type": "markdown",
   "id": "cf42cea4-79a1-459a-9834-22ad0da484e5",
   "metadata": {},
   "source": [
    "* Поставим вопрос: какой процент клиентов в каждой категории стали должниками в ранее выданных кредитах?"
   ]
  },
  {
   "cell_type": "code",
   "execution_count": 24,
   "id": "00e9c7a3-9cbc-4517-8baf-ea401bba3a61",
   "metadata": {},
   "outputs": [
    {
     "data": {
      "text/html": [
       "<div>\n",
       "<style scoped>\n",
       "    .dataframe tbody tr th:only-of-type {\n",
       "        vertical-align: middle;\n",
       "    }\n",
       "\n",
       "    .dataframe tbody tr th {\n",
       "        vertical-align: top;\n",
       "    }\n",
       "\n",
       "    .dataframe thead tr th {\n",
       "        text-align: left;\n",
       "    }\n",
       "\n",
       "    .dataframe thead tr:last-of-type th {\n",
       "        text-align: right;\n",
       "    }\n",
       "</style>\n",
       "<table border=\"1\" class=\"dataframe\">\n",
       "  <thead>\n",
       "    <tr>\n",
       "      <th></th>\n",
       "      <th colspan=\"2\" halign=\"left\">debt</th>\n",
       "      <th>percent</th>\n",
       "    </tr>\n",
       "    <tr>\n",
       "      <th></th>\n",
       "      <th>sum</th>\n",
       "      <th>count</th>\n",
       "      <th></th>\n",
       "    </tr>\n",
       "    <tr>\n",
       "      <th>children</th>\n",
       "      <th></th>\n",
       "      <th></th>\n",
       "      <th></th>\n",
       "    </tr>\n",
       "  </thead>\n",
       "  <tbody>\n",
       "    <tr>\n",
       "      <th>0</th>\n",
       "      <td>1063</td>\n",
       "      <td>14091</td>\n",
       "      <td>7.543822</td>\n",
       "    </tr>\n",
       "    <tr>\n",
       "      <th>1</th>\n",
       "      <td>444</td>\n",
       "      <td>4808</td>\n",
       "      <td>9.234609</td>\n",
       "    </tr>\n",
       "    <tr>\n",
       "      <th>2</th>\n",
       "      <td>194</td>\n",
       "      <td>2052</td>\n",
       "      <td>9.454191</td>\n",
       "    </tr>\n",
       "    <tr>\n",
       "      <th>3</th>\n",
       "      <td>27</td>\n",
       "      <td>330</td>\n",
       "      <td>8.181818</td>\n",
       "    </tr>\n",
       "    <tr>\n",
       "      <th>4</th>\n",
       "      <td>4</td>\n",
       "      <td>41</td>\n",
       "      <td>9.756098</td>\n",
       "    </tr>\n",
       "    <tr>\n",
       "      <th>5</th>\n",
       "      <td>0</td>\n",
       "      <td>9</td>\n",
       "      <td>0.000000</td>\n",
       "    </tr>\n",
       "  </tbody>\n",
       "</table>\n",
       "</div>"
      ],
      "text/plain": [
       "          debt          percent\n",
       "           sum  count          \n",
       "children                       \n",
       "0         1063  14091  7.543822\n",
       "1          444   4808  9.234609\n",
       "2          194   2052  9.454191\n",
       "3           27    330  8.181818\n",
       "4            4     41  9.756098\n",
       "5            0      9  0.000000"
      ]
     },
     "execution_count": 24,
     "metadata": {},
     "output_type": "execute_result"
    }
   ],
   "source": [
    "data_percent = data.groupby('children').agg({'debt':['sum','count']})\n",
    "def percent(axis):\n",
    "    return (axis['sum']/axis['count'])*100\n",
    "data_percent['percent'] = data_percent['debt'].apply(percent, axis = 1)\n",
    "data_percent"
   ]
  },
  {
   "cell_type": "markdown",
   "id": "e56b1d3d-fb0d-4b56-a602-e0392cc90355",
   "metadata": {},
   "source": [
    "**Вывод:** Зависимость между количеством детей в семье и возвратом кредита в срок безусловно есть, но она не линейно зависит от числа детей. Реже всего становятся должниками бездетная категория клиентов. Семьи, которые имеют одного и более ребёнка, на 1-2% вероятнее задержат платёж. В нашем исследовании класс многодетной семьи сильно выбился из гипотезы. Данное отклонение можно объяснить тем, что выборка таких клиентов совсем небольшая (9 человек). Чаще всего они женаты, имеют среднее образование и большую заработную плату."
   ]
  },
  {
   "cell_type": "markdown",
   "id": "b36c1414-440c-4774-b966-b68e6d717990",
   "metadata": {},
   "source": [
    "### 3.2. Существует ли зависимость между семейным положением и возвратом кредита в срок?"
   ]
  },
  {
   "cell_type": "markdown",
   "id": "60c4a43b-e1c0-411a-88b0-d475ed71b316",
   "metadata": {},
   "source": [
    "* Выведем на экран уникальные значения столбца `family_status` и посчитаем частоту встречаемости в таблице."
   ]
  },
  {
   "cell_type": "code",
   "execution_count": 25,
   "id": "40f4151a-234e-47ca-8a6f-1b2b7f1759e3",
   "metadata": {},
   "outputs": [
    {
     "data": {
      "text/plain": [
       "family_status\n",
       "женат / замужем          12261\n",
       "гражданский брак          4134\n",
       "Не женат / не замужем     2796\n",
       "в разводе                 1189\n",
       "вдовец / вдова             951\n",
       "dtype: int64"
      ]
     },
     "execution_count": 25,
     "metadata": {},
     "output_type": "execute_result"
    }
   ],
   "source": [
    "data.value_counts('family_status')"
   ]
  },
  {
   "cell_type": "markdown",
   "id": "b5f7785b-c745-4782-88aa-437d1acdbfe6",
   "metadata": {},
   "source": [
    "В таблице встречаются значения, написанные в разном регистре. Исправим их методом lower()."
   ]
  },
  {
   "cell_type": "code",
   "execution_count": 26,
   "id": "e54db60c-abf8-4e24-83f8-3089d3d5e156",
   "metadata": {},
   "outputs": [
    {
     "data": {
      "text/plain": [
       "family_status\n",
       "женат / замужем          12261\n",
       "гражданский брак          4134\n",
       "не женат / не замужем     2796\n",
       "в разводе                 1189\n",
       "вдовец / вдова             951\n",
       "dtype: int64"
      ]
     },
     "execution_count": 26,
     "metadata": {},
     "output_type": "execute_result"
    }
   ],
   "source": [
    "data['family_status'] = data['family_status'].str.lower()\n",
    "data.value_counts('family_status')"
   ]
  },
  {
   "cell_type": "markdown",
   "id": "ea52bdc3-9346-426b-be6a-70fac5b58da0",
   "metadata": {},
   "source": [
    "* Сгруппируем таблицу по семейному положению и посчитаем среднее число-идентификатор задолженности клиентов в зависимости от семейного статуса."
   ]
  },
  {
   "cell_type": "code",
   "execution_count": 27,
   "id": "c7dd957b-62a6-42f0-b8d1-6ad3acec669a",
   "metadata": {},
   "outputs": [
    {
     "data": {
      "text/plain": [
       "family_status\n",
       "в разводе                0.070648\n",
       "вдовец / вдова           0.066246\n",
       "гражданский брак         0.093130\n",
       "женат / замужем          0.075606\n",
       "не женат / не замужем    0.097639\n",
       "Name: debt, dtype: float64"
      ]
     },
     "execution_count": 27,
     "metadata": {},
     "output_type": "execute_result"
    }
   ],
   "source": [
    "data.groupby('family_status')['debt'].mean()"
   ]
  },
  {
   "cell_type": "markdown",
   "id": "a72bd518-28e8-4070-bbfd-6fc24b220969",
   "metadata": {},
   "source": [
    "* Отсортируем выборку в порядке возрастания средней задолженности, выраженной в процентах."
   ]
  },
  {
   "cell_type": "code",
   "execution_count": 28,
   "id": "390fb9a7-702c-44c0-9cb7-de091e061878",
   "metadata": {
    "scrolled": true
   },
   "outputs": [
    {
     "data": {
      "text/html": [
       "<div>\n",
       "<style scoped>\n",
       "    .dataframe tbody tr th:only-of-type {\n",
       "        vertical-align: middle;\n",
       "    }\n",
       "\n",
       "    .dataframe tbody tr th {\n",
       "        vertical-align: top;\n",
       "    }\n",
       "\n",
       "    .dataframe thead th {\n",
       "        text-align: right;\n",
       "    }\n",
       "</style>\n",
       "<table border=\"1\" class=\"dataframe\">\n",
       "  <thead>\n",
       "    <tr style=\"text-align: right;\">\n",
       "      <th></th>\n",
       "      <th>family_status</th>\n",
       "      <th>sum_debt</th>\n",
       "      <th>count_debt</th>\n",
       "      <th>mean_debt</th>\n",
       "    </tr>\n",
       "  </thead>\n",
       "  <tbody>\n",
       "    <tr>\n",
       "      <th>1</th>\n",
       "      <td>вдовец / вдова</td>\n",
       "      <td>63</td>\n",
       "      <td>951</td>\n",
       "      <td>6.624606</td>\n",
       "    </tr>\n",
       "    <tr>\n",
       "      <th>0</th>\n",
       "      <td>в разводе</td>\n",
       "      <td>84</td>\n",
       "      <td>1189</td>\n",
       "      <td>7.064760</td>\n",
       "    </tr>\n",
       "    <tr>\n",
       "      <th>3</th>\n",
       "      <td>женат / замужем</td>\n",
       "      <td>927</td>\n",
       "      <td>12261</td>\n",
       "      <td>7.560558</td>\n",
       "    </tr>\n",
       "    <tr>\n",
       "      <th>2</th>\n",
       "      <td>гражданский брак</td>\n",
       "      <td>385</td>\n",
       "      <td>4134</td>\n",
       "      <td>9.313014</td>\n",
       "    </tr>\n",
       "    <tr>\n",
       "      <th>4</th>\n",
       "      <td>не женат / не замужем</td>\n",
       "      <td>273</td>\n",
       "      <td>2796</td>\n",
       "      <td>9.763948</td>\n",
       "    </tr>\n",
       "  </tbody>\n",
       "</table>\n",
       "</div>"
      ],
      "text/plain": [
       "           family_status  sum_debt  count_debt  mean_debt\n",
       "1         вдовец / вдова        63         951   6.624606\n",
       "0              в разводе        84        1189   7.064760\n",
       "3        женат / замужем       927       12261   7.560558\n",
       "2       гражданский брак       385        4134   9.313014\n",
       "4  не женат / не замужем       273        2796   9.763948"
      ]
     },
     "execution_count": 28,
     "metadata": {},
     "output_type": "execute_result"
    }
   ],
   "source": [
    "data_family = data.groupby('family_status').agg({'debt':['sum','count']}).reset_index()\n",
    "def family(axis):\n",
    "    return (axis['sum']/axis['count'])*100\n",
    "data_family['mean_debt'] = data_family['debt'].apply(family, axis = 1)\n",
    "data_family = data_family.sort_values('mean_debt')\n",
    "data_family.columns = ['family_status', 'sum_debt', 'count_debt', 'mean_debt']\n",
    "data_family"
   ]
  },
  {
   "cell_type": "markdown",
   "id": "23792ce0-1505-4830-90ed-f11426d8d657",
   "metadata": {},
   "source": [
    "* Построим столбчатую диаграмму зависимости среднего идентификатора задолженности (в %) от семейного положения."
   ]
  },
  {
   "cell_type": "code",
   "execution_count": 29,
   "id": "e632036e-f218-4db9-b228-1094a14d129b",
   "metadata": {},
   "outputs": [
    {
     "data": {
      "image/png": "[encoded data removed]",
      "text/plain": [
       "<Figure size 500x300 with 1 Axes>"
      ]
     },
     "metadata": {},
     "output_type": "display_data"
    }
   ],
   "source": [
    "plt.figure(figsize=(5, 3))\n",
    "sns.barplot(y='family_status',x='mean_debt',data = data_family, color='b', alpha=0.3)\n",
    "plt.title('Диаграмма зависимости среднего идентификатора задолженности (в %) от семейного положения')\n",
    "plt.xlabel('Задолженность(%)')\n",
    "plt.ylabel('Семейный статус')\n",
    "plt.show() "
   ]
  },
  {
   "cell_type": "markdown",
   "id": "ee9d9141-a760-4ef0-887a-6db9f5264dc2",
   "metadata": {},
   "source": [
    "**Вывод:** Зависимость между семейным положением клиентов и возвратом кредита в срок есть. Чаще всего задерживают платежи холостые клиенты. При вступлении в брак клиенты оказываются должниками немного реже. Самой малочисленной категорией по задержке кредитов оказались клиенты в разводе или потерявшие своего супруга."
   ]
  },
  {
   "cell_type": "markdown",
   "id": "327a837c-52e0-49e8-915c-f3a7a4fdf3c7",
   "metadata": {},
   "source": [
    "### 3.3. Есть ли зависимость между уровнем дохода и возвратом кредита в срок?"
   ]
  },
  {
   "cell_type": "markdown",
   "id": "7da22f73-d23c-4c66-a819-f05e03452644",
   "metadata": {},
   "source": [
    "Ранее мы разбивали доход клиентов по категориям, где\n",
    "- доход 0–30000 — категория 'E';\n",
    "- 30001–50000 — 'D';\n",
    "- 50001–200000 — 'C';\n",
    "- 200001–1000000 — 'B';\n",
    "- 1000001 и выше — 'A'."
   ]
  },
  {
   "cell_type": "markdown",
   "id": "6422e313-b888-46c6-901e-59559a7e0e91",
   "metadata": {},
   "source": [
    "* Определим численность каждой категории."
   ]
  },
  {
   "cell_type": "code",
   "execution_count": 30,
   "id": "99245945-1cdc-46e8-8830-54431f8e3b3e",
   "metadata": {},
   "outputs": [
    {
     "data": {
      "text/plain": [
       "C    15921\n",
       "B     5014\n",
       "D      349\n",
       "A       25\n",
       "E       22\n",
       "Name: total_income_category, dtype: int64"
      ]
     },
     "execution_count": 30,
     "metadata": {},
     "output_type": "execute_result"
    }
   ],
   "source": [
    "data['total_income_category'].value_counts()"
   ]
  },
  {
   "cell_type": "markdown",
   "id": "b626f5d1-d60b-48dc-80e6-a570455be1a3",
   "metadata": {},
   "source": [
    "Большинство клиентов имеют доход от 50тыс до 200тыс, низкий доход (<50тыс) и высокий (>1млн) имеют немногие клиенты."
   ]
  },
  {
   "cell_type": "markdown",
   "id": "465bb40a-8298-4c00-a4ed-64a8745b525a",
   "metadata": {},
   "source": [
    "* Сгруппируем таблицу по категории дохода и посчитаем среднее число-идентификатор задолженности клиентов в зависимости от дохода."
   ]
  },
  {
   "cell_type": "code",
   "execution_count": 31,
   "id": "2505ce07-0c09-4b2a-b6b4-3c2bb87e7b77",
   "metadata": {},
   "outputs": [
    {
     "data": {
      "text/html": [
       "<div>\n",
       "<style scoped>\n",
       "    .dataframe tbody tr th:only-of-type {\n",
       "        vertical-align: middle;\n",
       "    }\n",
       "\n",
       "    .dataframe tbody tr th {\n",
       "        vertical-align: top;\n",
       "    }\n",
       "\n",
       "    .dataframe thead th {\n",
       "        text-align: right;\n",
       "    }\n",
       "</style>\n",
       "<table border=\"1\" class=\"dataframe\">\n",
       "  <thead>\n",
       "    <tr style=\"text-align: right;\">\n",
       "      <th></th>\n",
       "      <th>total_income_category</th>\n",
       "      <th>debt_mean</th>\n",
       "    </tr>\n",
       "  </thead>\n",
       "  <tbody>\n",
       "    <tr>\n",
       "      <th>0</th>\n",
       "      <td>A</td>\n",
       "      <td>8.000000</td>\n",
       "    </tr>\n",
       "    <tr>\n",
       "      <th>1</th>\n",
       "      <td>B</td>\n",
       "      <td>7.060231</td>\n",
       "    </tr>\n",
       "    <tr>\n",
       "      <th>2</th>\n",
       "      <td>C</td>\n",
       "      <td>8.498210</td>\n",
       "    </tr>\n",
       "    <tr>\n",
       "      <th>3</th>\n",
       "      <td>D</td>\n",
       "      <td>6.017192</td>\n",
       "    </tr>\n",
       "    <tr>\n",
       "      <th>4</th>\n",
       "      <td>E</td>\n",
       "      <td>9.090909</td>\n",
       "    </tr>\n",
       "  </tbody>\n",
       "</table>\n",
       "</div>"
      ],
      "text/plain": [
       "  total_income_category  debt_mean\n",
       "0                     A   8.000000\n",
       "1                     B   7.060231\n",
       "2                     C   8.498210\n",
       "3                     D   6.017192\n",
       "4                     E   9.090909"
      ]
     },
     "execution_count": 31,
     "metadata": {},
     "output_type": "execute_result"
    }
   ],
   "source": [
    "data_category = data.groupby('total_income_category').agg({'debt':['mean']}).reset_index()\n",
    "data_category.columns = ['total_income_category', 'debt_mean']\n",
    "data_category['debt_mean']=data_category['debt_mean']*100\n",
    "data_category"
   ]
  },
  {
   "cell_type": "code",
   "execution_count": 32,
   "id": "fe0ad0d2-bbf9-444f-995f-68c39819468b",
   "metadata": {},
   "outputs": [
    {
     "data": {
      "image/png": "[encoded data removed]",
      "text/plain": [
       "<Figure size 500x300 with 1 Axes>"
      ]
     },
     "metadata": {},
     "output_type": "display_data"
    }
   ],
   "source": [
    "plt.figure(figsize=(5, 3))\n",
    "sns.barplot(y='total_income_category',x='debt_mean',data = data_category.sort_values(by = 'debt_mean', ascending=False), \n",
    "            color='blue', alpha=0.2)\n",
    "plt.title('Диаграмма зависимости среднего идентификатора задолженности (в %) от категории дохода')\n",
    "plt.xlabel('Задолженность(%)')\n",
    "plt.ylabel('Категория дохода')\n",
    "plt.show() "
   ]
  },
  {
   "cell_type": "markdown",
   "id": "547b65b5-ea4a-4b96-a6a1-e4e1ba9a7c1d",
   "metadata": {},
   "source": [
    "Заёмщики с доходом 30-50тыс. стараются погасить кредит в срок. Процент их задолжности ~6%. Клиенты с доходом 50-200тыс и до 30тыс. рублей имеют самый высокий процент задолженности в банке."
   ]
  },
  {
   "cell_type": "markdown",
   "id": "f73d69da-2b0f-422b-89c0-98fc4672c441",
   "metadata": {},
   "source": [
    "* Построим повнимательнее на наиболее многочисленную категорию клиентов, то есть на клиентов со средним доходом. Разобъём их на подкатегории:\n",
    "- доход 50001-70000 — категория `60`;\n",
    "- 70001–90000 — `80`;\n",
    "- 90001–110000 — `100`;\n",
    "- 110001–130000 — `120` и т.д."
   ]
  },
  {
   "cell_type": "code",
   "execution_count": 33,
   "id": "543b58be-45cb-4b06-8183-3d0cb026f5d3",
   "metadata": {},
   "outputs": [
    {
     "data": {
      "text/html": [
       "<div>\n",
       "<style scoped>\n",
       "    .dataframe tbody tr th:only-of-type {\n",
       "        vertical-align: middle;\n",
       "    }\n",
       "\n",
       "    .dataframe tbody tr th {\n",
       "        vertical-align: top;\n",
       "    }\n",
       "\n",
       "    .dataframe thead th {\n",
       "        text-align: right;\n",
       "    }\n",
       "</style>\n",
       "<table border=\"1\" class=\"dataframe\">\n",
       "  <thead>\n",
       "    <tr style=\"text-align: right;\">\n",
       "      <th></th>\n",
       "      <th>children</th>\n",
       "      <th>days_employed</th>\n",
       "      <th>dob_years</th>\n",
       "      <th>education</th>\n",
       "      <th>education_id</th>\n",
       "      <th>family_status</th>\n",
       "      <th>family_status_id</th>\n",
       "      <th>gender</th>\n",
       "      <th>income_type</th>\n",
       "      <th>debt</th>\n",
       "      <th>total_income</th>\n",
       "      <th>purpose</th>\n",
       "      <th>total_income_category</th>\n",
       "      <th>purpose_category</th>\n",
       "      <th>total_income_average_category</th>\n",
       "    </tr>\n",
       "  </thead>\n",
       "  <tbody>\n",
       "    <tr>\n",
       "      <th>12944</th>\n",
       "      <td>1</td>\n",
       "      <td>715.177180</td>\n",
       "      <td>43</td>\n",
       "      <td>среднее</td>\n",
       "      <td>1</td>\n",
       "      <td>женат / замужем</td>\n",
       "      <td>0</td>\n",
       "      <td>M</td>\n",
       "      <td>сотрудник</td>\n",
       "      <td>0</td>\n",
       "      <td>50025</td>\n",
       "      <td>получение высшего образования</td>\n",
       "      <td>C</td>\n",
       "      <td>получение образования</td>\n",
       "      <td>60</td>\n",
       "    </tr>\n",
       "    <tr>\n",
       "      <th>15365</th>\n",
       "      <td>0</td>\n",
       "      <td>331511.396390</td>\n",
       "      <td>53</td>\n",
       "      <td>среднее</td>\n",
       "      <td>1</td>\n",
       "      <td>женат / замужем</td>\n",
       "      <td>0</td>\n",
       "      <td>F</td>\n",
       "      <td>пенсионер</td>\n",
       "      <td>0</td>\n",
       "      <td>50097</td>\n",
       "      <td>заняться высшим образованием</td>\n",
       "      <td>C</td>\n",
       "      <td>получение образования</td>\n",
       "      <td>60</td>\n",
       "    </tr>\n",
       "    <tr>\n",
       "      <th>15461</th>\n",
       "      <td>0</td>\n",
       "      <td>371258.560514</td>\n",
       "      <td>66</td>\n",
       "      <td>высшее</td>\n",
       "      <td>0</td>\n",
       "      <td>женат / замужем</td>\n",
       "      <td>0</td>\n",
       "      <td>F</td>\n",
       "      <td>пенсионер</td>\n",
       "      <td>0</td>\n",
       "      <td>50135</td>\n",
       "      <td>покупка жилья для семьи</td>\n",
       "      <td>C</td>\n",
       "      <td>операции с недвижимостью</td>\n",
       "      <td>60</td>\n",
       "    </tr>\n",
       "    <tr>\n",
       "      <th>2421</th>\n",
       "      <td>0</td>\n",
       "      <td>399346.699131</td>\n",
       "      <td>61</td>\n",
       "      <td>высшее</td>\n",
       "      <td>0</td>\n",
       "      <td>женат / замужем</td>\n",
       "      <td>0</td>\n",
       "      <td>M</td>\n",
       "      <td>пенсионер</td>\n",
       "      <td>0</td>\n",
       "      <td>50149</td>\n",
       "      <td>покупка коммерческой недвижимости</td>\n",
       "      <td>C</td>\n",
       "      <td>операции с недвижимостью</td>\n",
       "      <td>60</td>\n",
       "    </tr>\n",
       "    <tr>\n",
       "      <th>14688</th>\n",
       "      <td>1</td>\n",
       "      <td>148.516486</td>\n",
       "      <td>48</td>\n",
       "      <td>среднее</td>\n",
       "      <td>1</td>\n",
       "      <td>женат / замужем</td>\n",
       "      <td>0</td>\n",
       "      <td>F</td>\n",
       "      <td>сотрудник</td>\n",
       "      <td>0</td>\n",
       "      <td>50160</td>\n",
       "      <td>получение высшего образования</td>\n",
       "      <td>C</td>\n",
       "      <td>получение образования</td>\n",
       "      <td>60</td>\n",
       "    </tr>\n",
       "  </tbody>\n",
       "</table>\n",
       "</div>"
      ],
      "text/plain": [
       "       children  days_employed  dob_years education  education_id  \\\n",
       "12944         1     715.177180         43   среднее             1   \n",
       "15365         0  331511.396390         53   среднее             1   \n",
       "15461         0  371258.560514         66    высшее             0   \n",
       "2421          0  399346.699131         61    высшее             0   \n",
       "14688         1     148.516486         48   среднее             1   \n",
       "\n",
       "         family_status  family_status_id gender income_type  debt  \\\n",
       "12944  женат / замужем                 0      M   сотрудник     0   \n",
       "15365  женат / замужем                 0      F   пенсионер     0   \n",
       "15461  женат / замужем                 0      F   пенсионер     0   \n",
       "2421   женат / замужем                 0      M   пенсионер     0   \n",
       "14688  женат / замужем                 0      F   сотрудник     0   \n",
       "\n",
       "       total_income                            purpose total_income_category  \\\n",
       "12944         50025      получение высшего образования                     C   \n",
       "15365         50097       заняться высшим образованием                     C   \n",
       "15461         50135            покупка жилья для семьи                     C   \n",
       "2421          50149  покупка коммерческой недвижимости                     C   \n",
       "14688         50160      получение высшего образования                     C   \n",
       "\n",
       "               purpose_category total_income_average_category  \n",
       "12944     получение образования                            60  \n",
       "15365     получение образования                            60  \n",
       "15461  операции с недвижимостью                            60  \n",
       "2421   операции с недвижимостью                            60  \n",
       "14688     получение образования                            60  "
      ]
     },
     "execution_count": 33,
     "metadata": {},
     "output_type": "execute_result"
    }
   ],
   "source": [
    "data_average = data.loc[data['total_income'] >= 50001]\n",
    "data_average = data_average.loc[data['total_income'] <= 209964]\n",
    "def categorize_income(income):\n",
    "    try:\n",
    "        if 50001 <= income <= 70000:\n",
    "            return '60'\n",
    "        elif 70001 <= income <= 90000:\n",
    "            return '80'\n",
    "        elif 90001 <= income <= 110000:\n",
    "            return '100'\n",
    "        elif 110001 <= income <= 130000:\n",
    "            return '120'\n",
    "        elif 130001 <= income <= 150000:\n",
    "            return '140'\n",
    "        elif 150001 <= income <= 170000:\n",
    "            return '160'\n",
    "        elif 170001 <= income <= 190000:\n",
    "            return '180'\n",
    "        elif 190001 <= income <= 210000:\n",
    "            return '200'\n",
    "    except:\n",
    "        pass\n",
    "    \n",
    "data_average['total_income_average_category'] = data_average['total_income'].apply(categorize_income)\n",
    "data_average.sort_values(by='total_income').head()"
   ]
  },
  {
   "cell_type": "markdown",
   "id": "11290a96-f2ce-40dd-80d9-4fd11b673da9",
   "metadata": {},
   "source": [
    "* Сгруппируем таблицу по категориям среднего дохода и посчитаем среднее число-идентификатор задолженности клиентов, выраженное в процентах."
   ]
  },
  {
   "cell_type": "code",
   "execution_count": 34,
   "id": "f02f2d53-b20c-44df-b380-8859ef01ba41",
   "metadata": {},
   "outputs": [
    {
     "data": {
      "text/plain": [
       "total_income_average_category\n",
       "100    8.450088\n",
       "120    8.433283\n",
       "140    8.962986\n",
       "160    8.809524\n",
       "180    8.073582\n",
       "200    8.279743\n",
       "60     7.136322\n",
       "80     8.614232\n",
       "Name: debt, dtype: float64"
      ]
     },
     "execution_count": 34,
     "metadata": {},
     "output_type": "execute_result"
    }
   ],
   "source": [
    "data_average.groupby('total_income_average_category')['debt'].mean()*100"
   ]
  },
  {
   "cell_type": "markdown",
   "id": "4eaaf327-67d1-4c04-9bb9-f555a10de2fe",
   "metadata": {},
   "source": [
    "**Вывод:** Из анализа можно сделать вывод, что процент задолжности высок у клиентов с категориями дохода С и Е, то есть с доходом 50-200тыс. и до 30тыс. рублей. Рассмотрев заёмщиклв со средним заработком в 50-200тыс. руб., можно сказать что задолженность слабо зависит от уровня дохода внутри данной группы. "
   ]
  },
  {
   "cell_type": "markdown",
   "id": "5925f0be-7f09-4eb8-9106-7db0d13de4e2",
   "metadata": {},
   "source": [
    "### 3.4. Как разные цели кредита влияют на его возврат в срок?"
   ]
  },
  {
   "cell_type": "markdown",
   "id": "a46bb2c1-42c9-41bc-9004-999dfd4e0ba8",
   "metadata": {},
   "source": [
    "* Ранее мы группировали цели на общие категории. Выведем на экран данные выборки."
   ]
  },
  {
   "cell_type": "code",
   "execution_count": 35,
   "id": "bb8c36a4-6027-4c04-ae8f-1bf025ca92e7",
   "metadata": {},
   "outputs": [
    {
     "data": {
      "text/plain": [
       "array(['операции с недвижимостью', 'операции с автомобилем',\n",
       "       'получение образования', 'проведение свадьбы'], dtype=object)"
      ]
     },
     "execution_count": 35,
     "metadata": {},
     "output_type": "execute_result"
    }
   ],
   "source": [
    "data['purpose_category'].unique()"
   ]
  },
  {
   "cell_type": "markdown",
   "id": "2be8c05d-cb25-4952-a577-787dd609a360",
   "metadata": {},
   "source": [
    "* Посчитаем количество клиентов в каждой группе."
   ]
  },
  {
   "cell_type": "code",
   "execution_count": 36,
   "id": "fea05358-f2fd-4a25-9674-031003343f7d",
   "metadata": {},
   "outputs": [
    {
     "data": {
      "text/plain": [
       "purpose_category\n",
       "операции с недвижимостью    10751\n",
       "операции с автомобилем       4279\n",
       "получение образования        3988\n",
       "проведение свадьбы           2313\n",
       "dtype: int64"
      ]
     },
     "execution_count": 36,
     "metadata": {},
     "output_type": "execute_result"
    }
   ],
   "source": [
    "data.value_counts('purpose_category')"
   ]
  },
  {
   "cell_type": "markdown",
   "id": "b7ded20d-d57d-4604-8155-49181b74f7c2",
   "metadata": {},
   "source": [
    "Чаще всего берут кредит на операции с недвижимостью, реже всего на проведение свадьбы, средние показатели имеют операции с автомобилем и кредиты на получение образования."
   ]
  },
  {
   "cell_type": "markdown",
   "id": "bac59ee9-23b6-439d-9002-8ad6c9a174c2",
   "metadata": {},
   "source": [
    "* Посчитаем среднюю задолженность в каждой из категорий."
   ]
  },
  {
   "cell_type": "code",
   "execution_count": 37,
   "id": "6db59bb7-91f7-4159-8515-4d3184082b64",
   "metadata": {},
   "outputs": [
    {
     "data": {
      "text/plain": [
       "purpose_category\n",
       "операции с автомобилем      9.347978\n",
       "операции с недвижимостью    7.255139\n",
       "получение образования       9.252758\n",
       "проведение свадьбы          7.911803\n",
       "Name: debt, dtype: float64"
      ]
     },
     "execution_count": 37,
     "metadata": {},
     "output_type": "execute_result"
    }
   ],
   "source": [
    "data.groupby('purpose_category')['debt'].mean()*100"
   ]
  },
  {
   "cell_type": "markdown",
   "id": "7cd18ba6-af33-4fd0-9fd5-9ca845f10eee",
   "metadata": {},
   "source": [
    "**Вывод:** Чаще всего задерживают выплату кредита клиенты, цель которых операции с автомобилем и получение образования. Из анализа так же видно, что такие классы считаются как средние по количеству клиентов с данными целями. Реже всего задерживают кредит малочисленная и многочисленная категории: операции с недвижимостью и проведение свадьбы."
   ]
  },
  {
   "cell_type": "markdown",
   "id": "986acccf-f7e6-4f80-b1d3-74cde8a338db",
   "metadata": {},
   "source": [
    "## 4. Общий вывод.<a id='section_id_4'></a>"
   ]
  },
  {
   "cell_type": "markdown",
   "id": "89fb72ac-e1fe-48aa-abf4-f9975effa391",
   "metadata": {},
   "source": [
    "Мы исследовали как наличие детей, семейное положение, уровень дохода клиента и цель кредита могут влиять на погашение кредита в срок. Опишем каждый факт отдельно.\n",
    "\n",
    "* **Наличие детей.**\n",
    "Реже всего становятся должниками бездетная категория клиентов. Семьи, которые имеют одного и более ребёнка, на 1-2% вероятнее задержат платёж. В нашем исследовании класс многодетых семей сильно выбился из гипотезы. Данное отклонение можно объяснить тем, что выборка таких клиентов совсем небольшая (9 человек). Чаще всего они женаты, имеют среднее образование и большую заработную плату. Можно сказать что наличие детей негативно сказывается на способность клиентов покрыть кредит в срок.\n",
    "\n",
    "* **Семейное положение.**\n",
    "Холостые клиенты оказались менее надёжными заёмщиками. При вступлении в брак клиенты оказываются должниками немного реже. Самой малочисленной категорией по задержке кредитов оказались клиенты в разводе или потерявшие своего супруга.\n",
    "\n",
    "* **Уровень дохода.**\n",
    "Из анализа можно сделать вывод, что задолженность клиентов слабо зависит от уровня доходов, однако клиенты с низким и средним уровнем дохода оказываются менее стабильными в выплатах. Средний процент задержки кредита оказался ~6-9%.\n",
    "\n",
    "* **Цель кредита.**\n",
    "При категоризации было обнаружено, что группы \"операции с автомобилем\" и \"получение образования\" средние по частоте взятия кредита, но так же на них приходится большой процент задержки кредита. Самой многочисленной оказалась цель \"операция с недвижимостью\", малочисленной - \"проведение свадьбы\". Выяснилось, что клиенты из данных категорий самые ответственные."
   ]
  }
 ],
 "metadata": {
  "kernelspec": {
   "display_name": "Python 3 (ipykernel)",
   "language": "python",
   "name": "python3"
  },
  "language_info": {
   "codemirror_mode": {
    "name": "ipython",
    "version": 3
   },
   "file_extension": ".py",
   "mimetype": "text/x-python",
   "name": "python",
   "nbconvert_exporter": "python",
   "pygments_lexer": "ipython3",
   "version": "3.9.17"
  }
 },
 "nbformat": 4,
 "nbformat_minor": 5
}
